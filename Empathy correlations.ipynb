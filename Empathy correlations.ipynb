{
 "cells": [
  {
   "cell_type": "code",
   "execution_count": 1,
   "metadata": {
    "collapsed": true
   },
   "outputs": [],
   "source": [
    "%matplotlib inline\n",
    "import numpy as np\n",
    "import pandas as pd\n",
    "import matplotlib.pyplot as plt"
   ]
  },
  {
   "cell_type": "markdown",
   "metadata": {},
   "source": [
    "# Datasets"
   ]
  },
  {
   "cell_type": "code",
   "execution_count": 2,
   "metadata": {
    "collapsed": true
   },
   "outputs": [],
   "source": [
    "data_dir = '/Users/yoninachmany/Documents/CIS599/empathy_for_joao'"
   ]
  },
  {
   "cell_type": "code",
   "execution_count": 3,
   "metadata": {},
   "outputs": [
    {
     "name": "stderr",
     "output_type": "stream",
     "text": [
      "b'Skipping line 957: expected 4 fields, saw 5\\nSkipping line 3183: expected 4 fields, saw 5\\nSkipping line 5183: expected 4 fields, saw 5\\nSkipping line 6530: expected 4 fields, saw 5\\nSkipping line 8065: expected 4 fields, saw 5\\nSkipping line 10124: expected 4 fields, saw 5\\nSkipping line 11369: expected 4 fields, saw 5\\nSkipping line 12904: expected 4 fields, saw 5\\nSkipping line 14296: expected 4 fields, saw 5\\nSkipping line 17074: expected 4 fields, saw 5\\nSkipping line 18601: expected 4 fields, saw 5\\nSkipping line 20138: expected 4 fields, saw 5\\nSkipping line 22618: expected 4 fields, saw 5\\nSkipping line 29458: expected 4 fields, saw 5\\nSkipping line 34935: expected 4 fields, saw 5\\nSkipping line 40493: expected 4 fields, saw 5\\nSkipping line 44561: expected 4 fields, saw 5\\nSkipping line 47159: expected 4 fields, saw 5\\nSkipping line 48698: expected 4 fields, saw 5\\nSkipping line 52793: expected 4 fields, saw 5\\nSkipping line 62783: expected 4 fields, saw 5\\nSkipping line 65909: expected 4 fields, saw 5\\nSkipping line 68771: expected 4 fields, saw 5\\nSkipping line 71889: expected 4 fields, saw 5\\nSkipping line 73258: expected 4 fields, saw 5\\nSkipping line 76887: expected 4 fields, saw 5\\nSkipping line 82377: expected 4 fields, saw 5\\nSkipping line 83946: expected 4 fields, saw 5\\nSkipping line 88132: expected 4 fields, saw 5\\nSkipping line 94074: expected 4 fields, saw 5\\nSkipping line 99246: expected 4 fields, saw 5\\nSkipping line 104233: expected 4 fields, saw 5\\nSkipping line 110853: expected 4 fields, saw 5\\nSkipping line 113380: expected 4 fields, saw 5\\nSkipping line 120298: expected 4 fields, saw 5\\nSkipping line 121717: expected 4 fields, saw 5\\nSkipping line 126282: expected 4 fields, saw 5\\nSkipping line 128757: expected 4 fields, saw 5\\n'\n",
      "b'Skipping line 134595: expected 4 fields, saw 5\\nSkipping line 142777: expected 4 fields, saw 5\\nSkipping line 147469: expected 4 fields, saw 5\\nSkipping line 149891: expected 4 fields, saw 5\\nSkipping line 153870: expected 4 fields, saw 5\\nSkipping line 157250: expected 4 fields, saw 5\\nSkipping line 159700: expected 4 fields, saw 5\\nSkipping line 160935: expected 4 fields, saw 5\\nSkipping line 162876: expected 4 fields, saw 5\\nSkipping line 166044: expected 4 fields, saw 5\\nSkipping line 170074: expected 4 fields, saw 5\\nSkipping line 172262: expected 4 fields, saw 5\\nSkipping line 173524: expected 4 fields, saw 5\\nSkipping line 175210: expected 4 fields, saw 5\\nSkipping line 179381: expected 4 fields, saw 5\\nSkipping line 191510: expected 4 fields, saw 5\\nSkipping line 198517: expected 4 fields, saw 5\\nSkipping line 202148: expected 4 fields, saw 5\\nSkipping line 205231: expected 4 fields, saw 5\\nSkipping line 206752: expected 4 fields, saw 5\\nSkipping line 209381: expected 4 fields, saw 5\\nSkipping line 213475: expected 4 fields, saw 5\\nSkipping line 221132: expected 4 fields, saw 5\\nSkipping line 227161: expected 4 fields, saw 5\\nSkipping line 233522: expected 4 fields, saw 5\\nSkipping line 236631: expected 4 fields, saw 5\\nSkipping line 242469: expected 4 fields, saw 5\\nSkipping line 245105: expected 4 fields, saw 5\\nSkipping line 246461: expected 4 fields, saw 5\\nSkipping line 247435: expected 4 fields, saw 5\\nSkipping line 248634: expected 4 fields, saw 5\\nSkipping line 252081: expected 4 fields, saw 5\\nSkipping line 257729: expected 4 fields, saw 5\\nSkipping line 261157: expected 4 fields, saw 5\\n'\n",
      "b'Skipping line 266266: expected 4 fields, saw 5\\nSkipping line 272244: expected 4 fields, saw 5\\nSkipping line 278943: expected 4 fields, saw 5\\nSkipping line 282144: expected 4 fields, saw 5\\nSkipping line 285127: expected 4 fields, saw 5\\nSkipping line 287182: expected 4 fields, saw 5\\nSkipping line 289860: expected 4 fields, saw 5\\nSkipping line 293346: expected 4 fields, saw 5\\nSkipping line 296256: expected 4 fields, saw 5\\nSkipping line 298210: expected 4 fields, saw 5\\nSkipping line 299599: expected 4 fields, saw 5\\nSkipping line 303977: expected 4 fields, saw 5\\nSkipping line 308354: expected 4 fields, saw 5\\nSkipping line 311006: expected 4 fields, saw 5\\nSkipping line 313563: expected 4 fields, saw 5\\nSkipping line 317504: expected 4 fields, saw 5\\nSkipping line 319061: expected 4 fields, saw 5\\nSkipping line 320899: expected 4 fields, saw 5\\nSkipping line 322195: expected 4 fields, saw 5\\nSkipping line 325183: expected 4 fields, saw 5\\nSkipping line 332011: expected 4 fields, saw 5\\nSkipping line 338463: expected 4 fields, saw 5\\nSkipping line 339928: expected 4 fields, saw 5\\nSkipping line 341381: expected 4 fields, saw 5\\nSkipping line 344424: expected 4 fields, saw 5\\nSkipping line 345993: expected 4 fields, saw 5\\nSkipping line 353141: expected 4 fields, saw 5\\nSkipping line 356499: expected 4 fields, saw 5\\nSkipping line 358928: expected 4 fields, saw 5\\nSkipping line 362684: expected 4 fields, saw 5\\nSkipping line 368200: expected 4 fields, saw 5\\nSkipping line 371336: expected 4 fields, saw 5\\nSkipping line 374452: expected 4 fields, saw 5\\nSkipping line 377105: expected 4 fields, saw 5\\nSkipping line 378719: expected 4 fields, saw 5\\nSkipping line 380553: expected 4 fields, saw 5\\nSkipping line 382870: expected 4 fields, saw 5\\nSkipping line 384333: expected 4 fields, saw 5\\nSkipping line 385805: expected 4 fields, saw 5\\nSkipping line 388405: expected 4 fields, saw 5\\nSkipping line 391408: expected 4 fields, saw 5\\n'\n",
      "b'Skipping line 396685: expected 4 fields, saw 5\\nSkipping line 400794: expected 4 fields, saw 5\\nSkipping line 401969: expected 4 fields, saw 5\\nSkipping line 404290: expected 4 fields, saw 5\\nSkipping line 407573: expected 4 fields, saw 5\\nSkipping line 409976: expected 4 fields, saw 5\\nSkipping line 411394: expected 4 fields, saw 5\\nSkipping line 413285: expected 4 fields, saw 5\\nSkipping line 416049: expected 4 fields, saw 5\\nSkipping line 418210: expected 4 fields, saw 5\\nSkipping line 422319: expected 4 fields, saw 5\\nSkipping line 426810: expected 4 fields, saw 5\\nSkipping line 428297: expected 4 fields, saw 5\\nSkipping line 433596: expected 4 fields, saw 5\\nSkipping line 440919: expected 4 fields, saw 5\\nSkipping line 445614: expected 4 fields, saw 5\\nSkipping line 452479: expected 4 fields, saw 5\\nSkipping line 453631: expected 4 fields, saw 5\\nSkipping line 456350: expected 4 fields, saw 5\\nSkipping line 460042: expected 4 fields, saw 5\\nSkipping line 462614: expected 4 fields, saw 5\\nSkipping line 466890: expected 4 fields, saw 5\\nSkipping line 470043: expected 4 fields, saw 5\\nSkipping line 471244: expected 4 fields, saw 5\\nSkipping line 475187: expected 4 fields, saw 5\\nSkipping line 477124: expected 4 fields, saw 5\\nSkipping line 477962: expected 4 fields, saw 5\\nSkipping line 479092: expected 4 fields, saw 5\\nSkipping line 482297: expected 4 fields, saw 5\\nSkipping line 494804: expected 4 fields, saw 5\\nSkipping line 507935: expected 4 fields, saw 5\\nSkipping line 513792: expected 4 fields, saw 5\\nSkipping line 515320: expected 4 fields, saw 5\\nSkipping line 516854: expected 4 fields, saw 5\\nSkipping line 520127: expected 4 fields, saw 5\\nSkipping line 521325: expected 4 fields, saw 5\\nSkipping line 523223: expected 4 fields, saw 5\\n'\n",
      "b'Skipping line 524756: expected 4 fields, saw 5\\nSkipping line 526521: expected 4 fields, saw 5\\nSkipping line 529389: expected 4 fields, saw 5\\nSkipping line 530866: expected 4 fields, saw 5\\nSkipping line 536642: expected 4 fields, saw 5\\nSkipping line 537804: expected 4 fields, saw 5\\nSkipping line 539255: expected 4 fields, saw 5\\nSkipping line 545893: expected 4 fields, saw 5\\nSkipping line 553533: expected 4 fields, saw 5\\nSkipping line 560511: expected 4 fields, saw 5\\nSkipping line 562277: expected 4 fields, saw 5\\nSkipping line 565843: expected 4 fields, saw 5\\nSkipping line 569331: expected 4 fields, saw 5\\nSkipping line 570696: expected 4 fields, saw 5\\nSkipping line 574815: expected 4 fields, saw 5\\nSkipping line 579744: expected 4 fields, saw 5\\nSkipping line 582855: expected 4 fields, saw 5\\nSkipping line 588285: expected 4 fields, saw 5\\nSkipping line 594136: expected 4 fields, saw 5\\nSkipping line 599590: expected 4 fields, saw 5\\nSkipping line 601910: expected 4 fields, saw 5\\nSkipping line 603057: expected 4 fields, saw 5\\nSkipping line 604397: expected 4 fields, saw 5\\nSkipping line 606634: expected 4 fields, saw 5\\nSkipping line 611238: expected 4 fields, saw 5\\nSkipping line 612068: expected 4 fields, saw 5\\nSkipping line 614290: expected 4 fields, saw 5\\nSkipping line 618910: expected 4 fields, saw 5\\nSkipping line 619791: expected 4 fields, saw 5\\nSkipping line 621780: expected 4 fields, saw 5\\nSkipping line 628063: expected 4 fields, saw 5\\nSkipping line 633511: expected 4 fields, saw 5\\nSkipping line 634330: expected 4 fields, saw 5\\nSkipping line 636408: expected 4 fields, saw 5\\nSkipping line 639902: expected 4 fields, saw 5\\nSkipping line 640816: expected 4 fields, saw 5\\nSkipping line 641727: expected 4 fields, saw 5\\nSkipping line 645376: expected 4 fields, saw 5\\nSkipping line 653276: expected 4 fields, saw 5\\nSkipping line 655277: expected 4 fields, saw 5\\n'\n",
      "b'Skipping line 656163: expected 4 fields, saw 5\\nSkipping line 656653: expected 4 fields, saw 5\\nSkipping line 657875: expected 4 fields, saw 5\\nSkipping line 658939: expected 4 fields, saw 5\\nSkipping line 659763: expected 4 fields, saw 5\\nSkipping line 663530: expected 4 fields, saw 5\\nSkipping line 665642: expected 4 fields, saw 5\\nSkipping line 668012: expected 4 fields, saw 5\\nSkipping line 672661: expected 4 fields, saw 5\\nSkipping line 676780: expected 4 fields, saw 5\\nSkipping line 678597: expected 4 fields, saw 5\\nSkipping line 681478: expected 4 fields, saw 5\\nSkipping line 686825: expected 4 fields, saw 5\\nSkipping line 692018: expected 4 fields, saw 5\\nSkipping line 694144: expected 4 fields, saw 5\\nSkipping line 696464: expected 4 fields, saw 5\\nSkipping line 698817: expected 4 fields, saw 5\\nSkipping line 701774: expected 4 fields, saw 5\\nSkipping line 704113: expected 4 fields, saw 5\\nSkipping line 706084: expected 4 fields, saw 5\\nSkipping line 706573: expected 4 fields, saw 5\\nSkipping line 707593: expected 4 fields, saw 5\\nSkipping line 710819: expected 4 fields, saw 5\\nSkipping line 711759: expected 4 fields, saw 5\\nSkipping line 715100: expected 4 fields, saw 5\\nSkipping line 721925: expected 4 fields, saw 5\\nSkipping line 728823: expected 4 fields, saw 5\\nSkipping line 731715: expected 4 fields, saw 5\\nSkipping line 736639: expected 4 fields, saw 5\\nSkipping line 738741: expected 4 fields, saw 5\\nSkipping line 742646: expected 4 fields, saw 5\\nSkipping line 744344: expected 4 fields, saw 5\\nSkipping line 749507: expected 4 fields, saw 5\\nSkipping line 752086: expected 4 fields, saw 5\\nSkipping line 755546: expected 4 fields, saw 5\\nSkipping line 758283: expected 4 fields, saw 5\\nSkipping line 759964: expected 4 fields, saw 5\\nSkipping line 761917: expected 4 fields, saw 5\\nSkipping line 763555: expected 4 fields, saw 5\\nSkipping line 775251: expected 4 fields, saw 5\\nSkipping line 777391: expected 4 fields, saw 5\\nSkipping line 779647: expected 4 fields, saw 5\\nSkipping line 782243: expected 4 fields, saw 5\\nSkipping line 785188: expected 4 fields, saw 5\\n'\n"
     ]
    },
    {
     "name": "stderr",
     "output_type": "stream",
     "text": [
      "b'Skipping line 792685: expected 4 fields, saw 5\\nSkipping line 801121: expected 4 fields, saw 5\\nSkipping line 805172: expected 4 fields, saw 5\\nSkipping line 811503: expected 4 fields, saw 5\\nSkipping line 813261: expected 4 fields, saw 5\\nSkipping line 815923: expected 4 fields, saw 5\\nSkipping line 817633: expected 4 fields, saw 5\\nSkipping line 819144: expected 4 fields, saw 5\\nSkipping line 821197: expected 4 fields, saw 5\\nSkipping line 823271: expected 4 fields, saw 5\\nSkipping line 824934: expected 4 fields, saw 5\\nSkipping line 828174: expected 4 fields, saw 5\\nSkipping line 829807: expected 4 fields, saw 5\\nSkipping line 835000: expected 4 fields, saw 5\\nSkipping line 838288: expected 4 fields, saw 5\\nSkipping line 839859: expected 4 fields, saw 5\\nSkipping line 840778: expected 4 fields, saw 5\\nSkipping line 843374: expected 4 fields, saw 5\\nSkipping line 848588: expected 4 fields, saw 5\\nSkipping line 849734: expected 4 fields, saw 5\\nSkipping line 853264: expected 4 fields, saw 5\\nSkipping line 859802: expected 4 fields, saw 5\\nSkipping line 861280: expected 4 fields, saw 5\\nSkipping line 866231: expected 4 fields, saw 5\\nSkipping line 868861: expected 4 fields, saw 5\\nSkipping line 871948: expected 4 fields, saw 5\\nSkipping line 874089: expected 4 fields, saw 5\\nSkipping line 875266: expected 4 fields, saw 5\\nSkipping line 881042: expected 4 fields, saw 5\\nSkipping line 882831: expected 4 fields, saw 5\\nSkipping line 886107: expected 4 fields, saw 5\\nSkipping line 889026: expected 4 fields, saw 5\\nSkipping line 892833: expected 4 fields, saw 5\\nSkipping line 894786: expected 4 fields, saw 5\\nSkipping line 896529: expected 4 fields, saw 5\\nSkipping line 897962: expected 4 fields, saw 5\\nSkipping line 900532: expected 4 fields, saw 5\\nSkipping line 902855: expected 4 fields, saw 5\\nSkipping line 906197: expected 4 fields, saw 5\\nSkipping line 912950: expected 4 fields, saw 5\\nSkipping line 916684: expected 4 fields, saw 5\\n'\n",
      "b'Skipping line 918325: expected 4 fields, saw 5\\nSkipping line 921639: expected 4 fields, saw 5\\nSkipping line 923643: expected 4 fields, saw 5\\nSkipping line 925590: expected 4 fields, saw 5\\nSkipping line 929021: expected 4 fields, saw 5\\nSkipping line 929616: expected 4 fields, saw 5\\nSkipping line 932012: expected 4 fields, saw 5\\nSkipping line 933991: expected 4 fields, saw 5\\nSkipping line 936470: expected 4 fields, saw 5\\nSkipping line 937228: expected 4 fields, saw 5\\nSkipping line 938481: expected 4 fields, saw 5\\nSkipping line 941327: expected 4 fields, saw 5\\nSkipping line 943077: expected 4 fields, saw 5\\nSkipping line 945384: expected 4 fields, saw 5\\nSkipping line 948086: expected 4 fields, saw 5\\nSkipping line 949642: expected 4 fields, saw 5\\nSkipping line 952987: expected 4 fields, saw 5\\nSkipping line 957420: expected 4 fields, saw 5\\nSkipping line 961177: expected 4 fields, saw 5\\nSkipping line 962884: expected 4 fields, saw 5\\nSkipping line 963974: expected 4 fields, saw 5\\nSkipping line 965239: expected 4 fields, saw 5\\nSkipping line 968552: expected 4 fields, saw 5\\nSkipping line 973016: expected 4 fields, saw 5\\nSkipping line 976176: expected 4 fields, saw 5\\nSkipping line 980937: expected 4 fields, saw 5\\nSkipping line 983642: expected 4 fields, saw 5\\nSkipping line 985259: expected 4 fields, saw 5\\nSkipping line 987941: expected 4 fields, saw 5\\nSkipping line 989305: expected 4 fields, saw 5\\nSkipping line 990572: expected 4 fields, saw 5\\nSkipping line 993313: expected 4 fields, saw 5\\nSkipping line 997473: expected 4 fields, saw 5\\nSkipping line 998537: expected 4 fields, saw 5\\nSkipping line 1000041: expected 4 fields, saw 5\\nSkipping line 1004151: expected 4 fields, saw 5\\nSkipping line 1008150: expected 4 fields, saw 5\\nSkipping line 1010512: expected 4 fields, saw 5\\nSkipping line 1011514: expected 4 fields, saw 5\\nSkipping line 1012253: expected 4 fields, saw 5\\nSkipping line 1017759: expected 4 fields, saw 5\\nSkipping line 1020477: expected 4 fields, saw 5\\nSkipping line 1024088: expected 4 fields, saw 5\\nSkipping line 1030059: expected 4 fields, saw 5\\nSkipping line 1032207: expected 4 fields, saw 5\\nSkipping line 1037689: expected 4 fields, saw 5\\nSkipping line 1041519: expected 4 fields, saw 5\\nSkipping line 1043109: expected 4 fields, saw 5\\n'\n",
      "b'Skipping line 1049108: expected 4 fields, saw 5\\nSkipping line 1053082: expected 4 fields, saw 5\\nSkipping line 1054334: expected 4 fields, saw 5\\nSkipping line 1055848: expected 4 fields, saw 5\\nSkipping line 1057569: expected 4 fields, saw 5\\nSkipping line 1064649: expected 4 fields, saw 5\\nSkipping line 1067886: expected 4 fields, saw 5\\nSkipping line 1072676: expected 4 fields, saw 5\\nSkipping line 1077372: expected 4 fields, saw 5\\nSkipping line 1081849: expected 4 fields, saw 5\\nSkipping line 1086744: expected 4 fields, saw 5\\nSkipping line 1096535: expected 4 fields, saw 5\\nSkipping line 1098948: expected 4 fields, saw 5\\nSkipping line 1100393: expected 4 fields, saw 5\\nSkipping line 1103831: expected 4 fields, saw 5\\nSkipping line 1107138: expected 4 fields, saw 5\\nSkipping line 1110474: expected 4 fields, saw 5\\nSkipping line 1116132: expected 4 fields, saw 5\\nSkipping line 1118612: expected 4 fields, saw 5\\nSkipping line 1121188: expected 4 fields, saw 5\\nSkipping line 1122894: expected 4 fields, saw 5\\nSkipping line 1126036: expected 4 fields, saw 5\\nSkipping line 1129061: expected 4 fields, saw 5\\nSkipping line 1131030: expected 4 fields, saw 5\\nSkipping line 1135312: expected 4 fields, saw 5\\nSkipping line 1140508: expected 4 fields, saw 5\\nSkipping line 1146357: expected 4 fields, saw 5\\nSkipping line 1149789: expected 4 fields, saw 5\\nSkipping line 1151039: expected 4 fields, saw 5\\nSkipping line 1154331: expected 4 fields, saw 5\\nSkipping line 1160758: expected 4 fields, saw 5\\nSkipping line 1166441: expected 4 fields, saw 5\\nSkipping line 1168762: expected 4 fields, saw 5\\nSkipping line 1175457: expected 4 fields, saw 5\\nSkipping line 1176895: expected 4 fields, saw 5\\n'\n",
      "b'Skipping line 1180927: expected 4 fields, saw 5\\nSkipping line 1187615: expected 4 fields, saw 5\\nSkipping line 1189136: expected 4 fields, saw 5\\nSkipping line 1199923: expected 4 fields, saw 5\\nSkipping line 1206805: expected 4 fields, saw 5\\nSkipping line 1208953: expected 4 fields, saw 5\\nSkipping line 1213276: expected 4 fields, saw 5\\nSkipping line 1214846: expected 4 fields, saw 5\\nSkipping line 1218799: expected 4 fields, saw 5\\nSkipping line 1223479: expected 4 fields, saw 5\\nSkipping line 1226364: expected 4 fields, saw 5\\nSkipping line 1229299: expected 4 fields, saw 5\\nSkipping line 1230679: expected 4 fields, saw 5\\nSkipping line 1233307: expected 4 fields, saw 5\\nSkipping line 1234398: expected 4 fields, saw 5\\nSkipping line 1236428: expected 4 fields, saw 5\\nSkipping line 1241774: expected 4 fields, saw 5\\nSkipping line 1244292: expected 4 fields, saw 5\\nSkipping line 1249896: expected 4 fields, saw 5\\nSkipping line 1254673: expected 4 fields, saw 5\\nSkipping line 1255806: expected 4 fields, saw 5\\nSkipping line 1258317: expected 4 fields, saw 5\\nSkipping line 1263496: expected 4 fields, saw 5\\nSkipping line 1268602: expected 4 fields, saw 5\\nSkipping line 1273057: expected 4 fields, saw 5\\nSkipping line 1275510: expected 4 fields, saw 5\\nSkipping line 1276948: expected 4 fields, saw 5\\nSkipping line 1278851: expected 4 fields, saw 5\\nSkipping line 1280925: expected 4 fields, saw 5\\nSkipping line 1282885: expected 4 fields, saw 5\\nSkipping line 1284992: expected 4 fields, saw 5\\nSkipping line 1285592: expected 4 fields, saw 5\\nSkipping line 1287776: expected 4 fields, saw 5\\nSkipping line 1289937: expected 4 fields, saw 5\\nSkipping line 1296518: expected 4 fields, saw 5\\nSkipping line 1298708: expected 4 fields, saw 5\\nSkipping line 1299996: expected 4 fields, saw 5\\nSkipping line 1301141: expected 4 fields, saw 5\\nSkipping line 1301793: expected 4 fields, saw 5\\nSkipping line 1304963: expected 4 fields, saw 5\\nSkipping line 1306877: expected 4 fields, saw 5\\nSkipping line 1308603: expected 4 fields, saw 5\\n'\n",
      "b'Skipping line 1313742: expected 4 fields, saw 5\\nSkipping line 1315316: expected 4 fields, saw 5\\nSkipping line 1318171: expected 4 fields, saw 5\\nSkipping line 1320860: expected 4 fields, saw 5\\nSkipping line 1324171: expected 4 fields, saw 5\\nSkipping line 1329567: expected 4 fields, saw 5\\nSkipping line 1331992: expected 4 fields, saw 5\\nSkipping line 1332695: expected 4 fields, saw 5\\nSkipping line 1333836: expected 4 fields, saw 5\\nSkipping line 1335401: expected 4 fields, saw 5\\nSkipping line 1338657: expected 4 fields, saw 5\\nSkipping line 1345039: expected 4 fields, saw 5\\nSkipping line 1349301: expected 4 fields, saw 5\\nSkipping line 1351340: expected 4 fields, saw 5\\nSkipping line 1353829: expected 4 fields, saw 5\\nSkipping line 1355553: expected 4 fields, saw 5\\nSkipping line 1358430: expected 4 fields, saw 5\\nSkipping line 1359455: expected 4 fields, saw 5\\nSkipping line 1360178: expected 4 fields, saw 5\\nSkipping line 1362446: expected 4 fields, saw 5\\nSkipping line 1366364: expected 4 fields, saw 5\\nSkipping line 1370950: expected 4 fields, saw 5\\nSkipping line 1371908: expected 4 fields, saw 5\\nSkipping line 1374127: expected 4 fields, saw 5\\nSkipping line 1378744: expected 4 fields, saw 5\\nSkipping line 1380919: expected 4 fields, saw 5\\nSkipping line 1383750: expected 4 fields, saw 5\\nSkipping line 1389340: expected 4 fields, saw 5\\nSkipping line 1393340: expected 4 fields, saw 5\\nSkipping line 1395183: expected 4 fields, saw 5\\nSkipping line 1399215: expected 4 fields, saw 5\\nSkipping line 1402869: expected 4 fields, saw 5\\nSkipping line 1403949: expected 4 fields, saw 5\\nSkipping line 1405235: expected 4 fields, saw 5\\nSkipping line 1408437: expected 4 fields, saw 5\\nSkipping line 1410059: expected 4 fields, saw 5\\nSkipping line 1410923: expected 4 fields, saw 5\\nSkipping line 1411777: expected 4 fields, saw 5\\nSkipping line 1414588: expected 4 fields, saw 5\\nSkipping line 1418252: expected 4 fields, saw 5\\nSkipping line 1424336: expected 4 fields, saw 5\\nSkipping line 1426211: expected 4 fields, saw 5\\nSkipping line 1430950: expected 4 fields, saw 5\\nSkipping line 1435570: expected 4 fields, saw 5\\nSkipping line 1437545: expected 4 fields, saw 5\\nSkipping line 1439362: expected 4 fields, saw 5\\nSkipping line 1440560: expected 4 fields, saw 5\\n'\n",
      "b'Skipping line 1443675: expected 4 fields, saw 5\\nSkipping line 1448556: expected 4 fields, saw 5\\nSkipping line 1449896: expected 4 fields, saw 5\\nSkipping line 1451729: expected 4 fields, saw 5\\nSkipping line 1453897: expected 4 fields, saw 5\\nSkipping line 1455346: expected 4 fields, saw 5\\nSkipping line 1457414: expected 4 fields, saw 5\\nSkipping line 1460580: expected 4 fields, saw 5\\nSkipping line 1466117: expected 4 fields, saw 5\\nSkipping line 1471167: expected 4 fields, saw 5\\nSkipping line 1474220: expected 4 fields, saw 5\\nSkipping line 1475277: expected 4 fields, saw 5\\nSkipping line 1476400: expected 4 fields, saw 5\\nSkipping line 1479033: expected 4 fields, saw 5\\nSkipping line 1480114: expected 4 fields, saw 5\\nSkipping line 1482962: expected 4 fields, saw 5\\nSkipping line 1485028: expected 4 fields, saw 5\\nSkipping line 1486003: expected 4 fields, saw 5\\nSkipping line 1487951: expected 4 fields, saw 5\\nSkipping line 1491564: expected 4 fields, saw 5\\nSkipping line 1494263: expected 4 fields, saw 5\\nSkipping line 1498462: expected 4 fields, saw 5\\nSkipping line 1502031: expected 4 fields, saw 5\\nSkipping line 1504424: expected 4 fields, saw 5\\nSkipping line 1506163: expected 4 fields, saw 5\\nSkipping line 1509866: expected 4 fields, saw 5\\nSkipping line 1515078: expected 4 fields, saw 5\\nSkipping line 1519933: expected 4 fields, saw 5\\nSkipping line 1522644: expected 4 fields, saw 5\\nSkipping line 1525871: expected 4 fields, saw 5\\nSkipping line 1531231: expected 4 fields, saw 5\\nSkipping line 1533041: expected 4 fields, saw 5\\nSkipping line 1536463: expected 4 fields, saw 5\\nSkipping line 1537681: expected 4 fields, saw 5\\nSkipping line 1538808: expected 4 fields, saw 5\\nSkipping line 1541398: expected 4 fields, saw 5\\nSkipping line 1544253: expected 4 fields, saw 5\\nSkipping line 1548219: expected 4 fields, saw 5\\nSkipping line 1551478: expected 4 fields, saw 5\\nSkipping line 1556433: expected 4 fields, saw 5\\nSkipping line 1560038: expected 4 fields, saw 5\\nSkipping line 1562240: expected 4 fields, saw 5\\nSkipping line 1566464: expected 4 fields, saw 5\\nSkipping line 1567723: expected 4 fields, saw 5\\nSkipping line 1569845: expected 4 fields, saw 5\\n'\n"
     ]
    },
    {
     "name": "stderr",
     "output_type": "stream",
     "text": [
      "b'Skipping line 1574910: expected 4 fields, saw 5\\nSkipping line 1577425: expected 4 fields, saw 5\\nSkipping line 1581322: expected 4 fields, saw 5\\nSkipping line 1590928: expected 4 fields, saw 5\\nSkipping line 1592343: expected 4 fields, saw 5\\nSkipping line 1596289: expected 4 fields, saw 5\\nSkipping line 1599392: expected 4 fields, saw 5\\nSkipping line 1600107: expected 4 fields, saw 5\\nSkipping line 1601307: expected 4 fields, saw 5\\nSkipping line 1604086: expected 4 fields, saw 5\\nSkipping line 1606035: expected 4 fields, saw 5\\nSkipping line 1608614: expected 4 fields, saw 5\\nSkipping line 1609756: expected 4 fields, saw 5\\nSkipping line 1611062: expected 4 fields, saw 5\\nSkipping line 1616881: expected 4 fields, saw 5\\nSkipping line 1619002: expected 4 fields, saw 5\\nSkipping line 1621680: expected 4 fields, saw 5\\nSkipping line 1626559: expected 4 fields, saw 5\\nSkipping line 1627701: expected 4 fields, saw 5\\nSkipping line 1629333: expected 4 fields, saw 5\\nSkipping line 1630957: expected 4 fields, saw 5\\nSkipping line 1631942: expected 4 fields, saw 5\\nSkipping line 1638661: expected 4 fields, saw 5\\nSkipping line 1645116: expected 4 fields, saw 5\\nSkipping line 1650747: expected 4 fields, saw 5\\nSkipping line 1653971: expected 4 fields, saw 5\\nSkipping line 1656042: expected 4 fields, saw 5\\nSkipping line 1657050: expected 4 fields, saw 5\\nSkipping line 1661104: expected 4 fields, saw 5\\nSkipping line 1668715: expected 4 fields, saw 5\\nSkipping line 1670543: expected 4 fields, saw 5\\nSkipping line 1672420: expected 4 fields, saw 5\\nSkipping line 1678300: expected 4 fields, saw 5\\nSkipping line 1681010: expected 4 fields, saw 5\\nSkipping line 1684333: expected 4 fields, saw 5\\nSkipping line 1685035: expected 4 fields, saw 5\\nSkipping line 1686011: expected 4 fields, saw 5\\nSkipping line 1687837: expected 4 fields, saw 5\\nSkipping line 1689442: expected 4 fields, saw 5\\nSkipping line 1691756: expected 4 fields, saw 5\\nSkipping line 1693266: expected 4 fields, saw 5\\nSkipping line 1697113: expected 4 fields, saw 5\\nSkipping line 1700926: expected 4 fields, saw 5\\nSkipping line 1702198: expected 4 fields, saw 5\\n'\n",
      "b'Skipping line 1707886: expected 4 fields, saw 5\\nSkipping line 1713897: expected 4 fields, saw 5\\nSkipping line 1718607: expected 4 fields, saw 5\\nSkipping line 1719765: expected 4 fields, saw 5\\nSkipping line 1722935: expected 4 fields, saw 5\\nSkipping line 1726760: expected 4 fields, saw 5\\nSkipping line 1727961: expected 4 fields, saw 5\\nSkipping line 1730345: expected 4 fields, saw 5\\nSkipping line 1736075: expected 4 fields, saw 5\\nSkipping line 1737456: expected 4 fields, saw 5\\nSkipping line 1741461: expected 4 fields, saw 5\\nSkipping line 1743134: expected 4 fields, saw 5\\nSkipping line 1746539: expected 4 fields, saw 5\\nSkipping line 1749352: expected 4 fields, saw 5\\nSkipping line 1754811: expected 4 fields, saw 5\\nSkipping line 1758842: expected 4 fields, saw 5\\nSkipping line 1763610: expected 4 fields, saw 5\\nSkipping line 1769641: expected 4 fields, saw 5\\nSkipping line 1771131: expected 4 fields, saw 5\\nSkipping line 1775485: expected 4 fields, saw 5\\nSkipping line 1777252: expected 4 fields, saw 5\\nSkipping line 1778310: expected 4 fields, saw 5\\nSkipping line 1780642: expected 4 fields, saw 5\\nSkipping line 1789470: expected 4 fields, saw 5\\nSkipping line 1796571: expected 4 fields, saw 5\\nSkipping line 1798988: expected 4 fields, saw 5\\nSkipping line 1801756: expected 4 fields, saw 5\\nSkipping line 1806595: expected 4 fields, saw 5\\nSkipping line 1807877: expected 4 fields, saw 5\\nSkipping line 1809735: expected 4 fields, saw 5\\nSkipping line 1813362: expected 4 fields, saw 5\\nSkipping line 1818777: expected 4 fields, saw 5\\nSkipping line 1821187: expected 4 fields, saw 5\\nSkipping line 1822262: expected 4 fields, saw 5\\nSkipping line 1823375: expected 4 fields, saw 5\\nSkipping line 1824522: expected 4 fields, saw 5\\nSkipping line 1826193: expected 4 fields, saw 5\\nSkipping line 1827512: expected 4 fields, saw 5\\nSkipping line 1830597: expected 4 fields, saw 5\\n'\n",
      "b'Skipping line 1843076: expected 4 fields, saw 5\\nSkipping line 1849411: expected 4 fields, saw 5\\nSkipping line 1850253: expected 4 fields, saw 5\\nSkipping line 1852807: expected 4 fields, saw 5\\nSkipping line 1857593: expected 4 fields, saw 5\\nSkipping line 1859579: expected 4 fields, saw 5\\nSkipping line 1861507: expected 4 fields, saw 5\\nSkipping line 1864485: expected 4 fields, saw 5\\nSkipping line 1867128: expected 4 fields, saw 5\\nSkipping line 1868794: expected 4 fields, saw 5\\nSkipping line 1873670: expected 4 fields, saw 5\\nSkipping line 1877791: expected 4 fields, saw 5\\nSkipping line 1880367: expected 4 fields, saw 5\\nSkipping line 1886797: expected 4 fields, saw 5\\nSkipping line 1888321: expected 4 fields, saw 5\\nSkipping line 1889523: expected 4 fields, saw 5\\nSkipping line 1891163: expected 4 fields, saw 5\\nSkipping line 1892412: expected 4 fields, saw 5\\nSkipping line 1894320: expected 4 fields, saw 5\\nSkipping line 1896813: expected 4 fields, saw 5\\nSkipping line 1899951: expected 4 fields, saw 5\\nSkipping line 1904232: expected 4 fields, saw 5\\nSkipping line 1911502: expected 4 fields, saw 5\\nSkipping line 1911913: expected 4 fields, saw 5\\nSkipping line 1913972: expected 4 fields, saw 5\\nSkipping line 1915884: expected 4 fields, saw 5\\nSkipping line 1918929: expected 4 fields, saw 5\\nSkipping line 1923390: expected 4 fields, saw 5\\nSkipping line 1928838: expected 4 fields, saw 5\\nSkipping line 1932319: expected 4 fields, saw 5\\nSkipping line 1936899: expected 4 fields, saw 5\\nSkipping line 1941602: expected 4 fields, saw 5\\nSkipping line 1944234: expected 4 fields, saw 5\\nSkipping line 1948636: expected 4 fields, saw 5\\nSkipping line 1955220: expected 4 fields, saw 5\\nSkipping line 1956427: expected 4 fields, saw 5\\nSkipping line 1959375: expected 4 fields, saw 5\\nSkipping line 1962637: expected 4 fields, saw 5\\nSkipping line 1964844: expected 4 fields, saw 5\\n'\n",
      "b'Skipping line 1967298: expected 4 fields, saw 5\\nSkipping line 1971417: expected 4 fields, saw 5\\nSkipping line 1974149: expected 4 fields, saw 5\\nSkipping line 1977151: expected 4 fields, saw 5\\nSkipping line 1983081: expected 4 fields, saw 5\\nSkipping line 1984403: expected 4 fields, saw 5\\nSkipping line 1987134: expected 4 fields, saw 5\\nSkipping line 1990469: expected 4 fields, saw 5\\nSkipping line 1991247: expected 4 fields, saw 5\\nSkipping line 1992773: expected 4 fields, saw 5\\nSkipping line 1996098: expected 4 fields, saw 5\\nSkipping line 2005069: expected 4 fields, saw 5\\nSkipping line 2010182: expected 4 fields, saw 5\\nSkipping line 2013157: expected 4 fields, saw 5\\nSkipping line 2017767: expected 4 fields, saw 5\\nSkipping line 2018702: expected 4 fields, saw 5\\nSkipping line 2022418: expected 4 fields, saw 5\\nSkipping line 2024954: expected 4 fields, saw 5\\nSkipping line 2027056: expected 4 fields, saw 5\\nSkipping line 2031743: expected 4 fields, saw 5\\nSkipping line 2035900: expected 4 fields, saw 5\\nSkipping line 2039318: expected 4 fields, saw 5\\nSkipping line 2042078: expected 4 fields, saw 5\\nSkipping line 2044946: expected 4 fields, saw 5\\nSkipping line 2046936: expected 4 fields, saw 5\\nSkipping line 2049837: expected 4 fields, saw 5\\nSkipping line 2050824: expected 4 fields, saw 5\\nSkipping line 2053634: expected 4 fields, saw 5\\nSkipping line 2059287: expected 4 fields, saw 5\\nSkipping line 2062300: expected 4 fields, saw 5\\nSkipping line 2068421: expected 4 fields, saw 5\\nSkipping line 2072003: expected 4 fields, saw 5\\nSkipping line 2072951: expected 4 fields, saw 5\\nSkipping line 2073602: expected 4 fields, saw 5\\nSkipping line 2075035: expected 4 fields, saw 5\\nSkipping line 2078862: expected 4 fields, saw 5\\nSkipping line 2080195: expected 4 fields, saw 5\\nSkipping line 2081635: expected 4 fields, saw 5\\nSkipping line 2083563: expected 4 fields, saw 5\\nSkipping line 2085787: expected 4 fields, saw 5\\nSkipping line 2090529: expected 4 fields, saw 5\\nSkipping line 2092889: expected 4 fields, saw 5\\n'\n",
      "b'Skipping line 2104106: expected 4 fields, saw 5\\nSkipping line 2109634: expected 4 fields, saw 5\\nSkipping line 2113385: expected 4 fields, saw 5\\nSkipping line 2117461: expected 4 fields, saw 5\\nSkipping line 2124563: expected 4 fields, saw 5\\nSkipping line 2125282: expected 4 fields, saw 5\\nSkipping line 2127953: expected 4 fields, saw 5\\nSkipping line 2128692: expected 4 fields, saw 5\\nSkipping line 2130669: expected 4 fields, saw 5\\nSkipping line 2133833: expected 4 fields, saw 5\\nSkipping line 2135412: expected 4 fields, saw 5\\nSkipping line 2137522: expected 4 fields, saw 5\\nSkipping line 2141522: expected 4 fields, saw 5\\nSkipping line 2154752: expected 4 fields, saw 5\\nSkipping line 2161584: expected 4 fields, saw 5\\nSkipping line 2167531: expected 4 fields, saw 5\\nSkipping line 2173887: expected 4 fields, saw 5\\nSkipping line 2176527: expected 4 fields, saw 5\\nSkipping line 2182258: expected 4 fields, saw 5\\nSkipping line 2186255: expected 4 fields, saw 5\\nSkipping line 2189027: expected 4 fields, saw 5\\nSkipping line 2191714: expected 4 fields, saw 5\\nSkipping line 2195178: expected 4 fields, saw 5\\nSkipping line 2197860: expected 4 fields, saw 5\\nSkipping line 2199618: expected 4 fields, saw 5\\nSkipping line 2201951: expected 4 fields, saw 5\\nSkipping line 2206976: expected 4 fields, saw 5\\nSkipping line 2211312: expected 4 fields, saw 5\\nSkipping line 2212979: expected 4 fields, saw 5\\nSkipping line 2214443: expected 4 fields, saw 5\\nSkipping line 2218297: expected 4 fields, saw 5\\nSkipping line 2223363: expected 4 fields, saw 5\\nSkipping line 2226762: expected 4 fields, saw 5\\n'\n",
      "b'Skipping line 2229624: expected 4 fields, saw 5\\nSkipping line 2232665: expected 4 fields, saw 5\\nSkipping line 2238730: expected 4 fields, saw 5\\nSkipping line 2242889: expected 4 fields, saw 5\\nSkipping line 2245904: expected 4 fields, saw 5\\nSkipping line 2247180: expected 4 fields, saw 5\\nSkipping line 2247337: expected 4 fields, saw 5\\nSkipping line 2250635: expected 4 fields, saw 5\\nSkipping line 2257248: expected 4 fields, saw 5\\nSkipping line 2259044: expected 4 fields, saw 5\\nSkipping line 2262321: expected 4 fields, saw 5\\nSkipping line 2265827: expected 4 fields, saw 5\\nSkipping line 2267992: expected 4 fields, saw 5\\nSkipping line 2270805: expected 4 fields, saw 5\\nSkipping line 2273774: expected 4 fields, saw 5\\nSkipping line 2275602: expected 4 fields, saw 5\\nSkipping line 2276893: expected 4 fields, saw 5\\nSkipping line 2279941: expected 4 fields, saw 5\\nSkipping line 2281276: expected 4 fields, saw 5\\nSkipping line 2282577: expected 4 fields, saw 5\\nSkipping line 2287253: expected 4 fields, saw 5\\nSkipping line 2289710: expected 4 fields, saw 5\\nSkipping line 2291145: expected 4 fields, saw 5\\nSkipping line 2302850: expected 4 fields, saw 5\\nSkipping line 2303756: expected 4 fields, saw 5\\nSkipping line 2310661: expected 4 fields, saw 5\\nSkipping line 2312202: expected 4 fields, saw 5\\nSkipping line 2313269: expected 4 fields, saw 5\\nSkipping line 2315575: expected 4 fields, saw 5\\nSkipping line 2317706: expected 4 fields, saw 5\\nSkipping line 2320494: expected 4 fields, saw 5\\nSkipping line 2323550: expected 4 fields, saw 5\\nSkipping line 2326695: expected 4 fields, saw 5\\nSkipping line 2330818: expected 4 fields, saw 5\\nSkipping line 2333473: expected 4 fields, saw 5\\nSkipping line 2337320: expected 4 fields, saw 5\\nSkipping line 2338257: expected 4 fields, saw 5\\nSkipping line 2340249: expected 4 fields, saw 5\\nSkipping line 2341067: expected 4 fields, saw 5\\nSkipping line 2343535: expected 4 fields, saw 5\\nSkipping line 2345586: expected 4 fields, saw 5\\nSkipping line 2353101: expected 4 fields, saw 5\\nSkipping line 2359659: expected 4 fields, saw 5\\n'\n"
     ]
    },
    {
     "name": "stderr",
     "output_type": "stream",
     "text": [
      "b'Skipping line 2369071: expected 4 fields, saw 5\\nSkipping line 2369800: expected 4 fields, saw 5\\nSkipping line 2370659: expected 4 fields, saw 5\\nSkipping line 2372346: expected 4 fields, saw 5\\nSkipping line 2376544: expected 4 fields, saw 5\\nSkipping line 2379655: expected 4 fields, saw 5\\nSkipping line 2381536: expected 4 fields, saw 5\\nSkipping line 2385423: expected 4 fields, saw 5\\nSkipping line 2387371: expected 4 fields, saw 5\\nSkipping line 2388625: expected 4 fields, saw 5\\nSkipping line 2390599: expected 4 fields, saw 5\\nSkipping line 2394387: expected 4 fields, saw 5\\nSkipping line 2398788: expected 4 fields, saw 5\\nSkipping line 2400061: expected 4 fields, saw 5\\nSkipping line 2402813: expected 4 fields, saw 5\\nSkipping line 2408767: expected 4 fields, saw 5\\nSkipping line 2414809: expected 4 fields, saw 5\\nSkipping line 2417865: expected 4 fields, saw 5\\nSkipping line 2418308: expected 4 fields, saw 5\\nSkipping line 2420232: expected 4 fields, saw 5\\nSkipping line 2423983: expected 4 fields, saw 5\\nSkipping line 2426236: expected 4 fields, saw 5\\nSkipping line 2430730: expected 4 fields, saw 5\\nSkipping line 2437500: expected 4 fields, saw 5\\nSkipping line 2438930: expected 4 fields, saw 5\\nSkipping line 2442628: expected 4 fields, saw 5\\nSkipping line 2445450: expected 4 fields, saw 5\\nSkipping line 2446789: expected 4 fields, saw 5\\nSkipping line 2451434: expected 4 fields, saw 5\\nSkipping line 2454028: expected 4 fields, saw 5\\nSkipping line 2460168: expected 4 fields, saw 5\\nSkipping line 2466040: expected 4 fields, saw 5\\nSkipping line 2469068: expected 4 fields, saw 5\\nSkipping line 2474149: expected 4 fields, saw 5\\nSkipping line 2475693: expected 4 fields, saw 5\\nSkipping line 2476776: expected 4 fields, saw 5\\nSkipping line 2477583: expected 4 fields, saw 5\\nSkipping line 2478415: expected 4 fields, saw 5\\nSkipping line 2480121: expected 4 fields, saw 5\\nSkipping line 2483505: expected 4 fields, saw 5\\nSkipping line 2486710: expected 4 fields, saw 5\\nSkipping line 2489009: expected 4 fields, saw 5\\n'\n",
      "b'Skipping line 2491598: expected 4 fields, saw 5\\nSkipping line 2494402: expected 4 fields, saw 5\\nSkipping line 2498681: expected 4 fields, saw 5\\nSkipping line 2501174: expected 4 fields, saw 5\\nSkipping line 2503377: expected 4 fields, saw 5\\nSkipping line 2505401: expected 4 fields, saw 5\\nSkipping line 2507118: expected 4 fields, saw 5\\nSkipping line 2507942: expected 4 fields, saw 5\\nSkipping line 2509081: expected 4 fields, saw 5\\nSkipping line 2510012: expected 4 fields, saw 5\\nSkipping line 2512950: expected 4 fields, saw 5\\nSkipping line 2519220: expected 4 fields, saw 5\\nSkipping line 2521539: expected 4 fields, saw 5\\nSkipping line 2522737: expected 4 fields, saw 5\\nSkipping line 2528735: expected 4 fields, saw 5\\nSkipping line 2535753: expected 4 fields, saw 5\\nSkipping line 2540356: expected 4 fields, saw 5\\nSkipping line 2541981: expected 4 fields, saw 5\\nSkipping line 2547774: expected 4 fields, saw 5\\nSkipping line 2549644: expected 4 fields, saw 5\\nSkipping line 2551318: expected 4 fields, saw 5\\nSkipping line 2555393: expected 4 fields, saw 5\\nSkipping line 2558893: expected 4 fields, saw 5\\nSkipping line 2561054: expected 4 fields, saw 5\\nSkipping line 2562170: expected 4 fields, saw 5\\nSkipping line 2563297: expected 4 fields, saw 5\\nSkipping line 2566842: expected 4 fields, saw 5\\nSkipping line 2570395: expected 4 fields, saw 5\\nSkipping line 2577430: expected 4 fields, saw 5\\nSkipping line 2583401: expected 4 fields, saw 5\\nSkipping line 2584594: expected 4 fields, saw 5\\nSkipping line 2585584: expected 4 fields, saw 5\\nSkipping line 2588427: expected 4 fields, saw 5\\nSkipping line 2590692: expected 4 fields, saw 5\\nSkipping line 2593015: expected 4 fields, saw 5\\nSkipping line 2596783: expected 4 fields, saw 5\\nSkipping line 2598702: expected 4 fields, saw 5\\nSkipping line 2599595: expected 4 fields, saw 5\\nSkipping line 2601710: expected 4 fields, saw 5\\nSkipping line 2604884: expected 4 fields, saw 5\\nSkipping line 2607100: expected 4 fields, saw 5\\nSkipping line 2610043: expected 4 fields, saw 5\\nSkipping line 2611956: expected 4 fields, saw 5\\nSkipping line 2615721: expected 4 fields, saw 5\\nSkipping line 2619008: expected 4 fields, saw 5\\nSkipping line 2620438: expected 4 fields, saw 5\\n'\n",
      "b'Skipping line 2624847: expected 4 fields, saw 5\\nSkipping line 2629620: expected 4 fields, saw 5\\nSkipping line 2632629: expected 4 fields, saw 5\\nSkipping line 2634721: expected 4 fields, saw 5\\nSkipping line 2648880: expected 4 fields, saw 5\\nSkipping line 2655493: expected 4 fields, saw 5\\nSkipping line 2658884: expected 4 fields, saw 5\\nSkipping line 2660430: expected 4 fields, saw 5\\nSkipping line 2664128: expected 4 fields, saw 5\\nSkipping line 2667949: expected 4 fields, saw 5\\nSkipping line 2671268: expected 4 fields, saw 5\\nSkipping line 2672506: expected 4 fields, saw 5\\nSkipping line 2675998: expected 4 fields, saw 5\\nSkipping line 2680866: expected 4 fields, saw 5\\nSkipping line 2685692: expected 4 fields, saw 5\\nSkipping line 2691452: expected 4 fields, saw 5\\nSkipping line 2695143: expected 4 fields, saw 5\\nSkipping line 2699250: expected 4 fields, saw 5\\nSkipping line 2702794: expected 4 fields, saw 5\\nSkipping line 2704763: expected 4 fields, saw 5\\nSkipping line 2709936: expected 4 fields, saw 5\\nSkipping line 2716768: expected 4 fields, saw 5\\nSkipping line 2721530: expected 4 fields, saw 5\\nSkipping line 2725379: expected 4 fields, saw 5\\nSkipping line 2728006: expected 4 fields, saw 5\\nSkipping line 2731857: expected 4 fields, saw 5\\nSkipping line 2740342: expected 4 fields, saw 5\\nSkipping line 2740466: expected 4 fields, saw 5\\nSkipping line 2742948: expected 4 fields, saw 5\\nSkipping line 2745518: expected 4 fields, saw 5\\nSkipping line 2747264: expected 4 fields, saw 5\\nSkipping line 2749808: expected 4 fields, saw 5\\nSkipping line 2752077: expected 4 fields, saw 5\\n'\n",
      "b'Skipping line 2754644: expected 4 fields, saw 5\\nSkipping line 2758821: expected 4 fields, saw 5\\nSkipping line 2762308: expected 4 fields, saw 5\\nSkipping line 2763329: expected 4 fields, saw 5\\nSkipping line 2764771: expected 4 fields, saw 5\\nSkipping line 2766885: expected 4 fields, saw 5\\nSkipping line 2769263: expected 4 fields, saw 5\\nSkipping line 2773191: expected 4 fields, saw 5\\nSkipping line 2777928: expected 4 fields, saw 5\\nSkipping line 2782644: expected 4 fields, saw 5\\nSkipping line 2783891: expected 4 fields, saw 5\\nSkipping line 2789321: expected 4 fields, saw 5\\nSkipping line 2791289: expected 4 fields, saw 5\\nSkipping line 2795637: expected 4 fields, saw 5\\nSkipping line 2797595: expected 4 fields, saw 5\\nSkipping line 2799868: expected 4 fields, saw 5\\nSkipping line 2804486: expected 4 fields, saw 5\\nSkipping line 2811888: expected 4 fields, saw 5\\nSkipping line 2813041: expected 4 fields, saw 5\\nSkipping line 2814523: expected 4 fields, saw 5\\nSkipping line 2815020: expected 4 fields, saw 5\\nSkipping line 2819459: expected 4 fields, saw 5\\nSkipping line 2821726: expected 4 fields, saw 5\\nSkipping line 2823821: expected 4 fields, saw 5\\nSkipping line 2828033: expected 4 fields, saw 5\\nSkipping line 2838326: expected 4 fields, saw 5\\nSkipping line 2843914: expected 4 fields, saw 5\\nSkipping line 2848080: expected 4 fields, saw 5\\nSkipping line 2852738: expected 4 fields, saw 5\\nSkipping line 2856297: expected 4 fields, saw 5\\nSkipping line 2862029: expected 4 fields, saw 5\\nSkipping line 2868215: expected 4 fields, saw 5\\nSkipping line 2876262: expected 4 fields, saw 5\\nSkipping line 2879293: expected 4 fields, saw 5\\nSkipping line 2881060: expected 4 fields, saw 5\\nSkipping line 2882391: expected 4 fields, saw 5\\n'\n",
      "b'Skipping line 2887135: expected 4 fields, saw 5\\nSkipping line 2890309: expected 4 fields, saw 5\\nSkipping line 2895270: expected 4 fields, saw 5\\nSkipping line 2897525: expected 4 fields, saw 5\\nSkipping line 2905132: expected 4 fields, saw 5\\nSkipping line 2908474: expected 4 fields, saw 5\\nSkipping line 2912096: expected 4 fields, saw 5\\nSkipping line 2916783: expected 4 fields, saw 5\\nSkipping line 2917170: expected 4 fields, saw 5\\nSkipping line 2917779: expected 4 fields, saw 5\\nSkipping line 2925000: expected 4 fields, saw 5\\nSkipping line 2925580: expected 4 fields, saw 5\\nSkipping line 2931998: expected 4 fields, saw 5\\nSkipping line 2935871: expected 4 fields, saw 5\\nSkipping line 2940859: expected 4 fields, saw 5\\nSkipping line 2946788: expected 4 fields, saw 5\\nSkipping line 2948013: expected 4 fields, saw 5\\nSkipping line 2949298: expected 4 fields, saw 5\\nSkipping line 2961092: expected 4 fields, saw 5\\nSkipping line 2967365: expected 4 fields, saw 5\\nSkipping line 2970945: expected 4 fields, saw 5\\nSkipping line 2974162: expected 4 fields, saw 5\\nSkipping line 2976489: expected 4 fields, saw 5\\nSkipping line 2982369: expected 4 fields, saw 5\\nSkipping line 2989358: expected 4 fields, saw 5\\nSkipping line 2993061: expected 4 fields, saw 5\\nSkipping line 2996196: expected 4 fields, saw 5\\nSkipping line 2997538: expected 4 fields, saw 5\\nSkipping line 3002013: expected 4 fields, saw 5\\nSkipping line 3008825: expected 4 fields, saw 5\\nSkipping line 3011935: expected 4 fields, saw 5\\nSkipping line 3012639: expected 4 fields, saw 5\\nSkipping line 3014621: expected 4 fields, saw 5\\n'\n",
      "b'Skipping line 3017885: expected 4 fields, saw 5\\nSkipping line 3020473: expected 4 fields, saw 5\\nSkipping line 3023766: expected 4 fields, saw 5\\nSkipping line 3026524: expected 4 fields, saw 5\\nSkipping line 3028630: expected 4 fields, saw 5\\nSkipping line 3033347: expected 4 fields, saw 5\\nSkipping line 3038267: expected 4 fields, saw 5\\nSkipping line 3041356: expected 4 fields, saw 5\\nSkipping line 3042599: expected 4 fields, saw 5\\nSkipping line 3043393: expected 4 fields, saw 5\\nSkipping line 3045725: expected 4 fields, saw 5\\nSkipping line 3053148: expected 4 fields, saw 5\\nSkipping line 3055525: expected 4 fields, saw 5\\nSkipping line 3058174: expected 4 fields, saw 5\\nSkipping line 3058709: expected 4 fields, saw 5\\nSkipping line 3068395: expected 4 fields, saw 5\\nSkipping line 3073918: expected 4 fields, saw 5\\nSkipping line 3075561: expected 4 fields, saw 5\\nSkipping line 3079135: expected 4 fields, saw 5\\nSkipping line 3083498: expected 4 fields, saw 5\\nSkipping line 3088597: expected 4 fields, saw 5\\nSkipping line 3090417: expected 4 fields, saw 5\\nSkipping line 3090992: expected 4 fields, saw 5\\nSkipping line 3092781: expected 4 fields, saw 5\\nSkipping line 3096604: expected 4 fields, saw 5\\nSkipping line 3097803: expected 4 fields, saw 5\\nSkipping line 3100446: expected 4 fields, saw 5\\nSkipping line 3103263: expected 4 fields, saw 5\\nSkipping line 3106173: expected 4 fields, saw 5\\nSkipping line 3108820: expected 4 fields, saw 5\\nSkipping line 3112413: expected 4 fields, saw 5\\nSkipping line 3113594: expected 4 fields, saw 5\\nSkipping line 3116417: expected 4 fields, saw 5\\nSkipping line 3119426: expected 4 fields, saw 5\\nSkipping line 3124428: expected 4 fields, saw 5\\nSkipping line 3126619: expected 4 fields, saw 5\\nSkipping line 3128157: expected 4 fields, saw 5\\nSkipping line 3131272: expected 4 fields, saw 5\\nSkipping line 3132251: expected 4 fields, saw 5\\nSkipping line 3133114: expected 4 fields, saw 5\\nSkipping line 3136526: expected 4 fields, saw 5\\nSkipping line 3140674: expected 4 fields, saw 5\\nSkipping line 3143049: expected 4 fields, saw 5\\nSkipping line 3144942: expected 4 fields, saw 5\\n'\n"
     ]
    },
    {
     "name": "stderr",
     "output_type": "stream",
     "text": [
      "b'Skipping line 3149547: expected 4 fields, saw 5\\nSkipping line 3158265: expected 4 fields, saw 5\\nSkipping line 3164608: expected 4 fields, saw 5\\nSkipping line 3167009: expected 4 fields, saw 5\\nSkipping line 3173154: expected 4 fields, saw 5\\nSkipping line 3176129: expected 4 fields, saw 5\\nSkipping line 3180682: expected 4 fields, saw 5\\nSkipping line 3184517: expected 4 fields, saw 5\\nSkipping line 3191040: expected 4 fields, saw 5\\nSkipping line 3194003: expected 4 fields, saw 5\\nSkipping line 3199816: expected 4 fields, saw 5\\nSkipping line 3205187: expected 4 fields, saw 5\\nSkipping line 3208171: expected 4 fields, saw 5\\nSkipping line 3211234: expected 4 fields, saw 5\\nSkipping line 3212390: expected 4 fields, saw 5\\nSkipping line 3215716: expected 4 fields, saw 5\\nSkipping line 3218224: expected 4 fields, saw 5\\nSkipping line 3222359: expected 4 fields, saw 5\\nSkipping line 3224365: expected 4 fields, saw 5\\nSkipping line 3226360: expected 4 fields, saw 5\\nSkipping line 3229139: expected 4 fields, saw 5\\nSkipping line 3230912: expected 4 fields, saw 5\\nSkipping line 3232127: expected 4 fields, saw 5\\nSkipping line 3235529: expected 4 fields, saw 5\\nSkipping line 3238370: expected 4 fields, saw 5\\nSkipping line 3239298: expected 4 fields, saw 5\\nSkipping line 3241069: expected 4 fields, saw 5\\nSkipping line 3244422: expected 4 fields, saw 5\\nSkipping line 3246336: expected 4 fields, saw 5\\nSkipping line 3248456: expected 4 fields, saw 5\\nSkipping line 3253682: expected 4 fields, saw 5\\nSkipping line 3254412: expected 4 fields, saw 5\\nSkipping line 3257346: expected 4 fields, saw 5\\nSkipping line 3259718: expected 4 fields, saw 5\\nSkipping line 3263119: expected 4 fields, saw 5\\nSkipping line 3266093: expected 4 fields, saw 5\\nSkipping line 3267732: expected 4 fields, saw 5\\nSkipping line 3270272: expected 4 fields, saw 5\\nSkipping line 3271746: expected 4 fields, saw 5\\nSkipping line 3274342: expected 4 fields, saw 5\\n'\n",
      "b'Skipping line 3281593: expected 4 fields, saw 5\\nSkipping line 3284737: expected 4 fields, saw 5\\nSkipping line 3291246: expected 4 fields, saw 5\\nSkipping line 3296596: expected 4 fields, saw 5\\nSkipping line 3298690: expected 4 fields, saw 5\\nSkipping line 3301114: expected 4 fields, saw 5\\nSkipping line 3303918: expected 4 fields, saw 5\\nSkipping line 3305574: expected 4 fields, saw 5\\nSkipping line 3308544: expected 4 fields, saw 5\\nSkipping line 3310478: expected 4 fields, saw 5\\nSkipping line 3311687: expected 4 fields, saw 5\\nSkipping line 3314723: expected 4 fields, saw 5\\nSkipping line 3318736: expected 4 fields, saw 5\\nSkipping line 3324296: expected 4 fields, saw 5\\nSkipping line 3325759: expected 4 fields, saw 5\\nSkipping line 3327522: expected 4 fields, saw 5\\nSkipping line 3330878: expected 4 fields, saw 5\\nSkipping line 3336949: expected 4 fields, saw 5\\nSkipping line 3340712: expected 4 fields, saw 5\\nSkipping line 3351041: expected 4 fields, saw 5\\nSkipping line 3355189: expected 4 fields, saw 5\\nSkipping line 3357402: expected 4 fields, saw 5\\nSkipping line 3358046: expected 4 fields, saw 5\\nSkipping line 3362443: expected 4 fields, saw 5\\nSkipping line 3364490: expected 4 fields, saw 5\\nSkipping line 3366985: expected 4 fields, saw 5\\nSkipping line 3369184: expected 4 fields, saw 5\\nSkipping line 3372798: expected 4 fields, saw 5\\nSkipping line 3376979: expected 4 fields, saw 5\\nSkipping line 3379900: expected 4 fields, saw 5\\nSkipping line 3381069: expected 4 fields, saw 5\\nSkipping line 3383239: expected 4 fields, saw 5\\nSkipping line 3388450: expected 4 fields, saw 5\\nSkipping line 3389791: expected 4 fields, saw 5\\nSkipping line 3390917: expected 4 fields, saw 5\\nSkipping line 3395421: expected 4 fields, saw 5\\nSkipping line 3398414: expected 4 fields, saw 5\\nSkipping line 3402412: expected 4 fields, saw 5\\nSkipping line 3403769: expected 4 fields, saw 5\\nSkipping line 3405364: expected 4 fields, saw 5\\nSkipping line 3407754: expected 4 fields, saw 5\\n'\n",
      "b'Skipping line 3410236: expected 4 fields, saw 5\\nSkipping line 3413257: expected 4 fields, saw 5\\nSkipping line 3414716: expected 4 fields, saw 5\\nSkipping line 3416288: expected 4 fields, saw 5\\nSkipping line 3420658: expected 4 fields, saw 5\\nSkipping line 3424854: expected 4 fields, saw 5\\nSkipping line 3429174: expected 4 fields, saw 5\\nSkipping line 3432243: expected 4 fields, saw 5\\nSkipping line 3435537: expected 4 fields, saw 5\\nSkipping line 3438897: expected 4 fields, saw 5\\nSkipping line 3441324: expected 4 fields, saw 5\\nSkipping line 3445620: expected 4 fields, saw 5\\nSkipping line 3448229: expected 4 fields, saw 5\\nSkipping line 3450008: expected 4 fields, saw 5\\nSkipping line 3451630: expected 4 fields, saw 5\\nSkipping line 3456427: expected 4 fields, saw 5\\nSkipping line 3461924: expected 4 fields, saw 5\\nSkipping line 3465867: expected 4 fields, saw 5\\nSkipping line 3472636: expected 4 fields, saw 5\\nSkipping line 3473754: expected 4 fields, saw 5\\nSkipping line 3476943: expected 4 fields, saw 5\\nSkipping line 3480294: expected 4 fields, saw 5\\nSkipping line 3483169: expected 4 fields, saw 5\\nSkipping line 3487432: expected 4 fields, saw 5\\nSkipping line 3489957: expected 4 fields, saw 5\\nSkipping line 3491154: expected 4 fields, saw 5\\nSkipping line 3492074: expected 4 fields, saw 5\\nSkipping line 3496056: expected 4 fields, saw 5\\nSkipping line 3503250: expected 4 fields, saw 5\\nSkipping line 3504858: expected 4 fields, saw 5\\nSkipping line 3509424: expected 4 fields, saw 5\\nSkipping line 3511090: expected 4 fields, saw 5\\nSkipping line 3512442: expected 4 fields, saw 5\\nSkipping line 3515208: expected 4 fields, saw 5\\nSkipping line 3516489: expected 4 fields, saw 5\\nSkipping line 3518219: expected 4 fields, saw 5\\nSkipping line 3520433: expected 4 fields, saw 5\\nSkipping line 3522618: expected 4 fields, saw 5\\nSkipping line 3523868: expected 4 fields, saw 5\\nSkipping line 3538217: expected 4 fields, saw 5\\n'\n",
      "b'Skipping line 3547411: expected 4 fields, saw 5\\nSkipping line 3549901: expected 4 fields, saw 5\\nSkipping line 3553335: expected 4 fields, saw 5\\nSkipping line 3555403: expected 4 fields, saw 5\\nSkipping line 3557379: expected 4 fields, saw 5\\nSkipping line 3560393: expected 4 fields, saw 5\\nSkipping line 3564242: expected 4 fields, saw 5\\nSkipping line 3566390: expected 4 fields, saw 5\\nSkipping line 3571161: expected 4 fields, saw 5\\nSkipping line 3573519: expected 4 fields, saw 5\\nSkipping line 3574711: expected 4 fields, saw 5\\nSkipping line 3576072: expected 4 fields, saw 5\\nSkipping line 3577743: expected 4 fields, saw 5\\nSkipping line 3581152: expected 4 fields, saw 5\\nSkipping line 3583896: expected 4 fields, saw 5\\nSkipping line 3586917: expected 4 fields, saw 5\\nSkipping line 3592766: expected 4 fields, saw 5\\nSkipping line 3594378: expected 4 fields, saw 5\\nSkipping line 3598282: expected 4 fields, saw 5\\nSkipping line 3601735: expected 4 fields, saw 5\\nSkipping line 3608560: expected 4 fields, saw 5\\nSkipping line 3610894: expected 4 fields, saw 5\\nSkipping line 3613687: expected 4 fields, saw 5\\nSkipping line 3616071: expected 4 fields, saw 5\\nSkipping line 3628628: expected 4 fields, saw 5\\nSkipping line 3635575: expected 4 fields, saw 5\\nSkipping line 3639320: expected 4 fields, saw 5\\nSkipping line 3645741: expected 4 fields, saw 5\\nSkipping line 3648814: expected 4 fields, saw 5\\nSkipping line 3651868: expected 4 fields, saw 5\\nSkipping line 3653742: expected 4 fields, saw 5\\nSkipping line 3655871: expected 4 fields, saw 5\\nSkipping line 3660318: expected 4 fields, saw 5\\nSkipping line 3663597: expected 4 fields, saw 5\\nSkipping line 3665741: expected 4 fields, saw 5\\nSkipping line 3669640: expected 4 fields, saw 5\\n'\n",
      "b'Skipping line 3672179: expected 4 fields, saw 5\\nSkipping line 3674587: expected 4 fields, saw 5\\nSkipping line 3679436: expected 4 fields, saw 5\\nSkipping line 3681767: expected 4 fields, saw 5\\nSkipping line 3681982: expected 4 fields, saw 5\\nSkipping line 3683421: expected 4 fields, saw 5\\nSkipping line 3687794: expected 4 fields, saw 5\\nSkipping line 3691895: expected 4 fields, saw 5\\nSkipping line 3693181: expected 4 fields, saw 5\\nSkipping line 3694653: expected 4 fields, saw 5\\nSkipping line 3697657: expected 4 fields, saw 5\\nSkipping line 3698287: expected 4 fields, saw 5\\nSkipping line 3699441: expected 4 fields, saw 5\\nSkipping line 3703993: expected 4 fields, saw 5\\nSkipping line 3707152: expected 4 fields, saw 5\\nSkipping line 3709645: expected 4 fields, saw 5\\nSkipping line 3713571: expected 4 fields, saw 5\\nSkipping line 3714576: expected 4 fields, saw 5\\nSkipping line 3721108: expected 4 fields, saw 5\\nSkipping line 3723758: expected 4 fields, saw 5\\nSkipping line 3727758: expected 4 fields, saw 5\\nSkipping line 3730195: expected 4 fields, saw 5\\nSkipping line 3730925: expected 4 fields, saw 5\\nSkipping line 3731927: expected 4 fields, saw 5\\nSkipping line 3734395: expected 4 fields, saw 5\\nSkipping line 3734893: expected 4 fields, saw 5\\nSkipping line 3737228: expected 4 fields, saw 5\\nSkipping line 3739448: expected 4 fields, saw 5\\nSkipping line 3745069: expected 4 fields, saw 5\\nSkipping line 3749073: expected 4 fields, saw 5\\nSkipping line 3751388: expected 4 fields, saw 5\\nSkipping line 3754199: expected 4 fields, saw 5\\nSkipping line 3757981: expected 4 fields, saw 5\\nSkipping line 3761478: expected 4 fields, saw 5\\nSkipping line 3766321: expected 4 fields, saw 5\\nSkipping line 3767365: expected 4 fields, saw 5\\nSkipping line 3768670: expected 4 fields, saw 5\\nSkipping line 3771381: expected 4 fields, saw 5\\nSkipping line 3775302: expected 4 fields, saw 5\\nSkipping line 3781864: expected 4 fields, saw 5\\nSkipping line 3782360: expected 4 fields, saw 5\\nSkipping line 3784079: expected 4 fields, saw 5\\nSkipping line 3786748: expected 4 fields, saw 5\\nSkipping line 3788533: expected 4 fields, saw 5\\nSkipping line 3791427: expected 4 fields, saw 5\\nSkipping line 3794360: expected 4 fields, saw 5\\nSkipping line 3798652: expected 4 fields, saw 5\\nSkipping line 3802218: expected 4 fields, saw 5\\n'\n",
      "b'Skipping line 3805173: expected 4 fields, saw 5\\nSkipping line 3807348: expected 4 fields, saw 5\\nSkipping line 3811162: expected 4 fields, saw 5\\nSkipping line 3812891: expected 4 fields, saw 5\\nSkipping line 3815849: expected 4 fields, saw 5\\nSkipping line 3822421: expected 4 fields, saw 5\\nSkipping line 3827504: expected 4 fields, saw 5\\nSkipping line 3828251: expected 4 fields, saw 5\\nSkipping line 3829747: expected 4 fields, saw 5\\nSkipping line 3832801: expected 4 fields, saw 5\\nSkipping line 3835265: expected 4 fields, saw 5\\nSkipping line 3840596: expected 4 fields, saw 5\\nSkipping line 3842325: expected 4 fields, saw 5\\nSkipping line 3845114: expected 4 fields, saw 5\\nSkipping line 3845703: expected 4 fields, saw 5\\nSkipping line 3847238: expected 4 fields, saw 5\\nSkipping line 3848072: expected 4 fields, saw 5\\nSkipping line 3853293: expected 4 fields, saw 5\\nSkipping line 3855226: expected 4 fields, saw 5\\nSkipping line 3856459: expected 4 fields, saw 5\\nSkipping line 3859445: expected 4 fields, saw 5\\nSkipping line 3861034: expected 4 fields, saw 5\\nSkipping line 3862027: expected 4 fields, saw 5\\nSkipping line 3863568: expected 4 fields, saw 5\\nSkipping line 3867437: expected 4 fields, saw 5\\nSkipping line 3871344: expected 4 fields, saw 5\\nSkipping line 3873984: expected 4 fields, saw 5\\nSkipping line 3876947: expected 4 fields, saw 5\\nSkipping line 3881384: expected 4 fields, saw 5\\nSkipping line 3883951: expected 4 fields, saw 5\\nSkipping line 3889329: expected 4 fields, saw 5\\nSkipping line 3891352: expected 4 fields, saw 5\\nSkipping line 3891705: expected 4 fields, saw 5\\nSkipping line 3894042: expected 4 fields, saw 5\\nSkipping line 3895655: expected 4 fields, saw 5\\nSkipping line 3900423: expected 4 fields, saw 5\\nSkipping line 3904059: expected 4 fields, saw 5\\nSkipping line 3906400: expected 4 fields, saw 5\\nSkipping line 3911441: expected 4 fields, saw 5\\nSkipping line 3913351: expected 4 fields, saw 5\\nSkipping line 3915809: expected 4 fields, saw 5\\nSkipping line 3921078: expected 4 fields, saw 5\\nSkipping line 3923295: expected 4 fields, saw 5\\nSkipping line 3925076: expected 4 fields, saw 5\\nSkipping line 3931269: expected 4 fields, saw 5\\n'\n"
     ]
    },
    {
     "name": "stderr",
     "output_type": "stream",
     "text": [
      "b'Skipping line 3936439: expected 4 fields, saw 5\\nSkipping line 3937683: expected 4 fields, saw 5\\nSkipping line 3938901: expected 4 fields, saw 5\\nSkipping line 3940235: expected 4 fields, saw 5\\nSkipping line 3941506: expected 4 fields, saw 5\\nSkipping line 3943391: expected 4 fields, saw 5\\nSkipping line 3945010: expected 4 fields, saw 5\\nSkipping line 3946408: expected 4 fields, saw 5\\nSkipping line 3949399: expected 4 fields, saw 5\\nSkipping line 3950393: expected 4 fields, saw 5\\nSkipping line 3952298: expected 4 fields, saw 5\\nSkipping line 3954872: expected 4 fields, saw 5\\nSkipping line 3956578: expected 4 fields, saw 5\\nSkipping line 3957528: expected 4 fields, saw 5\\nSkipping line 3960975: expected 4 fields, saw 5\\nSkipping line 3963729: expected 4 fields, saw 5\\nSkipping line 3966995: expected 4 fields, saw 5\\nSkipping line 3968913: expected 4 fields, saw 5\\nSkipping line 3973686: expected 4 fields, saw 5\\nSkipping line 3977816: expected 4 fields, saw 5\\nSkipping line 3980391: expected 4 fields, saw 5\\nSkipping line 3984139: expected 4 fields, saw 5\\nSkipping line 3987112: expected 4 fields, saw 5\\nSkipping line 3992160: expected 4 fields, saw 5\\nSkipping line 3995079: expected 4 fields, saw 5\\nSkipping line 3997796: expected 4 fields, saw 5\\nSkipping line 4000262: expected 4 fields, saw 5\\nSkipping line 4002939: expected 4 fields, saw 5\\nSkipping line 4003674: expected 4 fields, saw 5\\nSkipping line 4004911: expected 4 fields, saw 5\\nSkipping line 4009777: expected 4 fields, saw 5\\nSkipping line 4017767: expected 4 fields, saw 5\\nSkipping line 4023629: expected 4 fields, saw 5\\nSkipping line 4025330: expected 4 fields, saw 5\\nSkipping line 4027843: expected 4 fields, saw 5\\nSkipping line 4033153: expected 4 fields, saw 5\\nSkipping line 4035707: expected 4 fields, saw 5\\nSkipping line 4039753: expected 4 fields, saw 5\\nSkipping line 4040970: expected 4 fields, saw 5\\nSkipping line 4043641: expected 4 fields, saw 5\\nSkipping line 4047753: expected 4 fields, saw 5\\nSkipping line 4050715: expected 4 fields, saw 5\\nSkipping line 4054956: expected 4 fields, saw 5\\nSkipping line 4057814: expected 4 fields, saw 5\\nSkipping line 4060317: expected 4 fields, saw 5\\nSkipping line 4063802: expected 4 fields, saw 5\\n'\n",
      "b'Skipping line 4065997: expected 4 fields, saw 5\\nSkipping line 4070856: expected 4 fields, saw 5\\nSkipping line 4072578: expected 4 fields, saw 5\\nSkipping line 4075533: expected 4 fields, saw 5\\nSkipping line 4078012: expected 4 fields, saw 5\\nSkipping line 4081199: expected 4 fields, saw 5\\nSkipping line 4082515: expected 4 fields, saw 5\\nSkipping line 4083703: expected 4 fields, saw 5\\nSkipping line 4087597: expected 4 fields, saw 5\\nSkipping line 4096691: expected 4 fields, saw 5\\nSkipping line 4101449: expected 4 fields, saw 5\\nSkipping line 4106713: expected 4 fields, saw 5\\nSkipping line 4109464: expected 4 fields, saw 5\\nSkipping line 4111148: expected 4 fields, saw 5\\nSkipping line 4114070: expected 4 fields, saw 5\\nSkipping line 4117836: expected 4 fields, saw 5\\nSkipping line 4120156: expected 4 fields, saw 5\\nSkipping line 4122550: expected 4 fields, saw 5\\nSkipping line 4124692: expected 4 fields, saw 5\\nSkipping line 4135764: expected 4 fields, saw 5\\nSkipping line 4143965: expected 4 fields, saw 5\\nSkipping line 4146975: expected 4 fields, saw 5\\nSkipping line 4149925: expected 4 fields, saw 5\\nSkipping line 4154852: expected 4 fields, saw 5\\nSkipping line 4155680: expected 4 fields, saw 5\\nSkipping line 4157638: expected 4 fields, saw 5\\nSkipping line 4158489: expected 4 fields, saw 5\\nSkipping line 4160769: expected 4 fields, saw 5\\nSkipping line 4166064: expected 4 fields, saw 5\\nSkipping line 4175965: expected 4 fields, saw 5\\nSkipping line 4180000: expected 4 fields, saw 5\\nSkipping line 4183955: expected 4 fields, saw 5\\nSkipping line 4186304: expected 4 fields, saw 5\\nSkipping line 4190555: expected 4 fields, saw 5\\nSkipping line 4195075: expected 4 fields, saw 5\\n'\n",
      "b'Skipping line 4204493: expected 4 fields, saw 5\\nSkipping line 4209059: expected 4 fields, saw 5\\nSkipping line 4210443: expected 4 fields, saw 5\\nSkipping line 4215305: expected 4 fields, saw 5\\nSkipping line 4217622: expected 4 fields, saw 5\\nSkipping line 4222640: expected 4 fields, saw 5\\nSkipping line 4229286: expected 4 fields, saw 5\\nSkipping line 4231412: expected 4 fields, saw 5\\nSkipping line 4235529: expected 4 fields, saw 5\\nSkipping line 4237653: expected 4 fields, saw 5\\nSkipping line 4242341: expected 4 fields, saw 5\\nSkipping line 4244750: expected 4 fields, saw 5\\nSkipping line 4248274: expected 4 fields, saw 5\\nSkipping line 4250526: expected 4 fields, saw 5\\nSkipping line 4255712: expected 4 fields, saw 5\\nSkipping line 4257177: expected 4 fields, saw 5\\nSkipping line 4258173: expected 4 fields, saw 5\\nSkipping line 4261230: expected 4 fields, saw 5\\nSkipping line 4265578: expected 4 fields, saw 5\\nSkipping line 4272349: expected 4 fields, saw 5\\nSkipping line 4273043: expected 4 fields, saw 5\\nSkipping line 4274162: expected 4 fields, saw 5\\nSkipping line 4275478: expected 4 fields, saw 5\\nSkipping line 4276995: expected 4 fields, saw 5\\nSkipping line 4279239: expected 4 fields, saw 5\\nSkipping line 4281120: expected 4 fields, saw 5\\nSkipping line 4284255: expected 4 fields, saw 5\\nSkipping line 4287079: expected 4 fields, saw 5\\nSkipping line 4291968: expected 4 fields, saw 5\\nSkipping line 4296507: expected 4 fields, saw 5\\nSkipping line 4298326: expected 4 fields, saw 5\\nSkipping line 4308272: expected 4 fields, saw 5\\nSkipping line 4313558: expected 4 fields, saw 5\\nSkipping line 4315091: expected 4 fields, saw 5\\nSkipping line 4318436: expected 4 fields, saw 5\\nSkipping line 4320507: expected 4 fields, saw 5\\nSkipping line 4324608: expected 4 fields, saw 5\\n'\n",
      "b'Skipping line 4327261: expected 4 fields, saw 5\\nSkipping line 4328051: expected 4 fields, saw 5\\nSkipping line 4328925: expected 4 fields, saw 5\\nSkipping line 4331294: expected 4 fields, saw 5\\nSkipping line 4334197: expected 4 fields, saw 5\\nSkipping line 4337136: expected 4 fields, saw 5\\nSkipping line 4340240: expected 4 fields, saw 5\\nSkipping line 4341310: expected 4 fields, saw 5\\nSkipping line 4343651: expected 4 fields, saw 5\\nSkipping line 4348500: expected 4 fields, saw 5\\nSkipping line 4350614: expected 4 fields, saw 5\\nSkipping line 4353275: expected 4 fields, saw 5\\nSkipping line 4355039: expected 4 fields, saw 5\\nSkipping line 4359560: expected 4 fields, saw 5\\nSkipping line 4361671: expected 4 fields, saw 5\\nSkipping line 4364519: expected 4 fields, saw 5\\nSkipping line 4369974: expected 4 fields, saw 5\\nSkipping line 4376915: expected 4 fields, saw 5\\nSkipping line 4382180: expected 4 fields, saw 5\\nSkipping line 4384921: expected 4 fields, saw 5\\nSkipping line 4386902: expected 4 fields, saw 5\\nSkipping line 4390236: expected 4 fields, saw 5\\nSkipping line 4394496: expected 4 fields, saw 5\\nSkipping line 4395270: expected 4 fields, saw 5\\nSkipping line 4396106: expected 4 fields, saw 5\\nSkipping line 4398057: expected 4 fields, saw 5\\nSkipping line 4401875: expected 4 fields, saw 5\\nSkipping line 4404552: expected 4 fields, saw 5\\nSkipping line 4409872: expected 4 fields, saw 5\\nSkipping line 4412740: expected 4 fields, saw 5\\nSkipping line 4415224: expected 4 fields, saw 5\\nSkipping line 4417832: expected 4 fields, saw 5\\nSkipping line 4422626: expected 4 fields, saw 5\\nSkipping line 4424596: expected 4 fields, saw 5\\nSkipping line 4428768: expected 4 fields, saw 5\\nSkipping line 4430462: expected 4 fields, saw 5\\nSkipping line 4431699: expected 4 fields, saw 5\\nSkipping line 4432200: expected 4 fields, saw 5\\nSkipping line 4435946: expected 4 fields, saw 5\\nSkipping line 4438237: expected 4 fields, saw 5\\nSkipping line 4441136: expected 4 fields, saw 5\\nSkipping line 4442361: expected 4 fields, saw 5\\nSkipping line 4443621: expected 4 fields, saw 5\\nSkipping line 4445298: expected 4 fields, saw 5\\nSkipping line 4447677: expected 4 fields, saw 5\\nSkipping line 4449101: expected 4 fields, saw 5\\nSkipping line 4451167: expected 4 fields, saw 5\\nSkipping line 4455643: expected 4 fields, saw 5\\n'\n",
      "b'Skipping line 4458177: expected 4 fields, saw 5\\nSkipping line 4462381: expected 4 fields, saw 5\\nSkipping line 4463568: expected 4 fields, saw 5\\nSkipping line 4465362: expected 4 fields, saw 5\\nSkipping line 4469055: expected 4 fields, saw 5\\nSkipping line 4472170: expected 4 fields, saw 5\\nSkipping line 4476620: expected 4 fields, saw 5\\nSkipping line 4478449: expected 4 fields, saw 5\\nSkipping line 4481972: expected 4 fields, saw 5\\nSkipping line 4483468: expected 4 fields, saw 5\\nSkipping line 4487179: expected 4 fields, saw 5\\nSkipping line 4493980: expected 4 fields, saw 5\\nSkipping line 4498132: expected 4 fields, saw 5\\nSkipping line 4502617: expected 4 fields, saw 5\\nSkipping line 4507982: expected 4 fields, saw 5\\nSkipping line 4510418: expected 4 fields, saw 5\\nSkipping line 4517369: expected 4 fields, saw 5\\nSkipping line 4522417: expected 4 fields, saw 5\\nSkipping line 4524912: expected 4 fields, saw 5\\nSkipping line 4526701: expected 4 fields, saw 5\\nSkipping line 4531110: expected 4 fields, saw 5\\nSkipping line 4536598: expected 4 fields, saw 5\\nSkipping line 4539562: expected 4 fields, saw 5\\nSkipping line 4541581: expected 4 fields, saw 5\\nSkipping line 4543356: expected 4 fields, saw 5\\nSkipping line 4544714: expected 4 fields, saw 5\\nSkipping line 4547421: expected 4 fields, saw 5\\nSkipping line 4549279: expected 4 fields, saw 5\\nSkipping line 4552025: expected 4 fields, saw 5\\nSkipping line 4556244: expected 4 fields, saw 5\\nSkipping line 4563017: expected 4 fields, saw 5\\nSkipping line 4568508: expected 4 fields, saw 5\\nSkipping line 4569356: expected 4 fields, saw 5\\nSkipping line 4570564: expected 4 fields, saw 5\\nSkipping line 4573931: expected 4 fields, saw 5\\nSkipping line 4580101: expected 4 fields, saw 5\\nSkipping line 4581597: expected 4 fields, saw 5\\nSkipping line 4584282: expected 4 fields, saw 5\\n'\n",
      "b'Skipping line 4592094: expected 4 fields, saw 5\\nSkipping line 4594157: expected 4 fields, saw 5\\nSkipping line 4595291: expected 4 fields, saw 5\\nSkipping line 4597032: expected 4 fields, saw 5\\nSkipping line 4599199: expected 4 fields, saw 5\\nSkipping line 4603380: expected 4 fields, saw 5\\nSkipping line 4606288: expected 4 fields, saw 5\\nSkipping line 4607641: expected 4 fields, saw 5\\nSkipping line 4612544: expected 4 fields, saw 5\\nSkipping line 4614005: expected 4 fields, saw 5\\nSkipping line 4615191: expected 4 fields, saw 5\\nSkipping line 4615966: expected 4 fields, saw 5\\nSkipping line 4618011: expected 4 fields, saw 5\\nSkipping line 4622419: expected 4 fields, saw 5\\nSkipping line 4625834: expected 4 fields, saw 5\\nSkipping line 4632942: expected 4 fields, saw 5\\nSkipping line 4635217: expected 4 fields, saw 5\\nSkipping line 4636984: expected 4 fields, saw 5\\nSkipping line 4640198: expected 4 fields, saw 5\\nSkipping line 4641847: expected 4 fields, saw 5\\nSkipping line 4645629: expected 4 fields, saw 5\\nSkipping line 4648013: expected 4 fields, saw 5\\nSkipping line 4650234: expected 4 fields, saw 5\\nSkipping line 4654478: expected 4 fields, saw 5\\nSkipping line 4655979: expected 4 fields, saw 5\\nSkipping line 4658062: expected 4 fields, saw 5\\nSkipping line 4659823: expected 4 fields, saw 5\\nSkipping line 4663195: expected 4 fields, saw 5\\nSkipping line 4666363: expected 4 fields, saw 5\\nSkipping line 4670608: expected 4 fields, saw 5\\nSkipping line 4678208: expected 4 fields, saw 5\\nSkipping line 4679286: expected 4 fields, saw 5\\nSkipping line 4680494: expected 4 fields, saw 5\\nSkipping line 4682541: expected 4 fields, saw 5\\nSkipping line 4683054: expected 4 fields, saw 5\\nSkipping line 4685401: expected 4 fields, saw 5\\nSkipping line 4695561: expected 4 fields, saw 5\\nSkipping line 4700985: expected 4 fields, saw 5\\nSkipping line 4703983: expected 4 fields, saw 5\\nSkipping line 4705824: expected 4 fields, saw 5\\nSkipping line 4707352: expected 4 fields, saw 5\\nSkipping line 4709629: expected 4 fields, saw 5\\nSkipping line 4710607: expected 4 fields, saw 5\\nSkipping line 4714426: expected 4 fields, saw 5\\nSkipping line 4717411: expected 4 fields, saw 5\\n'\n"
     ]
    },
    {
     "name": "stderr",
     "output_type": "stream",
     "text": [
      "b'Skipping line 4722307: expected 4 fields, saw 5\\nSkipping line 4725015: expected 4 fields, saw 5\\nSkipping line 4727058: expected 4 fields, saw 5\\nSkipping line 4731286: expected 4 fields, saw 5\\nSkipping line 4732870: expected 4 fields, saw 5\\nSkipping line 4737333: expected 4 fields, saw 5\\nSkipping line 4741307: expected 4 fields, saw 5\\nSkipping line 4741880: expected 4 fields, saw 5\\nSkipping line 4744060: expected 4 fields, saw 5\\nSkipping line 4746945: expected 4 fields, saw 5\\nSkipping line 4753643: expected 4 fields, saw 5\\nSkipping line 4758162: expected 4 fields, saw 5\\nSkipping line 4760064: expected 4 fields, saw 5\\nSkipping line 4764869: expected 4 fields, saw 5\\nSkipping line 4772641: expected 4 fields, saw 5\\nSkipping line 4777174: expected 4 fields, saw 5\\nSkipping line 4778289: expected 4 fields, saw 5\\nSkipping line 4791637: expected 4 fields, saw 5\\nSkipping line 4797260: expected 4 fields, saw 5\\nSkipping line 4800018: expected 4 fields, saw 5\\nSkipping line 4805279: expected 4 fields, saw 5\\nSkipping line 4808508: expected 4 fields, saw 5\\nSkipping line 4810234: expected 4 fields, saw 5\\nSkipping line 4812121: expected 4 fields, saw 5\\nSkipping line 4813488: expected 4 fields, saw 5\\nSkipping line 4816518: expected 4 fields, saw 5\\nSkipping line 4818831: expected 4 fields, saw 5\\nSkipping line 4821448: expected 4 fields, saw 5\\nSkipping line 4823611: expected 4 fields, saw 5\\nSkipping line 4828228: expected 4 fields, saw 5\\nSkipping line 4829572: expected 4 fields, saw 5\\nSkipping line 4832595: expected 4 fields, saw 5\\nSkipping line 4834238: expected 4 fields, saw 5\\nSkipping line 4835546: expected 4 fields, saw 5\\nSkipping line 4838050: expected 4 fields, saw 5\\nSkipping line 4843629: expected 4 fields, saw 5\\nSkipping line 4845892: expected 4 fields, saw 5\\nSkipping line 4848825: expected 4 fields, saw 5\\n'\n",
      "b'Skipping line 4852489: expected 4 fields, saw 5\\nSkipping line 4854235: expected 4 fields, saw 5\\nSkipping line 4862467: expected 4 fields, saw 5\\nSkipping line 4864567: expected 4 fields, saw 5\\nSkipping line 4869296: expected 4 fields, saw 5\\nSkipping line 4871410: expected 4 fields, saw 5\\nSkipping line 4872984: expected 4 fields, saw 5\\nSkipping line 4877176: expected 4 fields, saw 5\\nSkipping line 4880165: expected 4 fields, saw 5\\nSkipping line 4883555: expected 4 fields, saw 5\\nSkipping line 4888304: expected 4 fields, saw 5\\nSkipping line 4890629: expected 4 fields, saw 5\\nSkipping line 4892728: expected 4 fields, saw 5\\nSkipping line 4895414: expected 4 fields, saw 5\\nSkipping line 4900697: expected 4 fields, saw 5\\nSkipping line 4902629: expected 4 fields, saw 5\\nSkipping line 4905777: expected 4 fields, saw 5\\nSkipping line 4908631: expected 4 fields, saw 5\\nSkipping line 4914202: expected 4 fields, saw 5\\nSkipping line 4915741: expected 4 fields, saw 5\\nSkipping line 4917998: expected 4 fields, saw 5\\nSkipping line 4919737: expected 4 fields, saw 5\\nSkipping line 4923119: expected 4 fields, saw 5\\nSkipping line 4924943: expected 4 fields, saw 5\\nSkipping line 4931626: expected 4 fields, saw 5\\nSkipping line 4936433: expected 4 fields, saw 5\\nSkipping line 4940108: expected 4 fields, saw 5\\nSkipping line 4944376: expected 4 fields, saw 5\\nSkipping line 4945737: expected 4 fields, saw 5\\nSkipping line 4949209: expected 4 fields, saw 5\\nSkipping line 4954093: expected 4 fields, saw 5\\nSkipping line 4959808: expected 4 fields, saw 5\\nSkipping line 4962003: expected 4 fields, saw 5\\nSkipping line 4965658: expected 4 fields, saw 5\\nSkipping line 4968060: expected 4 fields, saw 5\\nSkipping line 4973241: expected 4 fields, saw 5\\nSkipping line 4978236: expected 4 fields, saw 5\\n'\n",
      "b'Skipping line 4983126: expected 4 fields, saw 5\\nSkipping line 4985958: expected 4 fields, saw 5\\nSkipping line 4988417: expected 4 fields, saw 5\\nSkipping line 4991380: expected 4 fields, saw 5\\nSkipping line 4996290: expected 4 fields, saw 5\\nSkipping line 4998408: expected 4 fields, saw 5\\nSkipping line 5000378: expected 4 fields, saw 5\\nSkipping line 5002561: expected 4 fields, saw 5\\nSkipping line 5006437: expected 4 fields, saw 5\\nSkipping line 5007263: expected 4 fields, saw 5\\nSkipping line 5008903: expected 4 fields, saw 5\\nSkipping line 5011295: expected 4 fields, saw 5\\nSkipping line 5013342: expected 4 fields, saw 5\\nSkipping line 5013958: expected 4 fields, saw 5\\nSkipping line 5015284: expected 4 fields, saw 5\\nSkipping line 5016788: expected 4 fields, saw 5\\nSkipping line 5027948: expected 4 fields, saw 5\\nSkipping line 5033480: expected 4 fields, saw 5\\nSkipping line 5037281: expected 4 fields, saw 5\\nSkipping line 5038969: expected 4 fields, saw 5\\nSkipping line 5040354: expected 4 fields, saw 5\\nSkipping line 5044327: expected 4 fields, saw 5\\nSkipping line 5046190: expected 4 fields, saw 5\\nSkipping line 5049754: expected 4 fields, saw 5\\nSkipping line 5052048: expected 4 fields, saw 5\\nSkipping line 5055894: expected 4 fields, saw 5\\nSkipping line 5058257: expected 4 fields, saw 5\\nSkipping line 5061875: expected 4 fields, saw 5\\nSkipping line 5063790: expected 4 fields, saw 5\\nSkipping line 5066033: expected 4 fields, saw 5\\nSkipping line 5068387: expected 4 fields, saw 5\\nSkipping line 5069956: expected 4 fields, saw 5\\nSkipping line 5072824: expected 4 fields, saw 5\\nSkipping line 5074288: expected 4 fields, saw 5\\nSkipping line 5079265: expected 4 fields, saw 5\\nSkipping line 5085212: expected 4 fields, saw 5\\nSkipping line 5088841: expected 4 fields, saw 5\\nSkipping line 5097010: expected 4 fields, saw 5\\nSkipping line 5099807: expected 4 fields, saw 5\\nSkipping line 5102691: expected 4 fields, saw 5\\nSkipping line 5106695: expected 4 fields, saw 5\\nSkipping line 5109444: expected 4 fields, saw 5\\nSkipping line 5113246: expected 4 fields, saw 5\\n'\n",
      "b'Skipping line 5119727: expected 4 fields, saw 5\\nSkipping line 5126651: expected 4 fields, saw 5\\nSkipping line 5129242: expected 4 fields, saw 5\\nSkipping line 5134740: expected 4 fields, saw 5\\nSkipping line 5136466: expected 4 fields, saw 5\\nSkipping line 5137251: expected 4 fields, saw 5\\nSkipping line 5140085: expected 4 fields, saw 5\\nSkipping line 5142107: expected 4 fields, saw 5\\nSkipping line 5144026: expected 4 fields, saw 5\\nSkipping line 5145619: expected 4 fields, saw 5\\nSkipping line 5147767: expected 4 fields, saw 5\\nSkipping line 5153040: expected 4 fields, saw 5\\nSkipping line 5156454: expected 4 fields, saw 5\\nSkipping line 5158251: expected 4 fields, saw 5\\nSkipping line 5162095: expected 4 fields, saw 5\\nSkipping line 5163796: expected 4 fields, saw 5\\nSkipping line 5164435: expected 4 fields, saw 5\\nSkipping line 5165891: expected 4 fields, saw 5\\nSkipping line 5167643: expected 4 fields, saw 5\\nSkipping line 5168716: expected 4 fields, saw 5\\nSkipping line 5170729: expected 4 fields, saw 5\\nSkipping line 5172279: expected 4 fields, saw 5\\nSkipping line 5174402: expected 4 fields, saw 5\\nSkipping line 5178648: expected 4 fields, saw 5\\nSkipping line 5188149: expected 4 fields, saw 5\\nSkipping line 5194040: expected 4 fields, saw 5\\nSkipping line 5197835: expected 4 fields, saw 5\\nSkipping line 5201353: expected 4 fields, saw 5\\nSkipping line 5206830: expected 4 fields, saw 5\\nSkipping line 5210060: expected 4 fields, saw 5\\nSkipping line 5212857: expected 4 fields, saw 5\\nSkipping line 5214793: expected 4 fields, saw 5\\nSkipping line 5219036: expected 4 fields, saw 5\\nSkipping line 5219522: expected 4 fields, saw 5\\nSkipping line 5221524: expected 4 fields, saw 5\\nSkipping line 5225369: expected 4 fields, saw 5\\nSkipping line 5227094: expected 4 fields, saw 5\\nSkipping line 5231533: expected 4 fields, saw 5\\nSkipping line 5233362: expected 4 fields, saw 5\\nSkipping line 5236580: expected 4 fields, saw 5\\nSkipping line 5241161: expected 4 fields, saw 5\\n'\n",
      "b'Skipping line 5248241: expected 4 fields, saw 5\\nSkipping line 5249742: expected 4 fields, saw 5\\nSkipping line 5251634: expected 4 fields, saw 5\\nSkipping line 5255887: expected 4 fields, saw 5\\nSkipping line 5259224: expected 4 fields, saw 5\\nSkipping line 5262724: expected 4 fields, saw 5\\nSkipping line 5265134: expected 4 fields, saw 5\\nSkipping line 5268992: expected 4 fields, saw 5\\nSkipping line 5274368: expected 4 fields, saw 5\\nSkipping line 5280874: expected 4 fields, saw 5\\nSkipping line 5282419: expected 4 fields, saw 5\\nSkipping line 5284142: expected 4 fields, saw 5\\nSkipping line 5285538: expected 4 fields, saw 5\\nSkipping line 5287855: expected 4 fields, saw 5\\nSkipping line 5290684: expected 4 fields, saw 5\\nSkipping line 5293976: expected 4 fields, saw 5\\nSkipping line 5298244: expected 4 fields, saw 5\\nSkipping line 5300192: expected 4 fields, saw 5\\nSkipping line 5304183: expected 4 fields, saw 5\\nSkipping line 5307172: expected 4 fields, saw 5\\nSkipping line 5312341: expected 4 fields, saw 5\\nSkipping line 5315593: expected 4 fields, saw 5\\nSkipping line 5321287: expected 4 fields, saw 5\\nSkipping line 5325517: expected 4 fields, saw 5\\nSkipping line 5327955: expected 4 fields, saw 5\\nSkipping line 5333440: expected 4 fields, saw 5\\nSkipping line 5336280: expected 4 fields, saw 5\\nSkipping line 5337934: expected 4 fields, saw 5\\nSkipping line 5339411: expected 4 fields, saw 5\\nSkipping line 5342451: expected 4 fields, saw 5\\nSkipping line 5343690: expected 4 fields, saw 5\\nSkipping line 5345486: expected 4 fields, saw 5\\nSkipping line 5348676: expected 4 fields, saw 5\\nSkipping line 5349749: expected 4 fields, saw 5\\nSkipping line 5352837: expected 4 fields, saw 5\\nSkipping line 5354952: expected 4 fields, saw 5\\nSkipping line 5357643: expected 4 fields, saw 5\\nSkipping line 5360748: expected 4 fields, saw 5\\nSkipping line 5365855: expected 4 fields, saw 5\\nSkipping line 5367374: expected 4 fields, saw 5\\nSkipping line 5373096: expected 4 fields, saw 5\\n'\n",
      "b'Skipping line 5377751: expected 4 fields, saw 5\\nSkipping line 5379591: expected 4 fields, saw 5\\nSkipping line 5381082: expected 4 fields, saw 5\\nSkipping line 5382422: expected 4 fields, saw 5\\nSkipping line 5384174: expected 4 fields, saw 5\\nSkipping line 5387695: expected 4 fields, saw 5\\nSkipping line 5388094: expected 4 fields, saw 5\\nSkipping line 5390072: expected 4 fields, saw 5\\nSkipping line 5391845: expected 4 fields, saw 5\\nSkipping line 5394598: expected 4 fields, saw 5\\nSkipping line 5398209: expected 4 fields, saw 5\\nSkipping line 5405634: expected 4 fields, saw 5\\nSkipping line 5411828: expected 4 fields, saw 5\\nSkipping line 5413791: expected 4 fields, saw 5\\nSkipping line 5419440: expected 4 fields, saw 5\\nSkipping line 5421717: expected 4 fields, saw 5\\nSkipping line 5423307: expected 4 fields, saw 5\\nSkipping line 5427055: expected 4 fields, saw 5\\nSkipping line 5430743: expected 4 fields, saw 5\\nSkipping line 5434168: expected 4 fields, saw 5\\nSkipping line 5437434: expected 4 fields, saw 5\\nSkipping line 5440927: expected 4 fields, saw 5\\nSkipping line 5443281: expected 4 fields, saw 5\\nSkipping line 5444566: expected 4 fields, saw 5\\nSkipping line 5447374: expected 4 fields, saw 5\\nSkipping line 5453008: expected 4 fields, saw 5\\nSkipping line 5453802: expected 4 fields, saw 5\\nSkipping line 5455709: expected 4 fields, saw 5\\nSkipping line 5457484: expected 4 fields, saw 5\\nSkipping line 5459723: expected 4 fields, saw 5\\nSkipping line 5463125: expected 4 fields, saw 5\\nSkipping line 5464413: expected 4 fields, saw 5\\nSkipping line 5467430: expected 4 fields, saw 5\\nSkipping line 5469876: expected 4 fields, saw 5\\nSkipping line 5472672: expected 4 fields, saw 5\\nSkipping line 5473774: expected 4 fields, saw 5\\nSkipping line 5476241: expected 4 fields, saw 5\\nSkipping line 5480724: expected 4 fields, saw 5\\nSkipping line 5481911: expected 4 fields, saw 5\\nSkipping line 5483758: expected 4 fields, saw 5\\nSkipping line 5487655: expected 4 fields, saw 5\\nSkipping line 5491208: expected 4 fields, saw 5\\nSkipping line 5497730: expected 4 fields, saw 5\\nSkipping line 5504456: expected 4 fields, saw 5\\n'\n"
     ]
    },
    {
     "name": "stderr",
     "output_type": "stream",
     "text": [
      "b'Skipping line 5508055: expected 4 fields, saw 5\\nSkipping line 5512377: expected 4 fields, saw 5\\nSkipping line 5516570: expected 4 fields, saw 5\\nSkipping line 5519362: expected 4 fields, saw 5\\nSkipping line 5523874: expected 4 fields, saw 5\\nSkipping line 5528848: expected 4 fields, saw 5\\nSkipping line 5533180: expected 4 fields, saw 5\\nSkipping line 5537221: expected 4 fields, saw 5\\nSkipping line 5538843: expected 4 fields, saw 5\\nSkipping line 5541550: expected 4 fields, saw 5\\nSkipping line 5543665: expected 4 fields, saw 5\\nSkipping line 5547656: expected 4 fields, saw 5\\nSkipping line 5549855: expected 4 fields, saw 5\\nSkipping line 5552238: expected 4 fields, saw 5\\nSkipping line 5553141: expected 4 fields, saw 5\\nSkipping line 5553864: expected 4 fields, saw 5\\nSkipping line 5555817: expected 4 fields, saw 5\\nSkipping line 5557266: expected 4 fields, saw 5\\nSkipping line 5560250: expected 4 fields, saw 5\\nSkipping line 5561538: expected 4 fields, saw 5\\nSkipping line 5564385: expected 4 fields, saw 5\\nSkipping line 5568874: expected 4 fields, saw 5\\nSkipping line 5575294: expected 4 fields, saw 5\\nSkipping line 5580267: expected 4 fields, saw 5\\nSkipping line 5583259: expected 4 fields, saw 5\\nSkipping line 5586713: expected 4 fields, saw 5\\nSkipping line 5589633: expected 4 fields, saw 5\\nSkipping line 5593190: expected 4 fields, saw 5\\nSkipping line 5594385: expected 4 fields, saw 5\\nSkipping line 5596772: expected 4 fields, saw 5\\nSkipping line 5599790: expected 4 fields, saw 5\\nSkipping line 5601211: expected 4 fields, saw 5\\nSkipping line 5603327: expected 4 fields, saw 5\\nSkipping line 5606878: expected 4 fields, saw 5\\nSkipping line 5607780: expected 4 fields, saw 5\\nSkipping line 5608306: expected 4 fields, saw 5\\nSkipping line 5611241: expected 4 fields, saw 5\\nSkipping line 5617622: expected 4 fields, saw 5\\nSkipping line 5624230: expected 4 fields, saw 5\\nSkipping line 5626984: expected 4 fields, saw 5\\nSkipping line 5632171: expected 4 fields, saw 5\\nSkipping line 5637536: expected 4 fields, saw 5\\n'\n",
      "b'Skipping line 5643616: expected 4 fields, saw 5\\nSkipping line 5646054: expected 4 fields, saw 5\\nSkipping line 5649890: expected 4 fields, saw 5\\nSkipping line 5656858: expected 4 fields, saw 5\\nSkipping line 5659746: expected 4 fields, saw 5\\nSkipping line 5660472: expected 4 fields, saw 5\\nSkipping line 5662717: expected 4 fields, saw 5\\nSkipping line 5664989: expected 4 fields, saw 5\\nSkipping line 5668485: expected 4 fields, saw 5\\nSkipping line 5671289: expected 4 fields, saw 5\\nSkipping line 5673521: expected 4 fields, saw 5\\nSkipping line 5678454: expected 4 fields, saw 5\\nSkipping line 5681566: expected 4 fields, saw 5\\nSkipping line 5682422: expected 4 fields, saw 5\\nSkipping line 5683711: expected 4 fields, saw 5\\nSkipping line 5687288: expected 4 fields, saw 5\\nSkipping line 5691995: expected 4 fields, saw 5\\nSkipping line 5698028: expected 4 fields, saw 5\\nSkipping line 5701887: expected 4 fields, saw 5\\nSkipping line 5702965: expected 4 fields, saw 5\\nSkipping line 5706033: expected 4 fields, saw 5\\nSkipping line 5709825: expected 4 fields, saw 5\\nSkipping line 5716433: expected 4 fields, saw 5\\nSkipping line 5719817: expected 4 fields, saw 5\\nSkipping line 5722894: expected 4 fields, saw 5\\nSkipping line 5728069: expected 4 fields, saw 5\\nSkipping line 5731010: expected 4 fields, saw 5\\nSkipping line 5732309: expected 4 fields, saw 5\\nSkipping line 5732842: expected 4 fields, saw 5\\nSkipping line 5735772: expected 4 fields, saw 5\\nSkipping line 5739710: expected 4 fields, saw 5\\nSkipping line 5742254: expected 4 fields, saw 5\\nSkipping line 5744034: expected 4 fields, saw 5\\nSkipping line 5744084: expected 4 fields, saw 5\\nSkipping line 5746213: expected 4 fields, saw 5\\nSkipping line 5750285: expected 4 fields, saw 5\\nSkipping line 5752737: expected 4 fields, saw 5\\nSkipping line 5755501: expected 4 fields, saw 5\\nSkipping line 5757122: expected 4 fields, saw 5\\nSkipping line 5758528: expected 4 fields, saw 5\\nSkipping line 5760535: expected 4 fields, saw 5\\nSkipping line 5765474: expected 4 fields, saw 5\\nSkipping line 5767545: expected 4 fields, saw 5\\n'\n",
      "b'Skipping line 5770401: expected 4 fields, saw 5\\nSkipping line 5772276: expected 4 fields, saw 5\\nSkipping line 5773296: expected 4 fields, saw 5\\nSkipping line 5775571: expected 4 fields, saw 5\\nSkipping line 5779997: expected 4 fields, saw 5\\nSkipping line 5785357: expected 4 fields, saw 5\\nSkipping line 5787672: expected 4 fields, saw 5\\nSkipping line 5791879: expected 4 fields, saw 5\\nSkipping line 5793740: expected 4 fields, saw 5\\nSkipping line 5796481: expected 4 fields, saw 5\\nSkipping line 5797279: expected 4 fields, saw 5\\nSkipping line 5798523: expected 4 fields, saw 5\\nSkipping line 5799416: expected 4 fields, saw 5\\nSkipping line 5812224: expected 4 fields, saw 5\\nSkipping line 5818168: expected 4 fields, saw 5\\nSkipping line 5819688: expected 4 fields, saw 5\\nSkipping line 5825279: expected 4 fields, saw 5\\nSkipping line 5827409: expected 4 fields, saw 5\\nSkipping line 5829247: expected 4 fields, saw 5\\nSkipping line 5834682: expected 4 fields, saw 5\\nSkipping line 5836369: expected 4 fields, saw 5\\nSkipping line 5837888: expected 4 fields, saw 5\\nSkipping line 5841788: expected 4 fields, saw 5\\nSkipping line 5846610: expected 4 fields, saw 5\\nSkipping line 5848030: expected 4 fields, saw 5\\nSkipping line 5851771: expected 4 fields, saw 5\\nSkipping line 5852765: expected 4 fields, saw 5\\nSkipping line 5853172: expected 4 fields, saw 5\\nSkipping line 5854244: expected 4 fields, saw 5\\nSkipping line 5856989: expected 4 fields, saw 5\\nSkipping line 5858416: expected 4 fields, saw 5\\nSkipping line 5862129: expected 4 fields, saw 5\\nSkipping line 5863961: expected 4 fields, saw 5\\nSkipping line 5865134: expected 4 fields, saw 5\\nSkipping line 5865994: expected 4 fields, saw 5\\nSkipping line 5869904: expected 4 fields, saw 5\\nSkipping line 5873180: expected 4 fields, saw 5\\nSkipping line 5876666: expected 4 fields, saw 5\\nSkipping line 5879785: expected 4 fields, saw 5\\nSkipping line 5885549: expected 4 fields, saw 5\\nSkipping line 5886843: expected 4 fields, saw 5\\nSkipping line 5888251: expected 4 fields, saw 5\\nSkipping line 5890758: expected 4 fields, saw 5\\nSkipping line 5891744: expected 4 fields, saw 5\\nSkipping line 5894765: expected 4 fields, saw 5\\n'\n",
      "b'Skipping line 5900665: expected 4 fields, saw 5\\nSkipping line 5904543: expected 4 fields, saw 5\\nSkipping line 5907756: expected 4 fields, saw 5\\nSkipping line 5909631: expected 4 fields, saw 5\\nSkipping line 5914313: expected 4 fields, saw 5\\nSkipping line 5919177: expected 4 fields, saw 5\\nSkipping line 5920644: expected 4 fields, saw 5\\nSkipping line 5922648: expected 4 fields, saw 5\\nSkipping line 5929369: expected 4 fields, saw 5\\nSkipping line 5933450: expected 4 fields, saw 5\\nSkipping line 5938990: expected 4 fields, saw 5\\nSkipping line 5940905: expected 4 fields, saw 5\\nSkipping line 5943957: expected 4 fields, saw 5\\nSkipping line 5949065: expected 4 fields, saw 5\\nSkipping line 5949847: expected 4 fields, saw 5\\nSkipping line 5954955: expected 4 fields, saw 5\\nSkipping line 5958184: expected 4 fields, saw 5\\nSkipping line 5960574: expected 4 fields, saw 5\\nSkipping line 5964037: expected 4 fields, saw 5\\nSkipping line 5969193: expected 4 fields, saw 5\\nSkipping line 5976525: expected 4 fields, saw 5\\nSkipping line 5981115: expected 4 fields, saw 5\\nSkipping line 5982365: expected 4 fields, saw 5\\nSkipping line 5983897: expected 4 fields, saw 5\\nSkipping line 5987941: expected 4 fields, saw 5\\nSkipping line 5996689: expected 4 fields, saw 5\\nSkipping line 5998682: expected 4 fields, saw 5\\nSkipping line 6000431: expected 4 fields, saw 5\\nSkipping line 6003933: expected 4 fields, saw 5\\nSkipping line 6006410: expected 4 fields, saw 5\\nSkipping line 6009278: expected 4 fields, saw 5\\nSkipping line 6010608: expected 4 fields, saw 5\\nSkipping line 6013297: expected 4 fields, saw 5\\nSkipping line 6017911: expected 4 fields, saw 5\\nSkipping line 6019948: expected 4 fields, saw 5\\nSkipping line 6023019: expected 4 fields, saw 5\\nSkipping line 6023899: expected 4 fields, saw 5\\nSkipping line 6026010: expected 4 fields, saw 5\\nSkipping line 6030446: expected 4 fields, saw 5\\n'\n"
     ]
    },
    {
     "name": "stderr",
     "output_type": "stream",
     "text": [
      "b'Skipping line 6031328: expected 4 fields, saw 5\\nSkipping line 6033409: expected 4 fields, saw 5\\nSkipping line 6035126: expected 4 fields, saw 5\\nSkipping line 6038917: expected 4 fields, saw 5\\nSkipping line 6041831: expected 4 fields, saw 5\\nSkipping line 6043058: expected 4 fields, saw 5\\nSkipping line 6045784: expected 4 fields, saw 5\\nSkipping line 6048850: expected 4 fields, saw 5\\nSkipping line 6051522: expected 4 fields, saw 5\\nSkipping line 6055328: expected 4 fields, saw 5\\nSkipping line 6057399: expected 4 fields, saw 5\\nSkipping line 6058484: expected 4 fields, saw 5\\nSkipping line 6059030: expected 4 fields, saw 5\\nSkipping line 6060275: expected 4 fields, saw 5\\nSkipping line 6061674: expected 4 fields, saw 5\\nSkipping line 6065141: expected 4 fields, saw 5\\nSkipping line 6068484: expected 4 fields, saw 5\\nSkipping line 6069655: expected 4 fields, saw 5\\nSkipping line 6071698: expected 4 fields, saw 5\\nSkipping line 6073624: expected 4 fields, saw 5\\nSkipping line 6075938: expected 4 fields, saw 5\\nSkipping line 6078452: expected 4 fields, saw 5\\nSkipping line 6080388: expected 4 fields, saw 5\\nSkipping line 6082088: expected 4 fields, saw 5\\nSkipping line 6084090: expected 4 fields, saw 5\\nSkipping line 6085569: expected 4 fields, saw 5\\nSkipping line 6088331: expected 4 fields, saw 5\\nSkipping line 6089942: expected 4 fields, saw 5\\nSkipping line 6091253: expected 4 fields, saw 5\\nSkipping line 6095695: expected 4 fields, saw 5\\nSkipping line 6097932: expected 4 fields, saw 5\\nSkipping line 6101095: expected 4 fields, saw 5\\nSkipping line 6103255: expected 4 fields, saw 5\\nSkipping line 6108941: expected 4 fields, saw 5\\nSkipping line 6112912: expected 4 fields, saw 5\\nSkipping line 6114839: expected 4 fields, saw 5\\nSkipping line 6118884: expected 4 fields, saw 5\\nSkipping line 6123398: expected 4 fields, saw 5\\nSkipping line 6125724: expected 4 fields, saw 5\\nSkipping line 6128935: expected 4 fields, saw 5\\nSkipping line 6132194: expected 4 fields, saw 5\\nSkipping line 6135471: expected 4 fields, saw 5\\nSkipping line 6136004: expected 4 fields, saw 5\\nSkipping line 6137167: expected 4 fields, saw 5\\nSkipping line 6139676: expected 4 fields, saw 5\\nSkipping line 6142743: expected 4 fields, saw 5\\nSkipping line 6143989: expected 4 fields, saw 5\\nSkipping line 6146828: expected 4 fields, saw 5\\nSkipping line 6151979: expected 4 fields, saw 5\\nSkipping line 6158954: expected 4 fields, saw 5\\nSkipping line 6159995: expected 4 fields, saw 5\\n'\n",
      "b'Skipping line 6162602: expected 4 fields, saw 5\\nSkipping line 6163791: expected 4 fields, saw 5\\nSkipping line 6165982: expected 4 fields, saw 5\\nSkipping line 6168127: expected 4 fields, saw 5\\nSkipping line 6169907: expected 4 fields, saw 5\\nSkipping line 6176371: expected 4 fields, saw 5\\nSkipping line 6179382: expected 4 fields, saw 5\\nSkipping line 6185647: expected 4 fields, saw 5\\nSkipping line 6192109: expected 4 fields, saw 5\\nSkipping line 6194605: expected 4 fields, saw 5\\nSkipping line 6197793: expected 4 fields, saw 5\\nSkipping line 6199175: expected 4 fields, saw 5\\nSkipping line 6201866: expected 4 fields, saw 5\\nSkipping line 6208011: expected 4 fields, saw 5\\nSkipping line 6212382: expected 4 fields, saw 5\\nSkipping line 6216283: expected 4 fields, saw 5\\nSkipping line 6218556: expected 4 fields, saw 5\\nSkipping line 6222026: expected 4 fields, saw 5\\nSkipping line 6223777: expected 4 fields, saw 5\\nSkipping line 6226181: expected 4 fields, saw 5\\nSkipping line 6231622: expected 4 fields, saw 5\\nSkipping line 6233859: expected 4 fields, saw 5\\nSkipping line 6239326: expected 4 fields, saw 5\\nSkipping line 6244233: expected 4 fields, saw 5\\nSkipping line 6245812: expected 4 fields, saw 5\\nSkipping line 6248043: expected 4 fields, saw 5\\nSkipping line 6250178: expected 4 fields, saw 5\\nSkipping line 6252392: expected 4 fields, saw 5\\nSkipping line 6253500: expected 4 fields, saw 5\\nSkipping line 6254542: expected 4 fields, saw 5\\nSkipping line 6256216: expected 4 fields, saw 5\\nSkipping line 6259611: expected 4 fields, saw 5\\nSkipping line 6261730: expected 4 fields, saw 5\\nSkipping line 6262970: expected 4 fields, saw 5\\nSkipping line 6266496: expected 4 fields, saw 5\\nSkipping line 6270579: expected 4 fields, saw 5\\nSkipping line 6273690: expected 4 fields, saw 5\\nSkipping line 6276466: expected 4 fields, saw 5\\nSkipping line 6278822: expected 4 fields, saw 5\\nSkipping line 6281138: expected 4 fields, saw 5\\nSkipping line 6282469: expected 4 fields, saw 5\\nSkipping line 6284429: expected 4 fields, saw 5\\nSkipping line 6285520: expected 4 fields, saw 5\\nSkipping line 6287071: expected 4 fields, saw 5\\nSkipping line 6290215: expected 4 fields, saw 5\\nSkipping line 6292333: expected 4 fields, saw 5\\n'\n",
      "b'Skipping line 6294681: expected 4 fields, saw 5\\nSkipping line 6297958: expected 4 fields, saw 5\\nSkipping line 6300032: expected 4 fields, saw 5\\nSkipping line 6302771: expected 4 fields, saw 5\\nSkipping line 6305441: expected 4 fields, saw 5\\nSkipping line 6307904: expected 4 fields, saw 5\\nSkipping line 6314604: expected 4 fields, saw 5\\nSkipping line 6320718: expected 4 fields, saw 5\\nSkipping line 6323321: expected 4 fields, saw 5\\nSkipping line 6324581: expected 4 fields, saw 5\\nSkipping line 6327672: expected 4 fields, saw 5\\nSkipping line 6333700: expected 4 fields, saw 5\\nSkipping line 6334775: expected 4 fields, saw 5\\nSkipping line 6336186: expected 4 fields, saw 5\\nSkipping line 6337536: expected 4 fields, saw 5\\nSkipping line 6340543: expected 4 fields, saw 5\\nSkipping line 6342397: expected 4 fields, saw 5\\nSkipping line 6342995: expected 4 fields, saw 5\\nSkipping line 6345623: expected 4 fields, saw 5\\nSkipping line 6347183: expected 4 fields, saw 5\\nSkipping line 6350998: expected 4 fields, saw 5\\nSkipping line 6359716: expected 4 fields, saw 5\\nSkipping line 6362376: expected 4 fields, saw 5\\nSkipping line 6364898: expected 4 fields, saw 5\\nSkipping line 6366747: expected 4 fields, saw 5\\nSkipping line 6369950: expected 4 fields, saw 5\\nSkipping line 6373030: expected 4 fields, saw 5\\nSkipping line 6373950: expected 4 fields, saw 5\\nSkipping line 6375812: expected 4 fields, saw 5\\nSkipping line 6377960: expected 4 fields, saw 5\\nSkipping line 6383030: expected 4 fields, saw 5\\nSkipping line 6385465: expected 4 fields, saw 5\\nSkipping line 6386712: expected 4 fields, saw 5\\nSkipping line 6391488: expected 4 fields, saw 5\\nSkipping line 6394870: expected 4 fields, saw 5\\nSkipping line 6399618: expected 4 fields, saw 5\\nSkipping line 6408890: expected 4 fields, saw 5\\nSkipping line 6413621: expected 4 fields, saw 5\\nSkipping line 6416611: expected 4 fields, saw 5\\nSkipping line 6418309: expected 4 fields, saw 5\\nSkipping line 6421600: expected 4 fields, saw 5\\n'\n",
      "b'Skipping line 6424744: expected 4 fields, saw 5\\nSkipping line 6430686: expected 4 fields, saw 5\\nSkipping line 6434650: expected 4 fields, saw 5\\nSkipping line 6436015: expected 4 fields, saw 5\\nSkipping line 6439838: expected 4 fields, saw 5\\nSkipping line 6444323: expected 4 fields, saw 5\\nSkipping line 6450514: expected 4 fields, saw 5\\nSkipping line 6453212: expected 4 fields, saw 5\\nSkipping line 6455322: expected 4 fields, saw 5\\nSkipping line 6457370: expected 4 fields, saw 5\\nSkipping line 6461556: expected 4 fields, saw 5\\nSkipping line 6467205: expected 4 fields, saw 5\\nSkipping line 6473402: expected 4 fields, saw 5\\nSkipping line 6476144: expected 4 fields, saw 5\\nSkipping line 6480749: expected 4 fields, saw 5\\nSkipping line 6482481: expected 4 fields, saw 5\\nSkipping line 6485914: expected 4 fields, saw 5\\nSkipping line 6488421: expected 4 fields, saw 5\\nSkipping line 6489674: expected 4 fields, saw 5\\nSkipping line 6490001: expected 4 fields, saw 5\\nSkipping line 6491480: expected 4 fields, saw 5\\nSkipping line 6495243: expected 4 fields, saw 5\\nSkipping line 6500265: expected 4 fields, saw 5\\nSkipping line 6502920: expected 4 fields, saw 5\\nSkipping line 6504778: expected 4 fields, saw 5\\nSkipping line 6517936: expected 4 fields, saw 5\\nSkipping line 6525846: expected 4 fields, saw 5\\nSkipping line 6526946: expected 4 fields, saw 5\\nSkipping line 6527334: expected 4 fields, saw 5\\nSkipping line 6530737: expected 4 fields, saw 5\\nSkipping line 6532407: expected 4 fields, saw 5\\nSkipping line 6535399: expected 4 fields, saw 5\\nSkipping line 6537443: expected 4 fields, saw 5\\nSkipping line 6538488: expected 4 fields, saw 5\\nSkipping line 6539261: expected 4 fields, saw 5\\nSkipping line 6542865: expected 4 fields, saw 5\\nSkipping line 6546863: expected 4 fields, saw 5\\nSkipping line 6548870: expected 4 fields, saw 5\\nSkipping line 6550163: expected 4 fields, saw 5\\nSkipping line 6553361: expected 4 fields, saw 5\\nSkipping line 6554976: expected 4 fields, saw 5\\n'\n"
     ]
    },
    {
     "name": "stderr",
     "output_type": "stream",
     "text": [
      "b'Skipping line 6556225: expected 4 fields, saw 5\\nSkipping line 6559512: expected 4 fields, saw 5\\nSkipping line 6562301: expected 4 fields, saw 5\\nSkipping line 6563087: expected 4 fields, saw 5\\nSkipping line 6564829: expected 4 fields, saw 5\\nSkipping line 6566547: expected 4 fields, saw 5\\nSkipping line 6567919: expected 4 fields, saw 5\\nSkipping line 6572732: expected 4 fields, saw 5\\nSkipping line 6578840: expected 4 fields, saw 5\\nSkipping line 6581252: expected 4 fields, saw 5\\nSkipping line 6583610: expected 4 fields, saw 5\\nSkipping line 6584835: expected 4 fields, saw 5\\nSkipping line 6587032: expected 4 fields, saw 5\\nSkipping line 6588526: expected 4 fields, saw 5\\nSkipping line 6589430: expected 4 fields, saw 5\\nSkipping line 6590631: expected 4 fields, saw 5\\nSkipping line 6591863: expected 4 fields, saw 5\\nSkipping line 6593852: expected 4 fields, saw 5\\nSkipping line 6595527: expected 4 fields, saw 5\\nSkipping line 6598997: expected 4 fields, saw 5\\nSkipping line 6604662: expected 4 fields, saw 5\\nSkipping line 6605965: expected 4 fields, saw 5\\nSkipping line 6607108: expected 4 fields, saw 5\\nSkipping line 6609399: expected 4 fields, saw 5\\nSkipping line 6613315: expected 4 fields, saw 5\\nSkipping line 6618016: expected 4 fields, saw 5\\nSkipping line 6619649: expected 4 fields, saw 5\\nSkipping line 6620876: expected 4 fields, saw 5\\nSkipping line 6623475: expected 4 fields, saw 5\\nSkipping line 6625598: expected 4 fields, saw 5\\nSkipping line 6626412: expected 4 fields, saw 5\\nSkipping line 6627550: expected 4 fields, saw 5\\nSkipping line 6628948: expected 4 fields, saw 5\\nSkipping line 6629769: expected 4 fields, saw 5\\nSkipping line 6634120: expected 4 fields, saw 5\\nSkipping line 6636438: expected 4 fields, saw 5\\nSkipping line 6638539: expected 4 fields, saw 5\\nSkipping line 6650693: expected 4 fields, saw 5\\nSkipping line 6655158: expected 4 fields, saw 5\\nSkipping line 6655752: expected 4 fields, saw 5\\nSkipping line 6658314: expected 4 fields, saw 5\\nSkipping line 6665578: expected 4 fields, saw 5\\nSkipping line 6668940: expected 4 fields, saw 5\\nSkipping line 6671095: expected 4 fields, saw 5\\nSkipping line 6674257: expected 4 fields, saw 5\\nSkipping line 6677113: expected 4 fields, saw 5\\nSkipping line 6679610: expected 4 fields, saw 5\\nSkipping line 6680487: expected 4 fields, saw 5\\nSkipping line 6681469: expected 4 fields, saw 5\\nSkipping line 6684586: expected 4 fields, saw 5\\nSkipping line 6685501: expected 4 fields, saw 5\\n'\n",
      "b'Skipping line 6689384: expected 4 fields, saw 5\\nSkipping line 6691641: expected 4 fields, saw 5\\nSkipping line 6692968: expected 4 fields, saw 5\\nSkipping line 6694020: expected 4 fields, saw 5\\nSkipping line 6695735: expected 4 fields, saw 5\\nSkipping line 6697945: expected 4 fields, saw 5\\nSkipping line 6703909: expected 4 fields, saw 5\\nSkipping line 6705979: expected 4 fields, saw 5\\nSkipping line 6706477: expected 4 fields, saw 5\\nSkipping line 6708028: expected 4 fields, saw 5\\nSkipping line 6710705: expected 4 fields, saw 5\\nSkipping line 6713689: expected 4 fields, saw 5\\nSkipping line 6720061: expected 4 fields, saw 5\\nSkipping line 6722595: expected 4 fields, saw 5\\nSkipping line 6726522: expected 4 fields, saw 5\\nSkipping line 6730290: expected 4 fields, saw 5\\nSkipping line 6732790: expected 4 fields, saw 5\\nSkipping line 6734932: expected 4 fields, saw 5\\nSkipping line 6738126: expected 4 fields, saw 5\\nSkipping line 6740044: expected 4 fields, saw 5\\nSkipping line 6741174: expected 4 fields, saw 5\\nSkipping line 6742300: expected 4 fields, saw 5\\nSkipping line 6743936: expected 4 fields, saw 5\\nSkipping line 6747103: expected 4 fields, saw 5\\nSkipping line 6748387: expected 4 fields, saw 5\\nSkipping line 6755094: expected 4 fields, saw 5\\nSkipping line 6763011: expected 4 fields, saw 5\\nSkipping line 6766956: expected 4 fields, saw 5\\nSkipping line 6773355: expected 4 fields, saw 5\\nSkipping line 6775799: expected 4 fields, saw 5\\nSkipping line 6779812: expected 4 fields, saw 5\\nSkipping line 6783510: expected 4 fields, saw 5\\nSkipping line 6785155: expected 4 fields, saw 5\\nSkipping line 6795157: expected 4 fields, saw 5\\nSkipping line 6800694: expected 4 fields, saw 5\\nSkipping line 6803894: expected 4 fields, saw 5\\nSkipping line 6808477: expected 4 fields, saw 5\\nSkipping line 6811231: expected 4 fields, saw 5\\nSkipping line 6815388: expected 4 fields, saw 5\\n'\n",
      "b'Skipping line 6819551: expected 4 fields, saw 5\\nSkipping line 6820640: expected 4 fields, saw 5\\nSkipping line 6823017: expected 4 fields, saw 5\\nSkipping line 6823980: expected 4 fields, saw 5\\nSkipping line 6825100: expected 4 fields, saw 5\\nSkipping line 6825819: expected 4 fields, saw 5\\nSkipping line 6828607: expected 4 fields, saw 5\\nSkipping line 6833927: expected 4 fields, saw 5\\nSkipping line 6835904: expected 4 fields, saw 5\\nSkipping line 6840974: expected 4 fields, saw 5\\nSkipping line 6843897: expected 4 fields, saw 5\\nSkipping line 6846055: expected 4 fields, saw 5\\nSkipping line 6847673: expected 4 fields, saw 5\\nSkipping line 6850995: expected 4 fields, saw 5\\nSkipping line 6853370: expected 4 fields, saw 5\\nSkipping line 6856165: expected 4 fields, saw 5\\nSkipping line 6863316: expected 4 fields, saw 5\\nSkipping line 6865080: expected 4 fields, saw 5\\nSkipping line 6869461: expected 4 fields, saw 5\\nSkipping line 6875533: expected 4 fields, saw 5\\nSkipping line 6877399: expected 4 fields, saw 5\\nSkipping line 6878374: expected 4 fields, saw 5\\nSkipping line 6878623: expected 4 fields, saw 5\\nSkipping line 6882259: expected 4 fields, saw 5\\nSkipping line 6889673: expected 4 fields, saw 5\\nSkipping line 6903611: expected 4 fields, saw 5\\nSkipping line 6907750: expected 4 fields, saw 5\\nSkipping line 6910993: expected 4 fields, saw 5\\nSkipping line 6914089: expected 4 fields, saw 5\\nSkipping line 6918455: expected 4 fields, saw 5\\nSkipping line 6918812: expected 4 fields, saw 5\\nSkipping line 6919280: expected 4 fields, saw 5\\nSkipping line 6921198: expected 4 fields, saw 5\\nSkipping line 6922962: expected 4 fields, saw 5\\nSkipping line 6929157: expected 4 fields, saw 5\\nSkipping line 6933792: expected 4 fields, saw 5\\nSkipping line 6938209: expected 4 fields, saw 5\\nSkipping line 6943956: expected 4 fields, saw 5\\nSkipping line 6945654: expected 4 fields, saw 5\\nSkipping line 6948406: expected 4 fields, saw 5\\n'\n",
      "b'Skipping line 6949698: expected 4 fields, saw 5\\nSkipping line 6952068: expected 4 fields, saw 5\\nSkipping line 6955583: expected 4 fields, saw 5\\nSkipping line 6957536: expected 4 fields, saw 5\\nSkipping line 6958614: expected 4 fields, saw 5\\nSkipping line 6970087: expected 4 fields, saw 5\\nSkipping line 6975351: expected 4 fields, saw 5\\nSkipping line 6979687: expected 4 fields, saw 5\\nSkipping line 6983890: expected 4 fields, saw 5\\nSkipping line 6988575: expected 4 fields, saw 5\\nSkipping line 6999737: expected 4 fields, saw 5\\nSkipping line 7003481: expected 4 fields, saw 5\\nSkipping line 7007308: expected 4 fields, saw 5\\nSkipping line 7009783: expected 4 fields, saw 5\\nSkipping line 7011130: expected 4 fields, saw 5\\nSkipping line 7024398: expected 4 fields, saw 5\\nSkipping line 7032491: expected 4 fields, saw 5\\nSkipping line 7033643: expected 4 fields, saw 5\\nSkipping line 7035049: expected 4 fields, saw 5\\nSkipping line 7036281: expected 4 fields, saw 5\\nSkipping line 7040957: expected 4 fields, saw 5\\nSkipping line 7047975: expected 4 fields, saw 5\\nSkipping line 7051807: expected 4 fields, saw 5\\nSkipping line 7056660: expected 4 fields, saw 5\\nSkipping line 7059592: expected 4 fields, saw 5\\nSkipping line 7061835: expected 4 fields, saw 5\\nSkipping line 7067160: expected 4 fields, saw 5\\nSkipping line 7068820: expected 4 fields, saw 5\\nSkipping line 7074214: expected 4 fields, saw 5\\nSkipping line 7077135: expected 4 fields, saw 5\\n'\n",
      "b'Skipping line 7080899: expected 4 fields, saw 5\\nSkipping line 7089635: expected 4 fields, saw 5\\nSkipping line 7094676: expected 4 fields, saw 5\\nSkipping line 7096933: expected 4 fields, saw 5\\nSkipping line 7102019: expected 4 fields, saw 5\\nSkipping line 7104310: expected 4 fields, saw 5\\nSkipping line 7108437: expected 4 fields, saw 5\\nSkipping line 7113153: expected 4 fields, saw 5\\nSkipping line 7116895: expected 4 fields, saw 5\\nSkipping line 7119330: expected 4 fields, saw 5\\nSkipping line 7125642: expected 4 fields, saw 5\\nSkipping line 7130459: expected 4 fields, saw 5\\nSkipping line 7131802: expected 4 fields, saw 5\\nSkipping line 7133484: expected 4 fields, saw 5\\nSkipping line 7135608: expected 4 fields, saw 5\\nSkipping line 7138487: expected 4 fields, saw 5\\nSkipping line 7142542: expected 4 fields, saw 5\\nSkipping line 7145166: expected 4 fields, saw 5\\nSkipping line 7146871: expected 4 fields, saw 5\\nSkipping line 7148560: expected 4 fields, saw 5\\nSkipping line 7152654: expected 4 fields, saw 5\\nSkipping line 7155572: expected 4 fields, saw 5\\nSkipping line 7160641: expected 4 fields, saw 5\\nSkipping line 7162458: expected 4 fields, saw 5\\nSkipping line 7163625: expected 4 fields, saw 5\\nSkipping line 7164666: expected 4 fields, saw 5\\nSkipping line 7168021: expected 4 fields, saw 5\\nSkipping line 7170213: expected 4 fields, saw 5\\nSkipping line 7174137: expected 4 fields, saw 5\\nSkipping line 7179157: expected 4 fields, saw 5\\nSkipping line 7179925: expected 4 fields, saw 5\\nSkipping line 7181805: expected 4 fields, saw 5\\nSkipping line 7182504: expected 4 fields, saw 5\\nSkipping line 7189045: expected 4 fields, saw 5\\nSkipping line 7192563: expected 4 fields, saw 5\\nSkipping line 7193992: expected 4 fields, saw 5\\nSkipping line 7197752: expected 4 fields, saw 5\\nSkipping line 7204577: expected 4 fields, saw 5\\nSkipping line 7206328: expected 4 fields, saw 5\\nSkipping line 7208403: expected 4 fields, saw 5\\nSkipping line 7210561: expected 4 fields, saw 5\\n'\n",
      "b'Skipping line 7213091: expected 4 fields, saw 5\\nSkipping line 7215171: expected 4 fields, saw 5\\nSkipping line 7225440: expected 4 fields, saw 5\\nSkipping line 7230391: expected 4 fields, saw 5\\nSkipping line 7233523: expected 4 fields, saw 5\\nSkipping line 7235558: expected 4 fields, saw 5\\nSkipping line 7240845: expected 4 fields, saw 5\\nSkipping line 7244660: expected 4 fields, saw 5\\nSkipping line 7245718: expected 4 fields, saw 5\\nSkipping line 7246688: expected 4 fields, saw 5\\nSkipping line 7248493: expected 4 fields, saw 5\\nSkipping line 7250122: expected 4 fields, saw 5\\nSkipping line 7252078: expected 4 fields, saw 5\\nSkipping line 7267134: expected 4 fields, saw 5\\nSkipping line 7275083: expected 4 fields, saw 5\\nSkipping line 7277923: expected 4 fields, saw 5\\nSkipping line 7279141: expected 4 fields, saw 5\\nSkipping line 7280444: expected 4 fields, saw 5\\nSkipping line 7281473: expected 4 fields, saw 5\\nSkipping line 7283028: expected 4 fields, saw 5\\nSkipping line 7284352: expected 4 fields, saw 5\\nSkipping line 7287287: expected 4 fields, saw 5\\nSkipping line 7290296: expected 4 fields, saw 5\\nSkipping line 7295563: expected 4 fields, saw 5\\nSkipping line 7300834: expected 4 fields, saw 5\\nSkipping line 7303469: expected 4 fields, saw 5\\nSkipping line 7306097: expected 4 fields, saw 5\\nSkipping line 7319728: expected 4 fields, saw 5\\nSkipping line 7327957: expected 4 fields, saw 5\\nSkipping line 7330114: expected 4 fields, saw 5\\nSkipping line 7331065: expected 4 fields, saw 5\\nSkipping line 7332200: expected 4 fields, saw 5\\nSkipping line 7334102: expected 4 fields, saw 5\\nSkipping line 7337377: expected 4 fields, saw 5\\nSkipping line 7339655: expected 4 fields, saw 5\\n'\n"
     ]
    },
    {
     "name": "stderr",
     "output_type": "stream",
     "text": [
      "b'Skipping line 7347607: expected 4 fields, saw 5\\nSkipping line 7353560: expected 4 fields, saw 5\\nSkipping line 7354055: expected 4 fields, saw 5\\nSkipping line 7355937: expected 4 fields, saw 5\\nSkipping line 7359448: expected 4 fields, saw 5\\nSkipping line 7366112: expected 4 fields, saw 5\\nSkipping line 7368766: expected 4 fields, saw 5\\nSkipping line 7372852: expected 4 fields, saw 5\\nSkipping line 7377379: expected 4 fields, saw 5\\nSkipping line 7382733: expected 4 fields, saw 5\\nSkipping line 7388698: expected 4 fields, saw 5\\nSkipping line 7394773: expected 4 fields, saw 5\\nSkipping line 7396712: expected 4 fields, saw 5\\nSkipping line 7398714: expected 4 fields, saw 5\\nSkipping line 7402387: expected 4 fields, saw 5\\nSkipping line 7406637: expected 4 fields, saw 5\\nSkipping line 7408904: expected 4 fields, saw 5\\nSkipping line 7412125: expected 4 fields, saw 5\\nSkipping line 7416944: expected 4 fields, saw 5\\nSkipping line 7418711: expected 4 fields, saw 5\\nSkipping line 7421438: expected 4 fields, saw 5\\nSkipping line 7428312: expected 4 fields, saw 5\\nSkipping line 7432053: expected 4 fields, saw 5\\nSkipping line 7436482: expected 4 fields, saw 5\\nSkipping line 7437811: expected 4 fields, saw 5\\nSkipping line 7439775: expected 4 fields, saw 5\\nSkipping line 7444089: expected 4 fields, saw 5\\nSkipping line 7453276: expected 4 fields, saw 5\\nSkipping line 7458821: expected 4 fields, saw 5\\nSkipping line 7462190: expected 4 fields, saw 5\\nSkipping line 7464051: expected 4 fields, saw 5\\nSkipping line 7466677: expected 4 fields, saw 5\\nSkipping line 7471538: expected 4 fields, saw 5\\nSkipping line 7473135: expected 4 fields, saw 5\\n'\n",
      "b'Skipping line 7476191: expected 4 fields, saw 5\\nSkipping line 7477551: expected 4 fields, saw 5\\nSkipping line 7479822: expected 4 fields, saw 5\\nSkipping line 7480990: expected 4 fields, saw 5\\nSkipping line 7483035: expected 4 fields, saw 5\\nSkipping line 7486936: expected 4 fields, saw 5\\nSkipping line 7489548: expected 4 fields, saw 5\\nSkipping line 7492290: expected 4 fields, saw 5\\nSkipping line 7498292: expected 4 fields, saw 5\\nSkipping line 7500052: expected 4 fields, saw 5\\nSkipping line 7503440: expected 4 fields, saw 5\\nSkipping line 7504109: expected 4 fields, saw 5\\nSkipping line 7510619: expected 4 fields, saw 5\\nSkipping line 7515122: expected 4 fields, saw 5\\nSkipping line 7516826: expected 4 fields, saw 5\\nSkipping line 7518412: expected 4 fields, saw 5\\nSkipping line 7520778: expected 4 fields, saw 5\\nSkipping line 7523167: expected 4 fields, saw 5\\nSkipping line 7524037: expected 4 fields, saw 5\\nSkipping line 7526841: expected 4 fields, saw 5\\nSkipping line 7532477: expected 4 fields, saw 5\\nSkipping line 7533369: expected 4 fields, saw 5\\nSkipping line 7536455: expected 4 fields, saw 5\\nSkipping line 7538821: expected 4 fields, saw 5\\nSkipping line 7541981: expected 4 fields, saw 5\\nSkipping line 7544490: expected 4 fields, saw 5\\nSkipping line 7546320: expected 4 fields, saw 5\\nSkipping line 7548623: expected 4 fields, saw 5\\nSkipping line 7551278: expected 4 fields, saw 5\\nSkipping line 7558097: expected 4 fields, saw 5\\nSkipping line 7560631: expected 4 fields, saw 5\\nSkipping line 7562870: expected 4 fields, saw 5\\nSkipping line 7563974: expected 4 fields, saw 5\\nSkipping line 7566009: expected 4 fields, saw 5\\nSkipping line 7567054: expected 4 fields, saw 5\\nSkipping line 7570845: expected 4 fields, saw 5\\nSkipping line 7572447: expected 4 fields, saw 5\\nSkipping line 7574282: expected 4 fields, saw 5\\nSkipping line 7578848: expected 4 fields, saw 5\\nSkipping line 7582801: expected 4 fields, saw 5\\nSkipping line 7587935: expected 4 fields, saw 5\\nSkipping line 7590626: expected 4 fields, saw 5\\nSkipping line 7596936: expected 4 fields, saw 5\\nSkipping line 7598580: expected 4 fields, saw 5\\nSkipping line 7604051: expected 4 fields, saw 5\\n'\n",
      "b'Skipping line 7613594: expected 4 fields, saw 5\\nSkipping line 7620701: expected 4 fields, saw 5\\nSkipping line 7626372: expected 4 fields, saw 5\\nSkipping line 7627828: expected 4 fields, saw 5\\nSkipping line 7628786: expected 4 fields, saw 5\\nSkipping line 7629611: expected 4 fields, saw 5\\nSkipping line 7630333: expected 4 fields, saw 5\\nSkipping line 7632554: expected 4 fields, saw 5\\nSkipping line 7636670: expected 4 fields, saw 5\\nSkipping line 7641618: expected 4 fields, saw 5\\nSkipping line 7642724: expected 4 fields, saw 5\\nSkipping line 7645478: expected 4 fields, saw 5\\nSkipping line 7648127: expected 4 fields, saw 5\\nSkipping line 7653592: expected 4 fields, saw 5\\nSkipping line 7656584: expected 4 fields, saw 5\\nSkipping line 7660721: expected 4 fields, saw 5\\nSkipping line 7663991: expected 4 fields, saw 5\\nSkipping line 7668026: expected 4 fields, saw 5\\nSkipping line 7670158: expected 4 fields, saw 5\\nSkipping line 7672606: expected 4 fields, saw 5\\nSkipping line 7674959: expected 4 fields, saw 5\\nSkipping line 7680317: expected 4 fields, saw 5\\nSkipping line 7681935: expected 4 fields, saw 5\\nSkipping line 7683672: expected 4 fields, saw 5\\nSkipping line 7686637: expected 4 fields, saw 5\\nSkipping line 7692047: expected 4 fields, saw 5\\nSkipping line 7693585: expected 4 fields, saw 5\\nSkipping line 7697603: expected 4 fields, saw 5\\nSkipping line 7698908: expected 4 fields, saw 5\\nSkipping line 7700355: expected 4 fields, saw 5\\nSkipping line 7702465: expected 4 fields, saw 5\\nSkipping line 7704992: expected 4 fields, saw 5\\nSkipping line 7706339: expected 4 fields, saw 5\\nSkipping line 7709154: expected 4 fields, saw 5\\nSkipping line 7711304: expected 4 fields, saw 5\\nSkipping line 7715332: expected 4 fields, saw 5\\nSkipping line 7720455: expected 4 fields, saw 5\\nSkipping line 7723472: expected 4 fields, saw 5\\nSkipping line 7725545: expected 4 fields, saw 5\\n'\n",
      "b'Skipping line 7740029: expected 4 fields, saw 5\\nSkipping line 7741497: expected 4 fields, saw 5\\nSkipping line 7743035: expected 4 fields, saw 5\\nSkipping line 7745544: expected 4 fields, saw 5\\nSkipping line 7746676: expected 4 fields, saw 5\\nSkipping line 7749314: expected 4 fields, saw 5\\nSkipping line 7750996: expected 4 fields, saw 5\\nSkipping line 7752224: expected 4 fields, saw 5\\nSkipping line 7757698: expected 4 fields, saw 5\\nSkipping line 7762988: expected 4 fields, saw 5\\nSkipping line 7769038: expected 4 fields, saw 5\\nSkipping line 7772405: expected 4 fields, saw 5\\nSkipping line 7773860: expected 4 fields, saw 5\\nSkipping line 7777260: expected 4 fields, saw 5\\nSkipping line 7782083: expected 4 fields, saw 5\\nSkipping line 7789911: expected 4 fields, saw 5\\nSkipping line 7795567: expected 4 fields, saw 5\\nSkipping line 7796981: expected 4 fields, saw 5\\nSkipping line 7802885: expected 4 fields, saw 5\\nSkipping line 7812213: expected 4 fields, saw 5\\nSkipping line 7818853: expected 4 fields, saw 5\\nSkipping line 7821464: expected 4 fields, saw 5\\nSkipping line 7823153: expected 4 fields, saw 5\\nSkipping line 7827457: expected 4 fields, saw 5\\nSkipping line 7832960: expected 4 fields, saw 5\\nSkipping line 7839526: expected 4 fields, saw 5\\nSkipping line 7841281: expected 4 fields, saw 5\\nSkipping line 7842532: expected 4 fields, saw 5\\nSkipping line 7844685: expected 4 fields, saw 5\\nSkipping line 7847205: expected 4 fields, saw 5\\nSkipping line 7849268: expected 4 fields, saw 5\\nSkipping line 7851315: expected 4 fields, saw 5\\nSkipping line 7853554: expected 4 fields, saw 5\\nSkipping line 7859094: expected 4 fields, saw 5\\n'\n",
      "b'Skipping line 7867568: expected 4 fields, saw 5\\nSkipping line 7870439: expected 4 fields, saw 5\\nSkipping line 7872871: expected 4 fields, saw 5\\nSkipping line 7877219: expected 4 fields, saw 5\\nSkipping line 7882171: expected 4 fields, saw 5\\nSkipping line 7889768: expected 4 fields, saw 5\\nSkipping line 7893096: expected 4 fields, saw 5\\nSkipping line 7895450: expected 4 fields, saw 5\\nSkipping line 7900156: expected 4 fields, saw 5\\nSkipping line 7903757: expected 4 fields, saw 5\\nSkipping line 7905089: expected 4 fields, saw 5\\nSkipping line 7911389: expected 4 fields, saw 5\\nSkipping line 7916800: expected 4 fields, saw 5\\nSkipping line 7919002: expected 4 fields, saw 5\\nSkipping line 7921431: expected 4 fields, saw 5\\nSkipping line 7922535: expected 4 fields, saw 5\\nSkipping line 7923519: expected 4 fields, saw 5\\nSkipping line 7926006: expected 4 fields, saw 5\\nSkipping line 7931766: expected 4 fields, saw 5\\nSkipping line 7935990: expected 4 fields, saw 5\\nSkipping line 7938323: expected 4 fields, saw 5\\nSkipping line 7942314: expected 4 fields, saw 5\\nSkipping line 7943508: expected 4 fields, saw 5\\nSkipping line 7946032: expected 4 fields, saw 5\\nSkipping line 7950270: expected 4 fields, saw 5\\nSkipping line 7952120: expected 4 fields, saw 5\\nSkipping line 7955667: expected 4 fields, saw 5\\nSkipping line 7957688: expected 4 fields, saw 5\\nSkipping line 7961342: expected 4 fields, saw 5\\nSkipping line 7962572: expected 4 fields, saw 5\\nSkipping line 7965398: expected 4 fields, saw 5\\nSkipping line 7966936: expected 4 fields, saw 5\\nSkipping line 7969289: expected 4 fields, saw 5\\nSkipping line 7972257: expected 4 fields, saw 5\\nSkipping line 7976657: expected 4 fields, saw 5\\nSkipping line 7978837: expected 4 fields, saw 5\\nSkipping line 7985499: expected 4 fields, saw 5\\nSkipping line 7992826: expected 4 fields, saw 5\\nSkipping line 7994482: expected 4 fields, saw 5\\nSkipping line 7996763: expected 4 fields, saw 5\\n'\n",
      "b'Skipping line 7998876: expected 4 fields, saw 5\\nSkipping line 7999140: expected 4 fields, saw 5\\nSkipping line 8000662: expected 4 fields, saw 5\\nSkipping line 8007267: expected 4 fields, saw 5\\nSkipping line 8008274: expected 4 fields, saw 5\\nSkipping line 8009580: expected 4 fields, saw 5\\nSkipping line 8011750: expected 4 fields, saw 5\\nSkipping line 8015761: expected 4 fields, saw 5\\nSkipping line 8017159: expected 4 fields, saw 5\\nSkipping line 8018386: expected 4 fields, saw 5\\nSkipping line 8021842: expected 4 fields, saw 5\\nSkipping line 8024031: expected 4 fields, saw 5\\nSkipping line 8028343: expected 4 fields, saw 5\\nSkipping line 8030625: expected 4 fields, saw 5\\nSkipping line 8033413: expected 4 fields, saw 5\\nSkipping line 8039185: expected 4 fields, saw 5\\nSkipping line 8041916: expected 4 fields, saw 5\\nSkipping line 8046026: expected 4 fields, saw 5\\nSkipping line 8048112: expected 4 fields, saw 5\\nSkipping line 8049858: expected 4 fields, saw 5\\nSkipping line 8052244: expected 4 fields, saw 5\\nSkipping line 8056619: expected 4 fields, saw 5\\nSkipping line 8058081: expected 4 fields, saw 5\\nSkipping line 8060060: expected 4 fields, saw 5\\nSkipping line 8062040: expected 4 fields, saw 5\\nSkipping line 8065272: expected 4 fields, saw 5\\nSkipping line 8066110: expected 4 fields, saw 5\\nSkipping line 8067766: expected 4 fields, saw 5\\nSkipping line 8070418: expected 4 fields, saw 5\\nSkipping line 8072986: expected 4 fields, saw 5\\nSkipping line 8073787: expected 4 fields, saw 5\\nSkipping line 8075158: expected 4 fields, saw 5\\nSkipping line 8076820: expected 4 fields, saw 5\\nSkipping line 8077498: expected 4 fields, saw 5\\nSkipping line 8078156: expected 4 fields, saw 5\\nSkipping line 8079865: expected 4 fields, saw 5\\nSkipping line 8082854: expected 4 fields, saw 5\\nSkipping line 8085405: expected 4 fields, saw 5\\nSkipping line 8090354: expected 4 fields, saw 5\\nSkipping line 8093755: expected 4 fields, saw 5\\nSkipping line 8096772: expected 4 fields, saw 5\\nSkipping line 8102140: expected 4 fields, saw 5\\nSkipping line 8105720: expected 4 fields, saw 5\\nSkipping line 8106013: expected 4 fields, saw 5\\nSkipping line 8107353: expected 4 fields, saw 5\\nSkipping line 8111436: expected 4 fields, saw 5\\nSkipping line 8115464: expected 4 fields, saw 5\\nSkipping line 8116895: expected 4 fields, saw 5\\nSkipping line 8120924: expected 4 fields, saw 5\\nSkipping line 8122760: expected 4 fields, saw 5\\nSkipping line 8125017: expected 4 fields, saw 5\\n'\n"
     ]
    },
    {
     "name": "stderr",
     "output_type": "stream",
     "text": [
      "b'Skipping line 8132249: expected 4 fields, saw 5\\nSkipping line 8140295: expected 4 fields, saw 5\\nSkipping line 8142317: expected 4 fields, saw 5\\nSkipping line 8145876: expected 4 fields, saw 5\\nSkipping line 8146743: expected 4 fields, saw 5\\nSkipping line 8148588: expected 4 fields, saw 5\\nSkipping line 8151040: expected 4 fields, saw 5\\nSkipping line 8155291: expected 4 fields, saw 5\\nSkipping line 8157444: expected 4 fields, saw 5\\nSkipping line 8163862: expected 4 fields, saw 5\\nSkipping line 8171259: expected 4 fields, saw 5\\nSkipping line 8173469: expected 4 fields, saw 5\\nSkipping line 8174174: expected 4 fields, saw 5\\nSkipping line 8178109: expected 4 fields, saw 5\\nSkipping line 8188289: expected 4 fields, saw 5\\nSkipping line 8191651: expected 4 fields, saw 5\\nSkipping line 8195341: expected 4 fields, saw 5\\nSkipping line 8198190: expected 4 fields, saw 5\\nSkipping line 8202386: expected 4 fields, saw 5\\nSkipping line 8204012: expected 4 fields, saw 5\\nSkipping line 8206920: expected 4 fields, saw 5\\nSkipping line 8207707: expected 4 fields, saw 5\\nSkipping line 8210074: expected 4 fields, saw 5\\nSkipping line 8215001: expected 4 fields, saw 5\\nSkipping line 8219496: expected 4 fields, saw 5\\nSkipping line 8221355: expected 4 fields, saw 5\\nSkipping line 8225806: expected 4 fields, saw 5\\nSkipping line 8230485: expected 4 fields, saw 5\\nSkipping line 8236401: expected 4 fields, saw 5\\nSkipping line 8239033: expected 4 fields, saw 5\\nSkipping line 8240342: expected 4 fields, saw 5\\nSkipping line 8242763: expected 4 fields, saw 5\\nSkipping line 8246643: expected 4 fields, saw 5\\nSkipping line 8249438: expected 4 fields, saw 5\\nSkipping line 8251769: expected 4 fields, saw 5\\nSkipping line 8254755: expected 4 fields, saw 5\\nSkipping line 8257011: expected 4 fields, saw 5\\nSkipping line 8259978: expected 4 fields, saw 5\\n'\n",
      "b'Skipping line 8262659: expected 4 fields, saw 5\\nSkipping line 8264632: expected 4 fields, saw 5\\nSkipping line 8267091: expected 4 fields, saw 5\\nSkipping line 8269691: expected 4 fields, saw 5\\nSkipping line 8274885: expected 4 fields, saw 5\\nSkipping line 8276889: expected 4 fields, saw 5\\nSkipping line 8278256: expected 4 fields, saw 5\\nSkipping line 8281655: expected 4 fields, saw 5\\nSkipping line 8285064: expected 4 fields, saw 5\\nSkipping line 8288524: expected 4 fields, saw 5\\nSkipping line 8291391: expected 4 fields, saw 5\\nSkipping line 8295662: expected 4 fields, saw 5\\nSkipping line 8304005: expected 4 fields, saw 5\\nSkipping line 8306530: expected 4 fields, saw 5\\nSkipping line 8307315: expected 4 fields, saw 5\\nSkipping line 8309786: expected 4 fields, saw 5\\nSkipping line 8315860: expected 4 fields, saw 5\\nSkipping line 8321371: expected 4 fields, saw 5\\nSkipping line 8326897: expected 4 fields, saw 5\\nSkipping line 8333293: expected 4 fields, saw 5\\nSkipping line 8335616: expected 4 fields, saw 5\\nSkipping line 8341505: expected 4 fields, saw 5\\nSkipping line 8347405: expected 4 fields, saw 5\\nSkipping line 8350560: expected 4 fields, saw 5\\nSkipping line 8352609: expected 4 fields, saw 5\\nSkipping line 8354066: expected 4 fields, saw 5\\nSkipping line 8356389: expected 4 fields, saw 5\\nSkipping line 8359977: expected 4 fields, saw 5\\nSkipping line 8367115: expected 4 fields, saw 5\\nSkipping line 8370729: expected 4 fields, saw 5\\nSkipping line 8377692: expected 4 fields, saw 5\\nSkipping line 8380408: expected 4 fields, saw 5\\nSkipping line 8386082: expected 4 fields, saw 5\\nSkipping line 8391018: expected 4 fields, saw 5\\n'\n",
      "b'Skipping line 8397265: expected 4 fields, saw 5\\nSkipping line 8401334: expected 4 fields, saw 5\\nSkipping line 8403773: expected 4 fields, saw 5\\nSkipping line 8409158: expected 4 fields, saw 5\\nSkipping line 8415872: expected 4 fields, saw 5\\nSkipping line 8418713: expected 4 fields, saw 5\\nSkipping line 8420372: expected 4 fields, saw 5\\nSkipping line 8423235: expected 4 fields, saw 5\\nSkipping line 8426818: expected 4 fields, saw 5\\nSkipping line 8430355: expected 4 fields, saw 5\\nSkipping line 8432869: expected 4 fields, saw 5\\nSkipping line 8435488: expected 4 fields, saw 5\\nSkipping line 8436926: expected 4 fields, saw 5\\nSkipping line 8442746: expected 4 fields, saw 5\\nSkipping line 8444335: expected 4 fields, saw 5\\nSkipping line 8448275: expected 4 fields, saw 5\\nSkipping line 8455041: expected 4 fields, saw 5\\nSkipping line 8456254: expected 4 fields, saw 5\\nSkipping line 8457308: expected 4 fields, saw 5\\nSkipping line 8458542: expected 4 fields, saw 5\\nSkipping line 8460555: expected 4 fields, saw 5\\nSkipping line 8463744: expected 4 fields, saw 5\\nSkipping line 8466298: expected 4 fields, saw 5\\nSkipping line 8469819: expected 4 fields, saw 5\\nSkipping line 8472433: expected 4 fields, saw 5\\nSkipping line 8478376: expected 4 fields, saw 5\\nSkipping line 8480677: expected 4 fields, saw 5\\nSkipping line 8482902: expected 4 fields, saw 5\\nSkipping line 8486809: expected 4 fields, saw 5\\nSkipping line 8491222: expected 4 fields, saw 5\\nSkipping line 8498630: expected 4 fields, saw 5\\nSkipping line 8505285: expected 4 fields, saw 5\\nSkipping line 8509744: expected 4 fields, saw 5\\nSkipping line 8512504: expected 4 fields, saw 5\\nSkipping line 8514831: expected 4 fields, saw 5\\nSkipping line 8521009: expected 4 fields, saw 5\\n'\n",
      "b'Skipping line 8526269: expected 4 fields, saw 5\\nSkipping line 8530301: expected 4 fields, saw 5\\nSkipping line 8535355: expected 4 fields, saw 5\\nSkipping line 8540796: expected 4 fields, saw 5\\nSkipping line 8543565: expected 4 fields, saw 5\\nSkipping line 8544746: expected 4 fields, saw 5\\nSkipping line 8547229: expected 4 fields, saw 5\\nSkipping line 8551028: expected 4 fields, saw 5\\nSkipping line 8554835: expected 4 fields, saw 5\\nSkipping line 8558464: expected 4 fields, saw 5\\nSkipping line 8559887: expected 4 fields, saw 5\\nSkipping line 8561062: expected 4 fields, saw 5\\nSkipping line 8562174: expected 4 fields, saw 5\\nSkipping line 8565481: expected 4 fields, saw 5\\nSkipping line 8572073: expected 4 fields, saw 5\\nSkipping line 8573596: expected 4 fields, saw 5\\nSkipping line 8578749: expected 4 fields, saw 5\\nSkipping line 8584597: expected 4 fields, saw 5\\nSkipping line 8588607: expected 4 fields, saw 5\\nSkipping line 8590883: expected 4 fields, saw 5\\nSkipping line 8593724: expected 4 fields, saw 5\\nSkipping line 8599547: expected 4 fields, saw 5\\nSkipping line 8602012: expected 4 fields, saw 5\\nSkipping line 8605028: expected 4 fields, saw 5\\nSkipping line 8607156: expected 4 fields, saw 5\\nSkipping line 8609186: expected 4 fields, saw 5\\nSkipping line 8610064: expected 4 fields, saw 5\\n'\n"
     ]
    },
    {
     "name": "stdout",
     "output_type": "stream",
     "text": [
      "(8607429, 4)\n"
     ]
    },
    {
     "data": {
      "text/html": [
       "<div>\n",
       "<style>\n",
       "    .dataframe thead tr:only-child th {\n",
       "        text-align: right;\n",
       "    }\n",
       "\n",
       "    .dataframe thead th {\n",
       "        text-align: left;\n",
       "    }\n",
       "\n",
       "    .dataframe tbody tr th {\n",
       "        vertical-align: top;\n",
       "    }\n",
       "</style>\n",
       "<table border=\"1\" class=\"dataframe\">\n",
       "  <thead>\n",
       "    <tr style=\"text-align: right;\">\n",
       "      <th></th>\n",
       "      <th>user_id</th>\n",
       "      <th>feat</th>\n",
       "      <th>value</th>\n",
       "      <th>group_norm</th>\n",
       "    </tr>\n",
       "  </thead>\n",
       "  <tbody>\n",
       "    <tr>\n",
       "      <th>0</th>\n",
       "      <td>00035fb0dcfbeaa8bb70ffe24d614d4dcee446b803eb40...</td>\n",
       "      <td>rich</td>\n",
       "      <td>1</td>\n",
       "      <td>0.000102</td>\n",
       "    </tr>\n",
       "    <tr>\n",
       "      <th>1</th>\n",
       "      <td>00035fb0dcfbeaa8bb70ffe24d614d4dcee446b803eb40...</td>\n",
       "      <td>biggest</td>\n",
       "      <td>1</td>\n",
       "      <td>0.000102</td>\n",
       "    </tr>\n",
       "    <tr>\n",
       "      <th>2</th>\n",
       "      <td>00035fb0dcfbeaa8bb70ffe24d614d4dcee446b803eb40...</td>\n",
       "      <td>watch</td>\n",
       "      <td>5</td>\n",
       "      <td>0.000510</td>\n",
       "    </tr>\n",
       "    <tr>\n",
       "      <th>3</th>\n",
       "      <td>00035fb0dcfbeaa8bb70ffe24d614d4dcee446b803eb40...</td>\n",
       "      <td>streak</td>\n",
       "      <td>1</td>\n",
       "      <td>0.000102</td>\n",
       "    </tr>\n",
       "    <tr>\n",
       "      <th>4</th>\n",
       "      <td>00035fb0dcfbeaa8bb70ffe24d614d4dcee446b803eb40...</td>\n",
       "      <td>expect</td>\n",
       "      <td>2</td>\n",
       "      <td>0.000204</td>\n",
       "    </tr>\n",
       "  </tbody>\n",
       "</table>\n",
       "</div>"
      ],
      "text/plain": [
       "                                             user_id     feat  value  \\\n",
       "0  00035fb0dcfbeaa8bb70ffe24d614d4dcee446b803eb40...     rich      1   \n",
       "1  00035fb0dcfbeaa8bb70ffe24d614d4dcee446b803eb40...  biggest      1   \n",
       "2  00035fb0dcfbeaa8bb70ffe24d614d4dcee446b803eb40...    watch      5   \n",
       "3  00035fb0dcfbeaa8bb70ffe24d614d4dcee446b803eb40...   streak      1   \n",
       "4  00035fb0dcfbeaa8bb70ffe24d614d4dcee446b803eb40...   expect      2   \n",
       "\n",
       "   group_norm  \n",
       "0    0.000102  \n",
       "1    0.000102  \n",
       "2    0.000510  \n",
       "3    0.000102  \n",
       "4    0.000204  "
      ]
     },
     "execution_count": 3,
     "metadata": {},
     "output_type": "execute_result"
    }
   ],
   "source": [
    "empathy_1grams_df = pd.read_csv(f'{data_dir}/empathy_1grams.csv', error_bad_lines=False);\n",
    "print(empathy_1grams_df.shape)\n",
    "empathy_1grams_df.head()"
   ]
  },
  {
   "cell_type": "code",
   "execution_count": 4,
   "metadata": {},
   "outputs": [
    {
     "name": "stdout",
     "output_type": "stream",
     "text": [
      "(2986, 3)\n"
     ]
    },
    {
     "data": {
      "text/html": [
       "<div>\n",
       "<style>\n",
       "    .dataframe thead tr:only-child th {\n",
       "        text-align: right;\n",
       "    }\n",
       "\n",
       "    .dataframe thead th {\n",
       "        text-align: left;\n",
       "    }\n",
       "\n",
       "    .dataframe tbody tr th {\n",
       "        vertical-align: top;\n",
       "    }\n",
       "</style>\n",
       "<table border=\"1\" class=\"dataframe\">\n",
       "  <thead>\n",
       "    <tr style=\"text-align: right;\">\n",
       "      <th></th>\n",
       "      <th>user_id</th>\n",
       "      <th>beneficial_empathy</th>\n",
       "      <th>depleting_empathy</th>\n",
       "    </tr>\n",
       "  </thead>\n",
       "  <tbody>\n",
       "    <tr>\n",
       "      <th>0</th>\n",
       "      <td>00035fb0dcfbeaa8bb70ffe24d614d4dcee446b803eb40...</td>\n",
       "      <td>-1.526409</td>\n",
       "      <td>-1.323483</td>\n",
       "    </tr>\n",
       "    <tr>\n",
       "      <th>1</th>\n",
       "      <td>0013fe1b9e5d032540ecf3176c1fd1c935eedaa3bee778...</td>\n",
       "      <td>-0.562277</td>\n",
       "      <td>-0.830783</td>\n",
       "    </tr>\n",
       "    <tr>\n",
       "      <th>2</th>\n",
       "      <td>001fe28aad2e8343249c66bff71d11aa8278cb90f13125...</td>\n",
       "      <td>-0.015392</td>\n",
       "      <td>-0.240715</td>\n",
       "    </tr>\n",
       "    <tr>\n",
       "      <th>3</th>\n",
       "      <td>00323f39e47468115e3efad4c400c72646206ec3f13a3a...</td>\n",
       "      <td>0.097103</td>\n",
       "      <td>0.318759</td>\n",
       "    </tr>\n",
       "    <tr>\n",
       "      <th>4</th>\n",
       "      <td>00437f8f20fbc66e6c31e35ce4db25a4f28e9b2dc9168f...</td>\n",
       "      <td>0.524419</td>\n",
       "      <td>1.028890</td>\n",
       "    </tr>\n",
       "  </tbody>\n",
       "</table>\n",
       "</div>"
      ],
      "text/plain": [
       "                                             user_id  beneficial_empathy  \\\n",
       "0  00035fb0dcfbeaa8bb70ffe24d614d4dcee446b803eb40...           -1.526409   \n",
       "1  0013fe1b9e5d032540ecf3176c1fd1c935eedaa3bee778...           -0.562277   \n",
       "2  001fe28aad2e8343249c66bff71d11aa8278cb90f13125...           -0.015392   \n",
       "3  00323f39e47468115e3efad4c400c72646206ec3f13a3a...            0.097103   \n",
       "4  00437f8f20fbc66e6c31e35ce4db25a4f28e9b2dc9168f...            0.524419   \n",
       "\n",
       "   depleting_empathy  \n",
       "0          -1.323483  \n",
       "1          -0.830783  \n",
       "2          -0.240715  \n",
       "3           0.318759  \n",
       "4           1.028890  "
      ]
     },
     "execution_count": 4,
     "metadata": {},
     "output_type": "execute_result"
    }
   ],
   "source": [
    "userids_empathyscores_df = pd.read_csv(f'{data_dir}/userids_empathyscores.csv')\n",
    "print(userids_empathyscores_df.shape)\n",
    "userids_empathyscores_df.head()"
   ]
  },
  {
   "cell_type": "code",
   "execution_count": 5,
   "metadata": {},
   "outputs": [
    {
     "name": "stdout",
     "output_type": "stream",
     "text": [
      "(10097, 5)\n"
     ]
    },
    {
     "data": {
      "text/html": [
       "<div>\n",
       "<style>\n",
       "    .dataframe thead tr:only-child th {\n",
       "        text-align: right;\n",
       "    }\n",
       "\n",
       "    .dataframe thead th {\n",
       "        text-align: left;\n",
       "    }\n",
       "\n",
       "    .dataframe tbody tr th {\n",
       "        vertical-align: top;\n",
       "    }\n",
       "</style>\n",
       "<table border=\"1\" class=\"dataframe\">\n",
       "  <thead>\n",
       "    <tr style=\"text-align: right;\">\n",
       "      <th></th>\n",
       "      <th>feat</th>\n",
       "      <th>avg(empathy.empathy)</th>\n",
       "      <th>avg(empathy.distress)</th>\n",
       "      <th>avg(empathy.empathy_bin)</th>\n",
       "      <th>avg(empathy.distress_bin)</th>\n",
       "    </tr>\n",
       "  </thead>\n",
       "  <tbody>\n",
       "    <tr>\n",
       "      <th>0</th>\n",
       "      <td>!</td>\n",
       "      <td>3.733986</td>\n",
       "      <td>4.090596</td>\n",
       "      <td>0.4908</td>\n",
       "      <td>0.5321</td>\n",
       "    </tr>\n",
       "    <tr>\n",
       "      <th>1</th>\n",
       "      <td>\"</td>\n",
       "      <td>3.529103</td>\n",
       "      <td>3.725198</td>\n",
       "      <td>0.4524</td>\n",
       "      <td>0.5238</td>\n",
       "    </tr>\n",
       "    <tr>\n",
       "      <th>2</th>\n",
       "      <td>#metoo</td>\n",
       "      <td>4.333000</td>\n",
       "      <td>6.625000</td>\n",
       "      <td>1.0000</td>\n",
       "      <td>1.0000</td>\n",
       "    </tr>\n",
       "    <tr>\n",
       "      <th>3</th>\n",
       "      <td>$</td>\n",
       "      <td>3.787909</td>\n",
       "      <td>2.920454</td>\n",
       "      <td>0.5455</td>\n",
       "      <td>0.2727</td>\n",
       "    </tr>\n",
       "    <tr>\n",
       "      <th>4</th>\n",
       "      <td>%</td>\n",
       "      <td>4.011133</td>\n",
       "      <td>3.100000</td>\n",
       "      <td>0.4667</td>\n",
       "      <td>0.2667</td>\n",
       "    </tr>\n",
       "  </tbody>\n",
       "</table>\n",
       "</div>"
      ],
      "text/plain": [
       "     feat  avg(empathy.empathy)  avg(empathy.distress)  \\\n",
       "0       !              3.733986               4.090596   \n",
       "1       \"              3.529103               3.725198   \n",
       "2  #metoo              4.333000               6.625000   \n",
       "3       $              3.787909               2.920454   \n",
       "4       %              4.011133               3.100000   \n",
       "\n",
       "   avg(empathy.empathy_bin)  avg(empathy.distress_bin)  \n",
       "0                    0.4908                     0.5321  \n",
       "1                    0.4524                     0.5238  \n",
       "2                    1.0000                     1.0000  \n",
       "3                    0.5455                     0.2727  \n",
       "4                    0.4667                     0.2667  "
      ]
     },
     "execution_count": 5,
     "metadata": {},
     "output_type": "execute_result"
    }
   ],
   "source": [
    "mean_ratings_df = pd.read_csv('lexica/mean_ratings/empathy_ratings.csv')\n",
    "print(mean_ratings_df.shape)\n",
    "mean_ratings_df.head()"
   ]
  },
  {
   "cell_type": "code",
   "execution_count": 6,
   "metadata": {},
   "outputs": [
    {
     "name": "stdout",
     "output_type": "stream",
     "text": [
      "(10097, 2)\n"
     ]
    },
    {
     "data": {
      "text/html": [
       "<div>\n",
       "<style>\n",
       "    .dataframe thead tr:only-child th {\n",
       "        text-align: right;\n",
       "    }\n",
       "\n",
       "    .dataframe thead th {\n",
       "        text-align: left;\n",
       "    }\n",
       "\n",
       "    .dataframe tbody tr th {\n",
       "        vertical-align: top;\n",
       "    }\n",
       "</style>\n",
       "<table border=\"1\" class=\"dataframe\">\n",
       "  <thead>\n",
       "    <tr style=\"text-align: right;\">\n",
       "      <th></th>\n",
       "      <th>term</th>\n",
       "      <th>weight</th>\n",
       "    </tr>\n",
       "    <tr>\n",
       "      <th>id</th>\n",
       "      <th></th>\n",
       "      <th></th>\n",
       "    </tr>\n",
       "  </thead>\n",
       "  <tbody>\n",
       "    <tr>\n",
       "      <th>1</th>\n",
       "      <td>this</td>\n",
       "      <td>-1.050121</td>\n",
       "    </tr>\n",
       "    <tr>\n",
       "      <th>2</th>\n",
       "      <td>situation</td>\n",
       "      <td>16.134548</td>\n",
       "    </tr>\n",
       "    <tr>\n",
       "      <th>3</th>\n",
       "      <td>i</td>\n",
       "      <td>-0.700492</td>\n",
       "    </tr>\n",
       "    <tr>\n",
       "      <th>4</th>\n",
       "      <td>read</td>\n",
       "      <td>9.975068</td>\n",
       "    </tr>\n",
       "    <tr>\n",
       "      <th>5</th>\n",
       "      <td>about</td>\n",
       "      <td>-11.513268</td>\n",
       "    </tr>\n",
       "  </tbody>\n",
       "</table>\n",
       "</div>"
      ],
      "text/plain": [
       "         term     weight\n",
       "id                      \n",
       "1        this  -1.050121\n",
       "2   situation  16.134548\n",
       "3           i  -0.700492\n",
       "4        read   9.975068\n",
       "5       about -11.513268"
      ]
     },
     "execution_count": 6,
     "metadata": {},
     "output_type": "execute_result"
    }
   ],
   "source": [
    "regression_empathy_df = pd.read_csv('lexica/regression_weights/dd_EmpathyLex.csv', index_col=0)\n",
    "regression_empathy_df = regression_empathy_df[regression_empathy_df['term'] != '_intercept']\n",
    "regression_empathy_df = regression_empathy_df[['term', 'weight']]\n",
    "print(regression_empathy_df.shape)\n",
    "regression_empathy_df.head()"
   ]
  },
  {
   "cell_type": "code",
   "execution_count": 7,
   "metadata": {},
   "outputs": [
    {
     "name": "stdout",
     "output_type": "stream",
     "text": [
      "(10097, 2)\n"
     ]
    },
    {
     "data": {
      "text/html": [
       "<div>\n",
       "<style>\n",
       "    .dataframe thead tr:only-child th {\n",
       "        text-align: right;\n",
       "    }\n",
       "\n",
       "    .dataframe thead th {\n",
       "        text-align: left;\n",
       "    }\n",
       "\n",
       "    .dataframe tbody tr th {\n",
       "        vertical-align: top;\n",
       "    }\n",
       "</style>\n",
       "<table border=\"1\" class=\"dataframe\">\n",
       "  <thead>\n",
       "    <tr style=\"text-align: right;\">\n",
       "      <th></th>\n",
       "      <th>term</th>\n",
       "      <th>weight</th>\n",
       "    </tr>\n",
       "    <tr>\n",
       "      <th>id</th>\n",
       "      <th></th>\n",
       "      <th></th>\n",
       "    </tr>\n",
       "  </thead>\n",
       "  <tbody>\n",
       "    <tr>\n",
       "      <th>1</th>\n",
       "      <td>this</td>\n",
       "      <td>7.259501</td>\n",
       "    </tr>\n",
       "    <tr>\n",
       "      <th>2</th>\n",
       "      <td>situation</td>\n",
       "      <td>6.676490</td>\n",
       "    </tr>\n",
       "    <tr>\n",
       "      <th>3</th>\n",
       "      <td>i</td>\n",
       "      <td>-3.122755</td>\n",
       "    </tr>\n",
       "    <tr>\n",
       "      <th>4</th>\n",
       "      <td>read</td>\n",
       "      <td>3.191493</td>\n",
       "    </tr>\n",
       "    <tr>\n",
       "      <th>5</th>\n",
       "      <td>about</td>\n",
       "      <td>-5.324408</td>\n",
       "    </tr>\n",
       "  </tbody>\n",
       "</table>\n",
       "</div>"
      ],
      "text/plain": [
       "         term    weight\n",
       "id                     \n",
       "1        this  7.259501\n",
       "2   situation  6.676490\n",
       "3           i -3.122755\n",
       "4        read  3.191493\n",
       "5       about -5.324408"
      ]
     },
     "execution_count": 7,
     "metadata": {},
     "output_type": "execute_result"
    }
   ],
   "source": [
    "regression_distress_df = pd.read_csv('lexica/regression_weights/dd_DistressLex.csv', index_col=0)\n",
    "regression_distress_df = regression_distress_df[regression_distress_df['term'] != '_intercept']\n",
    "regression_distress_df = regression_distress_df[['term', 'weight']]\n",
    "print(regression_distress_df.shape)\n",
    "regression_distress_df.head()"
   ]
  },
  {
   "cell_type": "code",
   "execution_count": 8,
   "metadata": {},
   "outputs": [
    {
     "name": "stdout",
     "output_type": "stream",
     "text": [
      "(9356, 2)\n"
     ]
    },
    {
     "data": {
      "text/html": [
       "<div>\n",
       "<style>\n",
       "    .dataframe thead tr:only-child th {\n",
       "        text-align: right;\n",
       "    }\n",
       "\n",
       "    .dataframe thead th {\n",
       "        text-align: left;\n",
       "    }\n",
       "\n",
       "    .dataframe tbody tr th {\n",
       "        vertical-align: top;\n",
       "    }\n",
       "</style>\n",
       "<table border=\"1\" class=\"dataframe\">\n",
       "  <thead>\n",
       "    <tr style=\"text-align: right;\">\n",
       "      <th></th>\n",
       "      <th>tokens</th>\n",
       "      <th>ratings</th>\n",
       "    </tr>\n",
       "  </thead>\n",
       "  <tbody>\n",
       "    <tr>\n",
       "      <th>0</th>\n",
       "      <td>helps</td>\n",
       "      <td>10.416898</td>\n",
       "    </tr>\n",
       "    <tr>\n",
       "      <th>1</th>\n",
       "      <td>uncommon</td>\n",
       "      <td>3.954158</td>\n",
       "    </tr>\n",
       "    <tr>\n",
       "      <th>2</th>\n",
       "      <td>blank</td>\n",
       "      <td>6.904678</td>\n",
       "    </tr>\n",
       "    <tr>\n",
       "      <th>3</th>\n",
       "      <td>iraqis</td>\n",
       "      <td>19.270650</td>\n",
       "    </tr>\n",
       "    <tr>\n",
       "      <th>4</th>\n",
       "      <td>explored</td>\n",
       "      <td>10.915980</td>\n",
       "    </tr>\n",
       "  </tbody>\n",
       "</table>\n",
       "</div>"
      ],
      "text/plain": [
       "     tokens    ratings\n",
       "0     helps  10.416898\n",
       "1  uncommon   3.954158\n",
       "2     blank   6.904678\n",
       "3    iraqis  19.270650\n",
       "4  explored  10.915980"
      ]
     },
     "execution_count": 8,
     "metadata": {},
     "output_type": "execute_result"
    }
   ],
   "source": [
    "mixed_ffn_empathy_df = pd.read_csv('lexica/mixed_level_ffn/empathy_ratings.tsv', sep='\\t', index_col=0)\n",
    "print(mixed_ffn_empathy_df.shape)\n",
    "mixed_ffn_empathy_df.head()"
   ]
  },
  {
   "cell_type": "code",
   "execution_count": 9,
   "metadata": {},
   "outputs": [
    {
     "name": "stdout",
     "output_type": "stream",
     "text": [
      "(9356, 2)\n"
     ]
    },
    {
     "data": {
      "text/html": [
       "<div>\n",
       "<style>\n",
       "    .dataframe thead tr:only-child th {\n",
       "        text-align: right;\n",
       "    }\n",
       "\n",
       "    .dataframe thead th {\n",
       "        text-align: left;\n",
       "    }\n",
       "\n",
       "    .dataframe tbody tr th {\n",
       "        vertical-align: top;\n",
       "    }\n",
       "</style>\n",
       "<table border=\"1\" class=\"dataframe\">\n",
       "  <thead>\n",
       "    <tr style=\"text-align: right;\">\n",
       "      <th></th>\n",
       "      <th>tokens</th>\n",
       "      <th>ratings</th>\n",
       "    </tr>\n",
       "  </thead>\n",
       "  <tbody>\n",
       "    <tr>\n",
       "      <th>0</th>\n",
       "      <td>helps</td>\n",
       "      <td>3.076400</td>\n",
       "    </tr>\n",
       "    <tr>\n",
       "      <th>1</th>\n",
       "      <td>uncommon</td>\n",
       "      <td>1.468540</td>\n",
       "    </tr>\n",
       "    <tr>\n",
       "      <th>2</th>\n",
       "      <td>blank</td>\n",
       "      <td>7.434498</td>\n",
       "    </tr>\n",
       "    <tr>\n",
       "      <th>3</th>\n",
       "      <td>iraqis</td>\n",
       "      <td>25.690176</td>\n",
       "    </tr>\n",
       "    <tr>\n",
       "      <th>4</th>\n",
       "      <td>explored</td>\n",
       "      <td>7.155875</td>\n",
       "    </tr>\n",
       "  </tbody>\n",
       "</table>\n",
       "</div>"
      ],
      "text/plain": [
       "     tokens    ratings\n",
       "0     helps   3.076400\n",
       "1  uncommon   1.468540\n",
       "2     blank   7.434498\n",
       "3    iraqis  25.690176\n",
       "4  explored   7.155875"
      ]
     },
     "execution_count": 9,
     "metadata": {},
     "output_type": "execute_result"
    }
   ],
   "source": [
    "mixed_ffn_distress_df = pd.read_csv('lexica/mixed_level_ffn/distress_ratings.tsv', sep='\\t', index_col=0)\n",
    "print(mixed_ffn_distress_df.shape)\n",
    "mixed_ffn_distress_df.head()"
   ]
  },
  {
   "cell_type": "code",
   "execution_count": 10,
   "metadata": {},
   "outputs": [
    {
     "name": "stdout",
     "output_type": "stream",
     "text": [
      "(9356, 2)\n"
     ]
    },
    {
     "data": {
      "text/html": [
       "<div>\n",
       "<style>\n",
       "    .dataframe thead tr:only-child th {\n",
       "        text-align: right;\n",
       "    }\n",
       "\n",
       "    .dataframe thead th {\n",
       "        text-align: left;\n",
       "    }\n",
       "\n",
       "    .dataframe tbody tr th {\n",
       "        vertical-align: top;\n",
       "    }\n",
       "</style>\n",
       "<table border=\"1\" class=\"dataframe\">\n",
       "  <thead>\n",
       "    <tr style=\"text-align: right;\">\n",
       "      <th></th>\n",
       "      <th>tokens</th>\n",
       "      <th>values</th>\n",
       "    </tr>\n",
       "  </thead>\n",
       "  <tbody>\n",
       "    <tr>\n",
       "      <th>0</th>\n",
       "      <td>helps</td>\n",
       "      <td>0.023475</td>\n",
       "    </tr>\n",
       "    <tr>\n",
       "      <th>1</th>\n",
       "      <td>uncommon</td>\n",
       "      <td>0.001932</td>\n",
       "    </tr>\n",
       "    <tr>\n",
       "      <th>2</th>\n",
       "      <td>blank</td>\n",
       "      <td>0.011767</td>\n",
       "    </tr>\n",
       "    <tr>\n",
       "      <th>3</th>\n",
       "      <td>iraqis</td>\n",
       "      <td>0.052987</td>\n",
       "    </tr>\n",
       "    <tr>\n",
       "      <th>4</th>\n",
       "      <td>explored</td>\n",
       "      <td>0.025138</td>\n",
       "    </tr>\n",
       "  </tbody>\n",
       "</table>\n",
       "</div>"
      ],
      "text/plain": [
       "     tokens    values\n",
       "0     helps  0.023475\n",
       "1  uncommon  0.001932\n",
       "2     blank  0.011767\n",
       "3    iraqis  0.052987\n",
       "4  explored  0.025138"
      ]
     },
     "execution_count": 10,
     "metadata": {},
     "output_type": "execute_result"
    }
   ],
   "source": [
    "shap_empathy_df = pd.read_csv('lexica/shap_values/empathy_values.csv', index_col=0)\n",
    "print(shap_empathy_df.shape)\n",
    "shap_empathy_df.head()"
   ]
  },
  {
   "cell_type": "code",
   "execution_count": 11,
   "metadata": {},
   "outputs": [
    {
     "name": "stdout",
     "output_type": "stream",
     "text": [
      "(9356, 2)\n"
     ]
    },
    {
     "data": {
      "text/html": [
       "<div>\n",
       "<style>\n",
       "    .dataframe thead tr:only-child th {\n",
       "        text-align: right;\n",
       "    }\n",
       "\n",
       "    .dataframe thead th {\n",
       "        text-align: left;\n",
       "    }\n",
       "\n",
       "    .dataframe tbody tr th {\n",
       "        vertical-align: top;\n",
       "    }\n",
       "</style>\n",
       "<table border=\"1\" class=\"dataframe\">\n",
       "  <thead>\n",
       "    <tr style=\"text-align: right;\">\n",
       "      <th></th>\n",
       "      <th>tokens</th>\n",
       "      <th>values</th>\n",
       "    </tr>\n",
       "  </thead>\n",
       "  <tbody>\n",
       "    <tr>\n",
       "      <th>0</th>\n",
       "      <td>helps</td>\n",
       "      <td>-0.000678</td>\n",
       "    </tr>\n",
       "    <tr>\n",
       "      <th>1</th>\n",
       "      <td>uncommon</td>\n",
       "      <td>-0.006038</td>\n",
       "    </tr>\n",
       "    <tr>\n",
       "      <th>2</th>\n",
       "      <td>blank</td>\n",
       "      <td>0.013849</td>\n",
       "    </tr>\n",
       "    <tr>\n",
       "      <th>3</th>\n",
       "      <td>iraqis</td>\n",
       "      <td>0.074701</td>\n",
       "    </tr>\n",
       "    <tr>\n",
       "      <th>4</th>\n",
       "      <td>explored</td>\n",
       "      <td>0.012920</td>\n",
       "    </tr>\n",
       "  </tbody>\n",
       "</table>\n",
       "</div>"
      ],
      "text/plain": [
       "     tokens    values\n",
       "0     helps -0.000678\n",
       "1  uncommon -0.006038\n",
       "2     blank  0.013849\n",
       "3    iraqis  0.074701\n",
       "4  explored  0.012920"
      ]
     },
     "execution_count": 11,
     "metadata": {},
     "output_type": "execute_result"
    }
   ],
   "source": [
    "shap_distress_df = pd.read_csv('lexica/shap_values/distress_values.csv', index_col=0)\n",
    "print(shap_distress_df.shape)\n",
    "shap_distress_df.head()"
   ]
  },
  {
   "cell_type": "markdown",
   "metadata": {},
   "source": [
    "# Distributions"
   ]
  },
  {
   "cell_type": "code",
   "execution_count": 12,
   "metadata": {
    "collapsed": true
   },
   "outputs": [],
   "source": [
    "xlabel='Ratings'\n",
    "ylabel='Counts'\n",
    "bins=None"
   ]
  },
  {
   "cell_type": "markdown",
   "metadata": {},
   "source": [
    "### Empathy"
   ]
  },
  {
   "cell_type": "code",
   "execution_count": 13,
   "metadata": {},
   "outputs": [
    {
     "data": {
      "image/png": "[encoded data removed]",
      "text/plain": [
       "<matplotlib.figure.Figure at 0x11706be10>"
      ]
     },
     "metadata": {},
     "output_type": "display_data"
    }
   ],
   "source": [
    "plt.xlabel(xlabel)\n",
    "plt.ylabel(ylabel)\n",
    "plt.title('Histogram of Gold-Standard Trait Empathy')\n",
    "plt.hist(userids_empathyscores_df['beneficial_empathy'], bins=bins);"
   ]
  },
  {
   "cell_type": "code",
   "execution_count": 14,
   "metadata": {},
   "outputs": [
    {
     "data": {
      "image/png": "[encoded data removed]",
      "text/plain": [
       "<matplotlib.figure.Figure at 0x1157285c0>"
      ]
     },
     "metadata": {},
     "output_type": "display_data"
    }
   ],
   "source": [
    "plt.xlabel(xlabel)\n",
    "plt.ylabel(ylabel)\n",
    "plt.title('Histogram of Predicted Empathy: Mean Binary Ratings')\n",
    "plt.hist(mean_ratings_df['avg(empathy.empathy_bin)'], bins=bins);"
   ]
  },
  {
   "cell_type": "code",
   "execution_count": 15,
   "metadata": {
    "scrolled": true
   },
   "outputs": [
    {
     "data": {
      "image/png": "[encoded data removed]",
      "text/plain": [
       "<matplotlib.figure.Figure at 0x116654390>"
      ]
     },
     "metadata": {},
     "output_type": "display_data"
    }
   ],
   "source": [
    "plt.xlabel(xlabel)\n",
    "plt.ylabel(ylabel)\n",
    "plt.title('Histogram of Predicted Empathy: Mean Star Ratings')\n",
    "plt.hist(mean_ratings_df['avg(empathy.empathy)'], bins=bins);"
   ]
  },
  {
   "cell_type": "code",
   "execution_count": 16,
   "metadata": {},
   "outputs": [
    {
     "data": {
      "image/png": "[encoded data removed]",
      "text/plain": [
       "<matplotlib.figure.Figure at 0x116688080>"
      ]
     },
     "metadata": {},
     "output_type": "display_data"
    }
   ],
   "source": [
    "plt.xlabel(xlabel)\n",
    "plt.ylabel(ylabel)\n",
    "plt.title('Histogram of Predicted Empathy: Regression Weights')\n",
    "plt.hist(regression_empathy_df['weight'], bins=bins);"
   ]
  },
  {
   "cell_type": "code",
   "execution_count": 17,
   "metadata": {},
   "outputs": [
    {
     "data": {
      "image/png": "[encoded data removed]",
      "text/plain": [
       "<matplotlib.figure.Figure at 0x116d0e710>"
      ]
     },
     "metadata": {},
     "output_type": "display_data"
    }
   ],
   "source": [
    "plt.xlabel(xlabel)\n",
    "plt.ylabel(ylabel)\n",
    "plt.title('Histogram of Predicted Valence: Mixed-Level Feed Forward Network')\n",
    "plt.hist(mixed_ffn_empathy_df['ratings'], bins=bins);"
   ]
  },
  {
   "cell_type": "code",
   "execution_count": 18,
   "metadata": {},
   "outputs": [
    {
     "data": {
      "image/png": "[encoded data removed]",
      "text/plain": [
       "<matplotlib.figure.Figure at 0x116d7a400>"
      ]
     },
     "metadata": {},
     "output_type": "display_data"
    }
   ],
   "source": [
    "plt.xlabel(xlabel)\n",
    "plt.ylabel(ylabel)\n",
    "plt.title('Histogram of Predicted Valence: SHAP Values')\n",
    "plt.hist(shap_empathy_df['values'], bins=bins);"
   ]
  },
  {
   "cell_type": "markdown",
   "metadata": {},
   "source": [
    "### Distress"
   ]
  },
  {
   "cell_type": "code",
   "execution_count": 19,
   "metadata": {
    "scrolled": false
   },
   "outputs": [
    {
     "data": {
      "image/png": "[encoded data removed]",
      "text/plain": [
       "<matplotlib.figure.Figure at 0x1170f9748>"
      ]
     },
     "metadata": {},
     "output_type": "display_data"
    }
   ],
   "source": [
    "plt.xlabel(xlabel)\n",
    "plt.ylabel(ylabel)\n",
    "plt.title('Histogram of Gold-Standard Trait Distress')\n",
    "plt.hist(userids_empathyscores_df['depleting_empathy'], bins=bins);"
   ]
  },
  {
   "cell_type": "code",
   "execution_count": 20,
   "metadata": {},
   "outputs": [
    {
     "data": {
      "image/png": "[encoded data removed]",
      "text/plain": [
       "<matplotlib.figure.Figure at 0x117214400>"
      ]
     },
     "metadata": {},
     "output_type": "display_data"
    }
   ],
   "source": [
    "plt.xlabel(xlabel)\n",
    "plt.ylabel(ylabel)\n",
    "plt.title('Histogram of Predicted Distress: Mean Binary Ratings')\n",
    "plt.hist(mean_ratings_df['avg(empathy.distress_bin)']);"
   ]
  },
  {
   "cell_type": "code",
   "execution_count": 21,
   "metadata": {},
   "outputs": [
    {
     "data": {
      "image/png": "[encoded data removed]",
      "text/plain": [
       "<matplotlib.figure.Figure at 0x117307550>"
      ]
     },
     "metadata": {},
     "output_type": "display_data"
    }
   ],
   "source": [
    "plt.xlabel(xlabel)\n",
    "plt.ylabel(ylabel)\n",
    "plt.title('Histogram of Predicted Distress: Mean Star Ratings')\n",
    "plt.hist(mean_ratings_df['avg(empathy.distress)']);"
   ]
  },
  {
   "cell_type": "code",
   "execution_count": 22,
   "metadata": {},
   "outputs": [
    {
     "data": {
      "image/png": "[encoded data removed]",
      "text/plain": [
       "<matplotlib.figure.Figure at 0x117243a58>"
      ]
     },
     "metadata": {},
     "output_type": "display_data"
    }
   ],
   "source": [
    "plt.xlabel(xlabel)\n",
    "plt.ylabel(ylabel)\n",
    "plt.title('Histogram of Predicted Distress: Regression Weights')\n",
    "plt.hist(regression_distress_df['weight'], bins=bins);"
   ]
  },
  {
   "cell_type": "code",
   "execution_count": 23,
   "metadata": {},
   "outputs": [
    {
     "data": {
      "image/png": "[encoded data removed]",
      "text/plain": [
       "<matplotlib.figure.Figure at 0x1166ace80>"
      ]
     },
     "metadata": {},
     "output_type": "display_data"
    }
   ],
   "source": [
    "plt.xlabel(xlabel)\n",
    "plt.ylabel(ylabel)\n",
    "plt.title('Histogram of Predicted Distress: Mixed-Level Feed Forward Network')\n",
    "plt.hist(mixed_ffn_distress_df['ratings'], bins=bins);"
   ]
  },
  {
   "cell_type": "code",
   "execution_count": 24,
   "metadata": {},
   "outputs": [
    {
     "data": {
      "image/png": "[encoded data removed]",
      "text/plain": [
       "<matplotlib.figure.Figure at 0x1166c84a8>"
      ]
     },
     "metadata": {},
     "output_type": "display_data"
    }
   ],
   "source": [
    "plt.xlabel(xlabel)\n",
    "plt.ylabel(ylabel)\n",
    "plt.title('Histogram of Predicted Distress: SHAP Values')\n",
    "plt.hist(shap_distress_df['values'], bins=bins);"
   ]
  },
  {
   "cell_type": "markdown",
   "metadata": {},
   "source": [
    "# Correlation"
   ]
  },
  {
   "cell_type": "code",
   "execution_count": 25,
   "metadata": {
    "collapsed": true
   },
   "outputs": [],
   "source": [
    "from scipy import stats as st\n",
    "\n",
    "def correlation(true, pred):\n",
    "    result=st.pearsonr(true,pred)\n",
    "    return result[0]\n",
    "\n",
    "correlations={}"
   ]
  },
  {
   "cell_type": "code",
   "execution_count": 26,
   "metadata": {},
   "outputs": [
    {
     "name": "stdout",
     "output_type": "stream",
     "text": [
      "(4868656, 8)\n"
     ]
    },
    {
     "data": {
      "text/html": [
       "<div>\n",
       "<style>\n",
       "    .dataframe thead tr:only-child th {\n",
       "        text-align: right;\n",
       "    }\n",
       "\n",
       "    .dataframe thead th {\n",
       "        text-align: left;\n",
       "    }\n",
       "\n",
       "    .dataframe tbody tr th {\n",
       "        vertical-align: top;\n",
       "    }\n",
       "</style>\n",
       "<table border=\"1\" class=\"dataframe\">\n",
       "  <thead>\n",
       "    <tr style=\"text-align: right;\">\n",
       "      <th></th>\n",
       "      <th>user_id</th>\n",
       "      <th>feat</th>\n",
       "      <th>value</th>\n",
       "      <th>group_norm</th>\n",
       "      <th>avg(empathy.empathy)</th>\n",
       "      <th>avg(empathy.distress)</th>\n",
       "      <th>avg(empathy.empathy_bin)</th>\n",
       "      <th>avg(empathy.distress_bin)</th>\n",
       "    </tr>\n",
       "  </thead>\n",
       "  <tbody>\n",
       "    <tr>\n",
       "      <th>0</th>\n",
       "      <td>00035fb0dcfbeaa8bb70ffe24d614d4dcee446b803eb40...</td>\n",
       "      <td>rich</td>\n",
       "      <td>1</td>\n",
       "      <td>0.000102</td>\n",
       "      <td>3.529471</td>\n",
       "      <td>3.044118</td>\n",
       "      <td>0.3529</td>\n",
       "      <td>0.2941</td>\n",
       "    </tr>\n",
       "    <tr>\n",
       "      <th>1</th>\n",
       "      <td>004e3ecce8e34ac232df0379eff32eb6de68855e076d66...</td>\n",
       "      <td>rich</td>\n",
       "      <td>5</td>\n",
       "      <td>0.000656</td>\n",
       "      <td>3.529471</td>\n",
       "      <td>3.044118</td>\n",
       "      <td>0.3529</td>\n",
       "      <td>0.2941</td>\n",
       "    </tr>\n",
       "    <tr>\n",
       "      <th>2</th>\n",
       "      <td>00f740710780db93b1fcc38765328ae001cd3ddc96d20b...</td>\n",
       "      <td>rich</td>\n",
       "      <td>1</td>\n",
       "      <td>0.000188</td>\n",
       "      <td>3.529471</td>\n",
       "      <td>3.044118</td>\n",
       "      <td>0.3529</td>\n",
       "      <td>0.2941</td>\n",
       "    </tr>\n",
       "    <tr>\n",
       "      <th>3</th>\n",
       "      <td>013975bfda9c6a8c219b514233928c70bcecef7282bfdc...</td>\n",
       "      <td>rich</td>\n",
       "      <td>1</td>\n",
       "      <td>0.000413</td>\n",
       "      <td>3.529471</td>\n",
       "      <td>3.044118</td>\n",
       "      <td>0.3529</td>\n",
       "      <td>0.2941</td>\n",
       "    </tr>\n",
       "    <tr>\n",
       "      <th>4</th>\n",
       "      <td>015be1f8b06fc6cac2496a28ab076f13a88fd339711e82...</td>\n",
       "      <td>rich</td>\n",
       "      <td>1</td>\n",
       "      <td>0.000054</td>\n",
       "      <td>3.529471</td>\n",
       "      <td>3.044118</td>\n",
       "      <td>0.3529</td>\n",
       "      <td>0.2941</td>\n",
       "    </tr>\n",
       "  </tbody>\n",
       "</table>\n",
       "</div>"
      ],
      "text/plain": [
       "                                             user_id  feat  value  group_norm  \\\n",
       "0  00035fb0dcfbeaa8bb70ffe24d614d4dcee446b803eb40...  rich      1    0.000102   \n",
       "1  004e3ecce8e34ac232df0379eff32eb6de68855e076d66...  rich      5    0.000656   \n",
       "2  00f740710780db93b1fcc38765328ae001cd3ddc96d20b...  rich      1    0.000188   \n",
       "3  013975bfda9c6a8c219b514233928c70bcecef7282bfdc...  rich      1    0.000413   \n",
       "4  015be1f8b06fc6cac2496a28ab076f13a88fd339711e82...  rich      1    0.000054   \n",
       "\n",
       "   avg(empathy.empathy)  avg(empathy.distress)  avg(empathy.empathy_bin)  \\\n",
       "0              3.529471               3.044118                    0.3529   \n",
       "1              3.529471               3.044118                    0.3529   \n",
       "2              3.529471               3.044118                    0.3529   \n",
       "3              3.529471               3.044118                    0.3529   \n",
       "4              3.529471               3.044118                    0.3529   \n",
       "\n",
       "   avg(empathy.distress_bin)  \n",
       "0                     0.2941  \n",
       "1                     0.2941  \n",
       "2                     0.2941  \n",
       "3                     0.2941  \n",
       "4                     0.2941  "
      ]
     },
     "execution_count": 26,
     "metadata": {},
     "output_type": "execute_result"
    }
   ],
   "source": [
    "merge_df = empathy_1grams_df.merge(mean_ratings_df, left_on='feat', right_on='feat')\n",
    "print(merge_df.shape)\n",
    "merge_df.head()"
   ]
  },
  {
   "cell_type": "code",
   "execution_count": 27,
   "metadata": {},
   "outputs": [],
   "source": [
    "results = {}\n",
    "N = 20\n",
    "results_key = 'mean_binary'\n",
    "for emo in ['empathy', 'distress']:\n",
    "    true_key = 'beneficial_empathy' if emo == 'empathy' else 'depleting_empathy'\n",
    "    predict_key = f'avg(empathy.{emo}_bin)'\n",
    "    working_df = merge_df\n",
    "    working_df['weighted_sum'] = working_df['value']*working_df[predict_key]\n",
    "    sorted_df = working_df.sort_values(predict_key, ascending=False)\n",
    "    drop_indices = list(range(N, len(sorted_df)-N))\n",
    "    sorted_df = sorted_df.drop(drop_indices, axis=0)\n",
    "    grouped_df = sorted_df.groupby('user_id').sum()\n",
    "    grouped_df = grouped_df.reset_index()\n",
    "    final_df = grouped_df.merge(userids_empathyscores_df)\n",
    "    results[emo] = correlation(final_df[true_key], final_df['weighted_sum'])\n",
    "correlations['Mean Binary Rating'] = results"
   ]
  },
  {
   "cell_type": "code",
   "execution_count": 28,
   "metadata": {},
   "outputs": [],
   "source": [
    "results = {}\n",
    "results_key = 'mean_star'\n",
    "for emo in ['empathy', 'distress']:\n",
    "    true_key = 'beneficial_empathy' if emo == 'empathy' else 'depleting_empathy'\n",
    "    predict_key = f'avg(empathy.{emo})'\n",
    "    working_df = merge_df\n",
    "    working_df['weighted_sum'] = working_df['value']*working_df[predict_key]\n",
    "    sorted_df = working_df.sort_values(predict_key, ascending=False)\n",
    "    drop_indices = list(range(N, len(sorted_df)-N))\n",
    "    sorted_df = sorted_df.drop(drop_indices, axis=0)\n",
    "    grouped_df = sorted_df.groupby('user_id').sum()\n",
    "    grouped_df = grouped_df.reset_index()\n",
    "    final_df = grouped_df.merge(userids_empathyscores_df)\n",
    "    results[emo] = correlation(final_df[true_key], final_df['weighted_sum'])\n",
    "correlations['Mean Star Rating'] = results"
   ]
  },
  {
   "cell_type": "code",
   "execution_count": 29,
   "metadata": {},
   "outputs": [
    {
     "name": "stdout",
     "output_type": "stream",
     "text": [
      "(4868656, 7)\n"
     ]
    },
    {
     "data": {
      "text/html": [
       "<div>\n",
       "<style>\n",
       "    .dataframe thead tr:only-child th {\n",
       "        text-align: right;\n",
       "    }\n",
       "\n",
       "    .dataframe thead th {\n",
       "        text-align: left;\n",
       "    }\n",
       "\n",
       "    .dataframe tbody tr th {\n",
       "        vertical-align: top;\n",
       "    }\n",
       "</style>\n",
       "<table border=\"1\" class=\"dataframe\">\n",
       "  <thead>\n",
       "    <tr style=\"text-align: right;\">\n",
       "      <th></th>\n",
       "      <th>user_id</th>\n",
       "      <th>feat</th>\n",
       "      <th>value</th>\n",
       "      <th>group_norm</th>\n",
       "      <th>term</th>\n",
       "      <th>weight_empathy</th>\n",
       "      <th>weight_distress</th>\n",
       "    </tr>\n",
       "  </thead>\n",
       "  <tbody>\n",
       "    <tr>\n",
       "      <th>0</th>\n",
       "      <td>00035fb0dcfbeaa8bb70ffe24d614d4dcee446b803eb40...</td>\n",
       "      <td>rich</td>\n",
       "      <td>1</td>\n",
       "      <td>0.000102</td>\n",
       "      <td>rich</td>\n",
       "      <td>5.671227</td>\n",
       "      <td>-10.507952</td>\n",
       "    </tr>\n",
       "    <tr>\n",
       "      <th>1</th>\n",
       "      <td>004e3ecce8e34ac232df0379eff32eb6de68855e076d66...</td>\n",
       "      <td>rich</td>\n",
       "      <td>5</td>\n",
       "      <td>0.000656</td>\n",
       "      <td>rich</td>\n",
       "      <td>5.671227</td>\n",
       "      <td>-10.507952</td>\n",
       "    </tr>\n",
       "    <tr>\n",
       "      <th>2</th>\n",
       "      <td>00f740710780db93b1fcc38765328ae001cd3ddc96d20b...</td>\n",
       "      <td>rich</td>\n",
       "      <td>1</td>\n",
       "      <td>0.000188</td>\n",
       "      <td>rich</td>\n",
       "      <td>5.671227</td>\n",
       "      <td>-10.507952</td>\n",
       "    </tr>\n",
       "    <tr>\n",
       "      <th>3</th>\n",
       "      <td>013975bfda9c6a8c219b514233928c70bcecef7282bfdc...</td>\n",
       "      <td>rich</td>\n",
       "      <td>1</td>\n",
       "      <td>0.000413</td>\n",
       "      <td>rich</td>\n",
       "      <td>5.671227</td>\n",
       "      <td>-10.507952</td>\n",
       "    </tr>\n",
       "    <tr>\n",
       "      <th>4</th>\n",
       "      <td>015be1f8b06fc6cac2496a28ab076f13a88fd339711e82...</td>\n",
       "      <td>rich</td>\n",
       "      <td>1</td>\n",
       "      <td>0.000054</td>\n",
       "      <td>rich</td>\n",
       "      <td>5.671227</td>\n",
       "      <td>-10.507952</td>\n",
       "    </tr>\n",
       "  </tbody>\n",
       "</table>\n",
       "</div>"
      ],
      "text/plain": [
       "                                             user_id  feat  value  group_norm  \\\n",
       "0  00035fb0dcfbeaa8bb70ffe24d614d4dcee446b803eb40...  rich      1    0.000102   \n",
       "1  004e3ecce8e34ac232df0379eff32eb6de68855e076d66...  rich      5    0.000656   \n",
       "2  00f740710780db93b1fcc38765328ae001cd3ddc96d20b...  rich      1    0.000188   \n",
       "3  013975bfda9c6a8c219b514233928c70bcecef7282bfdc...  rich      1    0.000413   \n",
       "4  015be1f8b06fc6cac2496a28ab076f13a88fd339711e82...  rich      1    0.000054   \n",
       "\n",
       "   term  weight_empathy  weight_distress  \n",
       "0  rich        5.671227       -10.507952  \n",
       "1  rich        5.671227       -10.507952  \n",
       "2  rich        5.671227       -10.507952  \n",
       "3  rich        5.671227       -10.507952  \n",
       "4  rich        5.671227       -10.507952  "
      ]
     },
     "execution_count": 29,
     "metadata": {},
     "output_type": "execute_result"
    }
   ],
   "source": [
    "merge_df = empathy_1grams_df.merge(regression_empathy_df, left_on='feat', right_on='term')\n",
    "merge_df = merge_df.merge(regression_distress_df, on='term', suffixes=('', '_distress'))\n",
    "merge_df = merge_df.rename(index=str, columns={'weight': 'weight_empathy'})\n",
    "# Fixing object index\n",
    "merge_df.index = merge_df.index.map(int)\n",
    "print(merge_df.shape)\n",
    "merge_df.head()"
   ]
  },
  {
   "cell_type": "code",
   "execution_count": 30,
   "metadata": {},
   "outputs": [],
   "source": [
    "results = {}\n",
    "results_key = 'regression_weights'\n",
    "for emo in ['empathy', 'distress']:\n",
    "    true_key = 'beneficial_empathy' if emo == 'empathy' else 'depleting_empathy'\n",
    "    predict_key = f'weight_{emo}'\n",
    "    working_df = merge_df\n",
    "    working_df['weighted_sum'] = working_df['value']*working_df[predict_key]\n",
    "    sorted_df = working_df.sort_values(predict_key, ascending=False)\n",
    "    drop_indices = list(range(N, len(sorted_df)-N))\n",
    "    sorted_df = sorted_df.drop(drop_indices, axis=0)\n",
    "    grouped_df = sorted_df.groupby('user_id').sum()\n",
    "    grouped_df = grouped_df.reset_index()\n",
    "    final_df = grouped_df.merge(userids_empathyscores_df)\n",
    "    results[emo] = correlation(final_df[true_key], final_df['weighted_sum'])\n",
    "correlations['Regression Weights'] = results"
   ]
  },
  {
   "cell_type": "code",
   "execution_count": 31,
   "metadata": {},
   "outputs": [
    {
     "name": "stdout",
     "output_type": "stream",
     "text": [
      "(4703356, 7)\n"
     ]
    },
    {
     "data": {
      "text/html": [
       "<div>\n",
       "<style>\n",
       "    .dataframe thead tr:only-child th {\n",
       "        text-align: right;\n",
       "    }\n",
       "\n",
       "    .dataframe thead th {\n",
       "        text-align: left;\n",
       "    }\n",
       "\n",
       "    .dataframe tbody tr th {\n",
       "        vertical-align: top;\n",
       "    }\n",
       "</style>\n",
       "<table border=\"1\" class=\"dataframe\">\n",
       "  <thead>\n",
       "    <tr style=\"text-align: right;\">\n",
       "      <th></th>\n",
       "      <th>user_id</th>\n",
       "      <th>feat</th>\n",
       "      <th>value</th>\n",
       "      <th>group_norm</th>\n",
       "      <th>tokens</th>\n",
       "      <th>ratings_empathy</th>\n",
       "      <th>ratings_distress</th>\n",
       "    </tr>\n",
       "  </thead>\n",
       "  <tbody>\n",
       "    <tr>\n",
       "      <th>0</th>\n",
       "      <td>00035fb0dcfbeaa8bb70ffe24d614d4dcee446b803eb40...</td>\n",
       "      <td>rich</td>\n",
       "      <td>1</td>\n",
       "      <td>0.000102</td>\n",
       "      <td>rich</td>\n",
       "      <td>12.139989</td>\n",
       "      <td>2.340939</td>\n",
       "    </tr>\n",
       "    <tr>\n",
       "      <th>1</th>\n",
       "      <td>004e3ecce8e34ac232df0379eff32eb6de68855e076d66...</td>\n",
       "      <td>rich</td>\n",
       "      <td>5</td>\n",
       "      <td>0.000656</td>\n",
       "      <td>rich</td>\n",
       "      <td>12.139989</td>\n",
       "      <td>2.340939</td>\n",
       "    </tr>\n",
       "    <tr>\n",
       "      <th>2</th>\n",
       "      <td>00f740710780db93b1fcc38765328ae001cd3ddc96d20b...</td>\n",
       "      <td>rich</td>\n",
       "      <td>1</td>\n",
       "      <td>0.000188</td>\n",
       "      <td>rich</td>\n",
       "      <td>12.139989</td>\n",
       "      <td>2.340939</td>\n",
       "    </tr>\n",
       "    <tr>\n",
       "      <th>3</th>\n",
       "      <td>013975bfda9c6a8c219b514233928c70bcecef7282bfdc...</td>\n",
       "      <td>rich</td>\n",
       "      <td>1</td>\n",
       "      <td>0.000413</td>\n",
       "      <td>rich</td>\n",
       "      <td>12.139989</td>\n",
       "      <td>2.340939</td>\n",
       "    </tr>\n",
       "    <tr>\n",
       "      <th>4</th>\n",
       "      <td>015be1f8b06fc6cac2496a28ab076f13a88fd339711e82...</td>\n",
       "      <td>rich</td>\n",
       "      <td>1</td>\n",
       "      <td>0.000054</td>\n",
       "      <td>rich</td>\n",
       "      <td>12.139989</td>\n",
       "      <td>2.340939</td>\n",
       "    </tr>\n",
       "  </tbody>\n",
       "</table>\n",
       "</div>"
      ],
      "text/plain": [
       "                                             user_id  feat  value  group_norm  \\\n",
       "0  00035fb0dcfbeaa8bb70ffe24d614d4dcee446b803eb40...  rich      1    0.000102   \n",
       "1  004e3ecce8e34ac232df0379eff32eb6de68855e076d66...  rich      5    0.000656   \n",
       "2  00f740710780db93b1fcc38765328ae001cd3ddc96d20b...  rich      1    0.000188   \n",
       "3  013975bfda9c6a8c219b514233928c70bcecef7282bfdc...  rich      1    0.000413   \n",
       "4  015be1f8b06fc6cac2496a28ab076f13a88fd339711e82...  rich      1    0.000054   \n",
       "\n",
       "  tokens  ratings_empathy  ratings_distress  \n",
       "0   rich        12.139989          2.340939  \n",
       "1   rich        12.139989          2.340939  \n",
       "2   rich        12.139989          2.340939  \n",
       "3   rich        12.139989          2.340939  \n",
       "4   rich        12.139989          2.340939  "
      ]
     },
     "execution_count": 31,
     "metadata": {},
     "output_type": "execute_result"
    }
   ],
   "source": [
    "merge_df = empathy_1grams_df.merge(mixed_ffn_empathy_df, left_on='feat', right_on='tokens')\n",
    "merge_df = merge_df.merge(mixed_ffn_distress_df, on='tokens', suffixes=('', '_distress'))\n",
    "merge_df = merge_df.rename(index=str, columns={'ratings': 'ratings_empathy'})\n",
    "# Fixing object index\n",
    "merge_df.index = merge_df.index.map(int)\n",
    "print(merge_df.shape)\n",
    "merge_df.head()"
   ]
  },
  {
   "cell_type": "code",
   "execution_count": 32,
   "metadata": {
    "collapsed": true
   },
   "outputs": [],
   "source": [
    "results = {}\n",
    "results_key = 'mixed_level_ffn'\n",
    "for emo in ['empathy', 'distress']:\n",
    "    true_key = 'beneficial_empathy' if emo == 'empathy' else 'depleting_empathy'\n",
    "    predict_key = f'ratings_{emo}'\n",
    "    working_df = merge_df\n",
    "    working_df['weighted_sum'] = working_df['value']*working_df[predict_key]\n",
    "    sorted_df = working_df.sort_values(predict_key, ascending=False)\n",
    "    drop_indices = list(range(N, len(sorted_df)-N))\n",
    "    sorted_df = sorted_df.drop(drop_indices, axis=0)\n",
    "    grouped_df = sorted_df.groupby('user_id').sum()\n",
    "    grouped_df = grouped_df.reset_index()\n",
    "    final_df = grouped_df.merge(userids_empathyscores_df)\n",
    "    results[emo] = correlation(final_df[true_key], final_df['weighted_sum'])\n",
    "correlations['Mixed-Level FFN'] = results"
   ]
  },
  {
   "cell_type": "code",
   "execution_count": 33,
   "metadata": {},
   "outputs": [
    {
     "name": "stdout",
     "output_type": "stream",
     "text": [
      "(4703356, 7)\n"
     ]
    },
    {
     "data": {
      "text/html": [
       "<div>\n",
       "<style>\n",
       "    .dataframe thead tr:only-child th {\n",
       "        text-align: right;\n",
       "    }\n",
       "\n",
       "    .dataframe thead th {\n",
       "        text-align: left;\n",
       "    }\n",
       "\n",
       "    .dataframe tbody tr th {\n",
       "        vertical-align: top;\n",
       "    }\n",
       "</style>\n",
       "<table border=\"1\" class=\"dataframe\">\n",
       "  <thead>\n",
       "    <tr style=\"text-align: right;\">\n",
       "      <th></th>\n",
       "      <th>user_id</th>\n",
       "      <th>feat</th>\n",
       "      <th>value</th>\n",
       "      <th>group_norm</th>\n",
       "      <th>tokens</th>\n",
       "      <th>values_empathy</th>\n",
       "      <th>values_distress</th>\n",
       "    </tr>\n",
       "  </thead>\n",
       "  <tbody>\n",
       "    <tr>\n",
       "      <th>0</th>\n",
       "      <td>00035fb0dcfbeaa8bb70ffe24d614d4dcee446b803eb40...</td>\n",
       "      <td>rich</td>\n",
       "      <td>1</td>\n",
       "      <td>0.000102</td>\n",
       "      <td>rich</td>\n",
       "      <td>0.029218</td>\n",
       "      <td>-0.00313</td>\n",
       "    </tr>\n",
       "    <tr>\n",
       "      <th>1</th>\n",
       "      <td>004e3ecce8e34ac232df0379eff32eb6de68855e076d66...</td>\n",
       "      <td>rich</td>\n",
       "      <td>5</td>\n",
       "      <td>0.000656</td>\n",
       "      <td>rich</td>\n",
       "      <td>0.029218</td>\n",
       "      <td>-0.00313</td>\n",
       "    </tr>\n",
       "    <tr>\n",
       "      <th>2</th>\n",
       "      <td>00f740710780db93b1fcc38765328ae001cd3ddc96d20b...</td>\n",
       "      <td>rich</td>\n",
       "      <td>1</td>\n",
       "      <td>0.000188</td>\n",
       "      <td>rich</td>\n",
       "      <td>0.029218</td>\n",
       "      <td>-0.00313</td>\n",
       "    </tr>\n",
       "    <tr>\n",
       "      <th>3</th>\n",
       "      <td>013975bfda9c6a8c219b514233928c70bcecef7282bfdc...</td>\n",
       "      <td>rich</td>\n",
       "      <td>1</td>\n",
       "      <td>0.000413</td>\n",
       "      <td>rich</td>\n",
       "      <td>0.029218</td>\n",
       "      <td>-0.00313</td>\n",
       "    </tr>\n",
       "    <tr>\n",
       "      <th>4</th>\n",
       "      <td>015be1f8b06fc6cac2496a28ab076f13a88fd339711e82...</td>\n",
       "      <td>rich</td>\n",
       "      <td>1</td>\n",
       "      <td>0.000054</td>\n",
       "      <td>rich</td>\n",
       "      <td>0.029218</td>\n",
       "      <td>-0.00313</td>\n",
       "    </tr>\n",
       "  </tbody>\n",
       "</table>\n",
       "</div>"
      ],
      "text/plain": [
       "                                             user_id  feat  value  group_norm  \\\n",
       "0  00035fb0dcfbeaa8bb70ffe24d614d4dcee446b803eb40...  rich      1    0.000102   \n",
       "1  004e3ecce8e34ac232df0379eff32eb6de68855e076d66...  rich      5    0.000656   \n",
       "2  00f740710780db93b1fcc38765328ae001cd3ddc96d20b...  rich      1    0.000188   \n",
       "3  013975bfda9c6a8c219b514233928c70bcecef7282bfdc...  rich      1    0.000413   \n",
       "4  015be1f8b06fc6cac2496a28ab076f13a88fd339711e82...  rich      1    0.000054   \n",
       "\n",
       "  tokens  values_empathy  values_distress  \n",
       "0   rich        0.029218         -0.00313  \n",
       "1   rich        0.029218         -0.00313  \n",
       "2   rich        0.029218         -0.00313  \n",
       "3   rich        0.029218         -0.00313  \n",
       "4   rich        0.029218         -0.00313  "
      ]
     },
     "execution_count": 33,
     "metadata": {},
     "output_type": "execute_result"
    }
   ],
   "source": [
    "merge_df = empathy_1grams_df.merge(shap_empathy_df, left_on='feat', right_on='tokens')\n",
    "merge_df = merge_df.merge(shap_distress_df, on='tokens', suffixes=('', '_distress'))\n",
    "merge_df = merge_df.rename(index=str, columns={'values': 'values_empathy'})\n",
    "# Fixing object index\n",
    "merge_df.index = merge_df.index.map(int)\n",
    "print(merge_df.shape)\n",
    "merge_df.head()"
   ]
  },
  {
   "cell_type": "code",
   "execution_count": 34,
   "metadata": {
    "collapsed": true
   },
   "outputs": [],
   "source": [
    "results = {}\n",
    "results_key = 'shap_values'\n",
    "for emo in ['empathy', 'distress']:\n",
    "    true_key = 'beneficial_empathy' if emo == 'empathy' else 'depleting_empathy'\n",
    "    predict_key = f'values_{emo}'\n",
    "    merge_df['weighted_sum'] = merge_df['value']*merge_df[predict_key]\n",
    "    sorted_df = merge_df.sort_values(predict_key, ascending=False)\n",
    "    drop_indices = list(range(N, len(sorted_df)-N))\n",
    "    sorted_df = sorted_df.drop(drop_indices, axis=0)\n",
    "    grouped_df = sorted_df.groupby('user_id').sum()\n",
    "    grouped_df = grouped_df.reset_index()\n",
    "    final_df = grouped_df.merge(userids_empathyscores_df)\n",
    "    results[emo] = correlation(final_df[true_key], final_df['weighted_sum'])\n",
    "correlations['SHAP Values'] = results"
   ]
  },
  {
   "cell_type": "code",
   "execution_count": 35,
   "metadata": {},
   "outputs": [
    {
     "data": {
      "text/html": [
       "<div>\n",
       "<style>\n",
       "    .dataframe thead tr:only-child th {\n",
       "        text-align: right;\n",
       "    }\n",
       "\n",
       "    .dataframe thead th {\n",
       "        text-align: left;\n",
       "    }\n",
       "\n",
       "    .dataframe tbody tr th {\n",
       "        vertical-align: top;\n",
       "    }\n",
       "</style>\n",
       "<table border=\"1\" class=\"dataframe\">\n",
       "  <thead>\n",
       "    <tr style=\"text-align: right;\">\n",
       "      <th></th>\n",
       "      <th>Empathy</th>\n",
       "      <th>Distress</th>\n",
       "      <th>Mean</th>\n",
       "    </tr>\n",
       "  </thead>\n",
       "  <tbody>\n",
       "    <tr>\n",
       "      <th>Regression Weights</th>\n",
       "      <td>0.231703</td>\n",
       "      <td>-0.149134</td>\n",
       "      <td>0.041284</td>\n",
       "    </tr>\n",
       "    <tr>\n",
       "      <th>SHAP Values</th>\n",
       "      <td>0.259239</td>\n",
       "      <td>-0.153408</td>\n",
       "      <td>0.052915</td>\n",
       "    </tr>\n",
       "    <tr>\n",
       "      <th>Mean Binary Rating</th>\n",
       "      <td>0.239511</td>\n",
       "      <td>0.153970</td>\n",
       "      <td>0.196740</td>\n",
       "    </tr>\n",
       "    <tr>\n",
       "      <th>Mean Star Rating</th>\n",
       "      <td>0.252897</td>\n",
       "      <td>0.158470</td>\n",
       "      <td>0.205684</td>\n",
       "    </tr>\n",
       "    <tr>\n",
       "      <th>Mixed-Level FFN</th>\n",
       "      <td>0.258840</td>\n",
       "      <td>0.170245</td>\n",
       "      <td>0.214542</td>\n",
       "    </tr>\n",
       "  </tbody>\n",
       "</table>\n",
       "</div>"
      ],
      "text/plain": [
       "                     Empathy  Distress      Mean\n",
       "Regression Weights  0.231703 -0.149134  0.041284\n",
       "SHAP Values         0.259239 -0.153408  0.052915\n",
       "Mean Binary Rating  0.239511  0.153970  0.196740\n",
       "Mean Star Rating    0.252897  0.158470  0.205684\n",
       "Mixed-Level FFN     0.258840  0.170245  0.214542"
      ]
     },
     "execution_count": 35,
     "metadata": {},
     "output_type": "execute_result"
    }
   ],
   "source": [
    "correlations_df = pd.DataFrame(correlations).transpose()\n",
    "correlations_df = correlations_df[['empathy', 'distress']]\n",
    "correlations_df = correlations_df.rename(index=str, columns={\"empathy\": \"Empathy\", \"distress\": \"Distress\"})\n",
    "correlations_df['Mean'] = correlations_df.mean(axis=1)\n",
    "correlations_df = correlations_df.sort_values('Mean')\n",
    "correlations_df"
   ]
  },
  {
   "cell_type": "code",
   "execution_count": 36,
   "metadata": {},
   "outputs": [
    {
     "data": {
      "text/html": [
       "<div>\n",
       "<style>\n",
       "    .dataframe thead tr:only-child th {\n",
       "        text-align: right;\n",
       "    }\n",
       "\n",
       "    .dataframe thead th {\n",
       "        text-align: left;\n",
       "    }\n",
       "\n",
       "    .dataframe tbody tr th {\n",
       "        vertical-align: top;\n",
       "    }\n",
       "</style>\n",
       "<table border=\"1\" class=\"dataframe\">\n",
       "  <thead>\n",
       "    <tr style=\"text-align: right;\">\n",
       "      <th></th>\n",
       "      <th>Empathy</th>\n",
       "      <th>Distress</th>\n",
       "      <th>Mean</th>\n",
       "    </tr>\n",
       "  </thead>\n",
       "  <tbody>\n",
       "    <tr>\n",
       "      <th>Regression Weights</th>\n",
       "      <td>0.231703</td>\n",
       "      <td>-0.149134</td>\n",
       "      <td>0.041284</td>\n",
       "    </tr>\n",
       "    <tr>\n",
       "      <th>Mean Binary Rating</th>\n",
       "      <td>0.239511</td>\n",
       "      <td>0.153970</td>\n",
       "      <td>0.196740</td>\n",
       "    </tr>\n",
       "    <tr>\n",
       "      <th>Mean Star Rating</th>\n",
       "      <td>0.252897</td>\n",
       "      <td>0.158470</td>\n",
       "      <td>0.205684</td>\n",
       "    </tr>\n",
       "    <tr>\n",
       "      <th>Mixed-Level FFN</th>\n",
       "      <td>0.258840</td>\n",
       "      <td>0.170245</td>\n",
       "      <td>0.214542</td>\n",
       "    </tr>\n",
       "  </tbody>\n",
       "</table>\n",
       "</div>"
      ],
      "text/plain": [
       "                     Empathy  Distress      Mean\n",
       "Regression Weights  0.231703 -0.149134  0.041284\n",
       "Mean Binary Rating  0.239511  0.153970  0.196740\n",
       "Mean Star Rating    0.252897  0.158470  0.205684\n",
       "Mixed-Level FFN     0.258840  0.170245  0.214542"
      ]
     },
     "execution_count": 36,
     "metadata": {},
     "output_type": "execute_result"
    }
   ],
   "source": [
    "correlations_df = correlations_df.drop(['SHAP Values'])\n",
    "correlations_df"
   ]
  }
 ],
 "metadata": {
  "kernelspec": {
   "display_name": "Python 3",
   "language": "python",
   "name": "python3"
  },
  "language_info": {
   "codemirror_mode": {
    "name": "ipython",
    "version": 3
   },
   "file_extension": ".py",
   "mimetype": "text/x-python",
   "name": "python",
   "nbconvert_exporter": "python",
   "pygments_lexer": "ipython3",
   "version": "3.6.3"
  }
 },
 "nbformat": 4,
 "nbformat_minor": 2
}
