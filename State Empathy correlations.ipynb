{
 "cells": [
  {
   "cell_type": "code",
   "execution_count": 1,
   "metadata": {
    "collapsed": true
   },
   "outputs": [],
   "source": [
    "%matplotlib inline\n",
    "import numpy as np\n",
    "import pandas as pd\n",
    "import matplotlib.pyplot as plt"
   ]
  },
  {
   "cell_type": "markdown",
   "metadata": {},
   "source": [
    "# Datasets"
   ]
  },
  {
   "cell_type": "code",
   "execution_count": 2,
   "metadata": {},
   "outputs": [
    {
     "name": "stdout",
     "output_type": "stream",
     "text": [
      "(1860, 8)\n"
     ]
    },
    {
     "data": {
      "text/html": [
       "<div>\n",
       "<style>\n",
       "    .dataframe thead tr:only-child th {\n",
       "        text-align: right;\n",
       "    }\n",
       "\n",
       "    .dataframe thead th {\n",
       "        text-align: left;\n",
       "    }\n",
       "\n",
       "    .dataframe tbody tr th {\n",
       "        vertical-align: top;\n",
       "    }\n",
       "</style>\n",
       "<table border=\"1\" class=\"dataframe\">\n",
       "  <thead>\n",
       "    <tr style=\"text-align: right;\">\n",
       "      <th></th>\n",
       "      <th>message_id</th>\n",
       "      <th>response_id</th>\n",
       "      <th>article_id</th>\n",
       "      <th>empathy</th>\n",
       "      <th>distress</th>\n",
       "      <th>empathy_bin</th>\n",
       "      <th>distress_bin</th>\n",
       "      <th>essay</th>\n",
       "    </tr>\n",
       "  </thead>\n",
       "  <tbody>\n",
       "    <tr>\n",
       "      <th>0</th>\n",
       "      <td>R_1hGrPtWM4SumG0U_1</td>\n",
       "      <td>R_1hGrPtWM4SumG0U</td>\n",
       "      <td>67</td>\n",
       "      <td>5.667</td>\n",
       "      <td>4.375</td>\n",
       "      <td>1</td>\n",
       "      <td>1</td>\n",
       "      <td>it is really diheartening to read about these ...</td>\n",
       "    </tr>\n",
       "    <tr>\n",
       "      <th>1</th>\n",
       "      <td>R_1hGrPtWM4SumG0U_2</td>\n",
       "      <td>R_1hGrPtWM4SumG0U</td>\n",
       "      <td>86</td>\n",
       "      <td>4.833</td>\n",
       "      <td>4.875</td>\n",
       "      <td>1</td>\n",
       "      <td>1</td>\n",
       "      <td>the phone lines from the suicide prevention li...</td>\n",
       "    </tr>\n",
       "    <tr>\n",
       "      <th>2</th>\n",
       "      <td>R_1hGrPtWM4SumG0U_3</td>\n",
       "      <td>R_1hGrPtWM4SumG0U</td>\n",
       "      <td>206</td>\n",
       "      <td>5.333</td>\n",
       "      <td>3.500</td>\n",
       "      <td>1</td>\n",
       "      <td>0</td>\n",
       "      <td>no matter what your heritage, you should be ab...</td>\n",
       "    </tr>\n",
       "    <tr>\n",
       "      <th>3</th>\n",
       "      <td>R_1hGrPtWM4SumG0U_4</td>\n",
       "      <td>R_1hGrPtWM4SumG0U</td>\n",
       "      <td>290</td>\n",
       "      <td>4.167</td>\n",
       "      <td>5.250</td>\n",
       "      <td>1</td>\n",
       "      <td>1</td>\n",
       "      <td>it is frightening to learn about all these sha...</td>\n",
       "    </tr>\n",
       "    <tr>\n",
       "      <th>4</th>\n",
       "      <td>R_1hGrPtWM4SumG0U_5</td>\n",
       "      <td>R_1hGrPtWM4SumG0U</td>\n",
       "      <td>342</td>\n",
       "      <td>5.333</td>\n",
       "      <td>4.625</td>\n",
       "      <td>1</td>\n",
       "      <td>1</td>\n",
       "      <td>the eldest generation of russians aren't being...</td>\n",
       "    </tr>\n",
       "  </tbody>\n",
       "</table>\n",
       "</div>"
      ],
      "text/plain": [
       "            message_id        response_id  article_id  empathy  distress  \\\n",
       "0  R_1hGrPtWM4SumG0U_1  R_1hGrPtWM4SumG0U          67    5.667     4.375   \n",
       "1  R_1hGrPtWM4SumG0U_2  R_1hGrPtWM4SumG0U          86    4.833     4.875   \n",
       "2  R_1hGrPtWM4SumG0U_3  R_1hGrPtWM4SumG0U         206    5.333     3.500   \n",
       "3  R_1hGrPtWM4SumG0U_4  R_1hGrPtWM4SumG0U         290    4.167     5.250   \n",
       "4  R_1hGrPtWM4SumG0U_5  R_1hGrPtWM4SumG0U         342    5.333     4.625   \n",
       "\n",
       "   empathy_bin  distress_bin  \\\n",
       "0            1             1   \n",
       "1            1             1   \n",
       "2            1             0   \n",
       "3            1             1   \n",
       "4            1             1   \n",
       "\n",
       "                                               essay  \n",
       "0  it is really diheartening to read about these ...  \n",
       "1  the phone lines from the suicide prevention li...  \n",
       "2  no matter what your heritage, you should be ab...  \n",
       "3  it is frightening to learn about all these sha...  \n",
       "4  the eldest generation of russians aren't being...  "
      ]
     },
     "execution_count": 2,
     "metadata": {},
     "output_type": "execute_result"
    }
   ],
   "source": [
    "empathy_messages_df = pd.read_csv('data/responses/data/messages.csv')\n",
    "print(empathy_messages_df.shape)\n",
    "empathy_messages_df.head()"
   ]
  },
  {
   "cell_type": "code",
   "execution_count": 3,
   "metadata": {
    "collapsed": true
   },
   "outputs": [],
   "source": [
    "# regression_empathy_df = pd.read_csv('lexica/regression_weights/dd_EmpathyLex.csv', index_col=0)"
   ]
  },
  {
   "cell_type": "code",
   "execution_count": 4,
   "metadata": {
    "collapsed": true
   },
   "outputs": [],
   "source": [
    "# mixed_ffn_empathy_df = pd.read_csv('lexica/mixed_level_ffn/empathy_ratings.tsv', sep='\\t', index_col=0)"
   ]
  },
  {
   "cell_type": "markdown",
   "metadata": {},
   "source": [
    "# Distributions"
   ]
  },
  {
   "cell_type": "code",
   "execution_count": 5,
   "metadata": {
    "collapsed": true
   },
   "outputs": [],
   "source": [
    "xlabel='Ratings'\n",
    "ylabel='Counts'\n",
    "bins=None"
   ]
  },
  {
   "cell_type": "markdown",
   "metadata": {},
   "source": [
    "### Empathy"
   ]
  },
  {
   "cell_type": "code",
   "execution_count": 6,
   "metadata": {},
   "outputs": [
    {
     "data": {
      "image/png": "[encoded data removed]",
      "text/plain": [
       "<matplotlib.figure.Figure at 0x1145d8cf8>"
      ]
     },
     "metadata": {},
     "output_type": "display_data"
    }
   ],
   "source": [
    "plt.xlabel(xlabel)\n",
    "plt.ylabel(ylabel)\n",
    "plt.title('Histogram of Gold-Standard State Empathy')\n",
    "plt.hist(empathy_messages_df['empathy'], bins=bins);"
   ]
  },
  {
   "cell_type": "markdown",
   "metadata": {},
   "source": [
    "### Distress"
   ]
  },
  {
   "cell_type": "code",
   "execution_count": 7,
   "metadata": {
    "scrolled": false
   },
   "outputs": [
    {
     "data": {
      "image/png": "[encoded data removed]",
      "text/plain": [
       "<matplotlib.figure.Figure at 0x118c99e48>"
      ]
     },
     "metadata": {},
     "output_type": "display_data"
    }
   ],
   "source": [
    "plt.xlabel(xlabel)\n",
    "plt.ylabel(ylabel)\n",
    "plt.title('Histogram of Gold-Standard State Distress')\n",
    "plt.hist(empathy_messages_df['distress'], bins=bins);"
   ]
  },
  {
   "cell_type": "markdown",
   "metadata": {},
   "source": [
    "# Correlation"
   ]
  },
  {
   "cell_type": "code",
   "execution_count": 8,
   "metadata": {
    "collapsed": true
   },
   "outputs": [],
   "source": [
    "from scipy import stats as st\n",
    "\n",
    "def correlation(true, pred):\n",
    "    result=st.pearsonr(true,pred)\n",
    "    return result\n",
    "\n",
    "correlations={}\n",
    "group_key = 'message_id'\n",
    "weight_key = 'group_norm'\n",
    "top_N = 'false'\n",
    "N = 20"
   ]
  },
  {
   "cell_type": "code",
   "execution_count": 9,
   "metadata": {},
   "outputs": [
    {
     "name": "stdout",
     "output_type": "stream",
     "text": [
      "(1674, 2)\n"
     ]
    },
    {
     "data": {
      "text/html": [
       "<div>\n",
       "<style>\n",
       "    .dataframe thead tr:only-child th {\n",
       "        text-align: right;\n",
       "    }\n",
       "\n",
       "    .dataframe thead th {\n",
       "        text-align: left;\n",
       "    }\n",
       "\n",
       "    .dataframe tbody tr th {\n",
       "        vertical-align: top;\n",
       "    }\n",
       "</style>\n",
       "<table border=\"1\" class=\"dataframe\">\n",
       "  <thead>\n",
       "    <tr style=\"text-align: right;\">\n",
       "      <th></th>\n",
       "      <th>id</th>\n",
       "      <th>test_fold</th>\n",
       "    </tr>\n",
       "  </thead>\n",
       "  <tbody>\n",
       "    <tr>\n",
       "      <th>0</th>\n",
       "      <td>R_3rPu02mAYdW61Xg_2</td>\n",
       "      <td>0</td>\n",
       "    </tr>\n",
       "    <tr>\n",
       "      <th>1</th>\n",
       "      <td>R_3kp1NhG01T0k5mf_3</td>\n",
       "      <td>0</td>\n",
       "    </tr>\n",
       "    <tr>\n",
       "      <th>2</th>\n",
       "      <td>R_1FPPdbnLwSGuNfD_2</td>\n",
       "      <td>0</td>\n",
       "    </tr>\n",
       "    <tr>\n",
       "      <th>3</th>\n",
       "      <td>R_1eVIE8HYgaJnhyF_5</td>\n",
       "      <td>0</td>\n",
       "    </tr>\n",
       "    <tr>\n",
       "      <th>4</th>\n",
       "      <td>R_2Ua8QrptM9JbrQW_5</td>\n",
       "      <td>0</td>\n",
       "    </tr>\n",
       "  </tbody>\n",
       "</table>\n",
       "</div>"
      ],
      "text/plain": [
       "                    id  test_fold\n",
       "0  R_3rPu02mAYdW61Xg_2          0\n",
       "1  R_3kp1NhG01T0k5mf_3          0\n",
       "2  R_1FPPdbnLwSGuNfD_2          0\n",
       "3  R_1eVIE8HYgaJnhyF_5          0\n",
       "4  R_2Ua8QrptM9JbrQW_5          0"
      ]
     },
     "execution_count": 9,
     "metadata": {},
     "output_type": "execute_result"
    }
   ],
   "source": [
    "empathy_id_to_test_fold_df = pd.read_csv('modeling/main/crossvalidation/results/empathy_id_to_test_fold.tsv', sep='\\t', index_col=0)\n",
    "print(empathy_id_to_test_fold_df.shape)\n",
    "empathy_id_to_test_fold_df.head()"
   ]
  },
  {
   "cell_type": "code",
   "execution_count": 10,
   "metadata": {
    "collapsed": true
   },
   "outputs": [],
   "source": [
    "from nltk.tokenize import wordpunct_tokenize as tokenize\n",
    "from collections import Counter"
   ]
  },
  {
   "cell_type": "code",
   "execution_count": 11,
   "metadata": {},
   "outputs": [
    {
     "name": "stdout",
     "output_type": "stream",
     "text": [
      "Mean Binary Rating average 2-tailed p-value for empathy: 0.6164351986256371\n",
      "Mean Binary Rating average 2-tailed p-value for distress: 0.583025167002748\n"
     ]
    }
   ],
   "source": [
    "results = {}\n",
    "results_key = 'mean_binary'\n",
    "correlations_key = 'Mean Binary Rating'\n",
    "\n",
    "for emo in ['empathy', 'distress']:\n",
    "    predict_key = f'avg(empathy.{emo}_bin)'\n",
    "    results[emo] = []\n",
    "    p_values = []\n",
    "    \n",
    "    for i in range(10):\n",
    "        test_message_fold_df = empathy_id_to_test_fold_df[empathy_id_to_test_fold_df['test_fold']==i]\n",
    "        test_messages_df = empathy_messages_df.merge(test_message_fold_df, left_on='message_id', right_on='id')\n",
    "        \n",
    "        empathy_1grams = []\n",
    "        for _, row in test_messages_df.iterrows():\n",
    "            tokens = tokenize(row['essay'])\n",
    "            c = Counter(tokens)\n",
    "            c_sum = sum(c.values())\n",
    "            for token, count in c.items():\n",
    "                token_dict = {group_key: row[group_key], 'feat': token, 'value': count, 'group_norm': count/c_sum}\n",
    "                empathy_1grams.append(token_dict)\n",
    "                \n",
    "        empathy_1grams_df = pd.DataFrame.from_dict(empathy_1grams)\n",
    "        \n",
    "        mean_ratings_df = pd.read_csv(f'lexica/mean_ratings/empathy_ratings_{i}.csv')\n",
    "        merge_df = empathy_1grams_df.merge(mean_ratings_df, left_on='feat', right_on='feat', suffixes=('', '_2'))\n",
    "\n",
    "        working_df = merge_df\n",
    "        working_df['weighted_prediction'] = working_df[weight_key]*working_df[predict_key]\n",
    "\n",
    "        if top_N:\n",
    "            # Find top/bottom N predictions for empathy and top N predictions for distress.\n",
    "            sorted_df = working_df.groupby('feat').max().sort_values(predict_key, ascending=False)\n",
    "            top_feats = sorted_df.index\n",
    "\n",
    "            drop_indices = list(range(N, len(sorted_df)-N)) if emo == 'empathy' else list(range(N, len(sorted_df)))\n",
    "            top_feats = top_feats.drop(top_feats[drop_indices])\n",
    "            filtered_df = working_df[working_df['feat'].isin(top_feats)]\n",
    "            working_df = filtered_df\n",
    "\n",
    "        # Correlate the weighted sum of predictions for the top/bottom features with user-level ratings.\n",
    "        grouped_df = working_df.groupby(group_key).sum()\n",
    "        grouped_df = grouped_df.reset_index()\n",
    "        \n",
    "        final_df = grouped_df.merge(empathy_messages_df)\n",
    "        result, two_tailed_p_value = correlation(final_df[emo], final_df['weighted_prediction'])\n",
    "        results[emo].append(result)\n",
    "        p_values.append(two_tailed_p_value)\n",
    "    \n",
    "    results[emo] = np.mean(results[emo])\n",
    "    print(f'{correlations_key} average 2-tailed p-value for {emo}: {np.mean(p_values)}')\n",
    "\n",
    "correlations[correlations_key] = results"
   ]
  },
  {
   "cell_type": "code",
   "execution_count": 12,
   "metadata": {},
   "outputs": [
    {
     "name": "stdout",
     "output_type": "stream",
     "text": [
      "Mean Star Rating average 2-tailed p-value for empathy: 0.45134337807433444\n",
      "Mean Star Rating average 2-tailed p-value for distress: 0.8035187466158679\n"
     ]
    }
   ],
   "source": [
    "results = {}\n",
    "results_key = 'mean_star'\n",
    "correlations_key = 'Mean Star Rating'\n",
    "\n",
    "for emo in ['empathy', 'distress']:\n",
    "    predict_key = f'avg(empathy.{emo})'\n",
    "    results[emo] = []\n",
    "    p_values = []\n",
    "    \n",
    "    for i in range(10):\n",
    "        test_message_fold_df = empathy_id_to_test_fold_df[empathy_id_to_test_fold_df['test_fold']==i]\n",
    "        test_messages_df = empathy_messages_df.merge(test_message_fold_df, left_on='message_id', right_on='id')\n",
    "        \n",
    "        empathy_1grams = []\n",
    "        for _, row in test_messages_df.iterrows():\n",
    "            tokens = tokenize(row['essay'])\n",
    "            c = Counter(tokens)\n",
    "            c_sum = sum(c.values())\n",
    "            for token, count in c.items():\n",
    "                token_dict = {group_key: row[group_key], 'feat': token, 'value': count, 'group_norm': count/c_sum}\n",
    "                empathy_1grams.append(token_dict)\n",
    "                \n",
    "        empathy_1grams_df = pd.DataFrame.from_dict(empathy_1grams)\n",
    "        \n",
    "        mean_ratings_df = pd.read_csv(f'lexica/mean_ratings/empathy_ratings_{i}.csv')\n",
    "        merge_df = empathy_1grams_df.merge(mean_ratings_df, left_on='feat', right_on='feat', suffixes=('', '_2'))\n",
    "\n",
    "        working_df = merge_df\n",
    "        working_df['weighted_prediction'] = working_df[weight_key]*working_df[predict_key]\n",
    "\n",
    "        if top_N:\n",
    "            # Find top/bottom N predictions for empathy and top N predictions for distress.\n",
    "            sorted_df = working_df.groupby('feat').max().sort_values(predict_key, ascending=False)\n",
    "            top_feats = sorted_df.index\n",
    "\n",
    "            drop_indices = list(range(N, len(sorted_df)-N)) if emo == 'empathy' else list(range(N, len(sorted_df)))\n",
    "            top_feats = top_feats.drop(top_feats[drop_indices])\n",
    "            filtered_df = working_df[working_df['feat'].isin(top_feats)]\n",
    "            working_df = filtered_df\n",
    "\n",
    "        # Correlate the weighted sum of predictions for the top/bottom features with user-level ratings.\n",
    "        grouped_df = working_df.groupby(group_key).sum()\n",
    "        grouped_df = grouped_df.reset_index()\n",
    "        \n",
    "        final_df = grouped_df.merge(empathy_messages_df)\n",
    "        result, two_tailed_p_value = correlation(final_df[emo], final_df['weighted_prediction'])\n",
    "        results[emo].append(result)\n",
    "        p_values.append(two_tailed_p_value)\n",
    "    \n",
    "    results[emo] = np.mean(results[emo])\n",
    "    print(f'{correlations_key} average 2-tailed p-value for {emo}: {np.mean(p_values)}')\n",
    "\n",
    "correlations[correlations_key] = results"
   ]
  },
  {
   "cell_type": "code",
   "execution_count": 13,
   "metadata": {},
   "outputs": [
    {
     "name": "stdout",
     "output_type": "stream",
     "text": [
      "Regression Weights average 2-tailed p-value for empathy: 0.09837546298426234\n",
      "Regression Weights average 2-tailed p-value for distress: 0.30095551949991206\n"
     ]
    }
   ],
   "source": [
    "results = {}\n",
    "results_key = 'regression_weights'\n",
    "correlations_key = 'Regression Weights'\n",
    "\n",
    "for emo in ['empathy', 'distress']:\n",
    "    predict_key = f'weight'\n",
    "    results[emo] = []\n",
    "    p_values = []\n",
    "    \n",
    "    for i in range(10):\n",
    "        test_message_fold_df = empathy_id_to_test_fold_df[empathy_id_to_test_fold_df['test_fold']==i]\n",
    "        test_messages_df = empathy_messages_df.merge(test_message_fold_df, left_on='message_id', right_on='id')\n",
    "        \n",
    "        empathy_1grams = []\n",
    "        for _, row in test_messages_df.iterrows():\n",
    "            tokens = tokenize(row['essay'])\n",
    "            c = Counter(tokens)\n",
    "            c_sum = sum(c.values())\n",
    "            for token, count in c.items():\n",
    "                token_dict = {group_key: row[group_key], 'feat': token, 'value': count, 'group_norm': count/c_sum}\n",
    "                empathy_1grams.append(token_dict)\n",
    "                \n",
    "        empathy_1grams_df = pd.DataFrame.from_dict(empathy_1grams)\n",
    "        \n",
    "        regression_weights_df = pd.read_csv(f'lexica/regression_weights/dd_{emo.capitalize()}Lex{i}.csv')\n",
    "        merge_df = empathy_1grams_df.merge(regression_weights_df, left_on='feat', right_on='term', suffixes=('', '_2'))\n",
    "\n",
    "        working_df = merge_df\n",
    "        working_df['weighted_prediction'] = working_df[weight_key]*working_df[predict_key]\n",
    "\n",
    "        if top_N:\n",
    "            # Find top/bottom N predictions for empathy and top N predictions for distress.\n",
    "            sorted_df = working_df.groupby('feat').max().sort_values(predict_key, ascending=False)\n",
    "            top_feats = sorted_df.index\n",
    "\n",
    "            drop_indices = list(range(N, len(sorted_df)-N)) if emo == 'empathy' else list(range(N, len(sorted_df)))\n",
    "            top_feats = top_feats.drop(top_feats[drop_indices])\n",
    "            filtered_df = working_df[working_df['feat'].isin(top_feats)]\n",
    "            working_df = filtered_df\n",
    "\n",
    "        # Correlate the weighted sum of predictions for the top/bottom features with user-level ratings.\n",
    "        grouped_df = working_df.groupby(group_key).sum()\n",
    "        grouped_df = grouped_df.reset_index()\n",
    "        \n",
    "        final_df = grouped_df.merge(empathy_messages_df)\n",
    "        result, two_tailed_p_value = correlation(final_df[emo], final_df['weighted_prediction'])\n",
    "        results[emo].append(result)\n",
    "        p_values.append(two_tailed_p_value)\n",
    "    \n",
    "    results[emo] = np.mean(results[emo])\n",
    "    print(f'{correlations_key} average 2-tailed p-value for {emo}: {np.mean(p_values)}')\n",
    "\n",
    "correlations[correlations_key] = results"
   ]
  },
  {
   "cell_type": "code",
   "execution_count": 14,
   "metadata": {
    "scrolled": true
   },
   "outputs": [
    {
     "name": "stdout",
     "output_type": "stream",
     "text": [
      "Mixed-Level FFN average 2-tailed p-value for empathy: 0.2763456185772735\n",
      "Mixed-Level FFN average 2-tailed p-value for distress: 0.5209554558166083\n"
     ]
    }
   ],
   "source": [
    "results = {}\n",
    "results_key = 'mixed_level_ffn'\n",
    "correlations_key = 'Mixed-Level FFN'\n",
    "\n",
    "for emo in ['empathy', 'distress']:\n",
    "    predict_key = f'ratings'\n",
    "    results[emo] = []\n",
    "    p_values = []\n",
    "    \n",
    "    for i in range(10):\n",
    "        test_message_fold_df = empathy_id_to_test_fold_df[empathy_id_to_test_fold_df['test_fold']==i]\n",
    "        test_messages_df = empathy_messages_df.merge(test_message_fold_df, left_on='message_id', right_on='id')\n",
    "        \n",
    "        empathy_1grams = []\n",
    "        for _, row in test_messages_df.iterrows():\n",
    "            tokens = tokenize(row['essay'])\n",
    "            c = Counter(tokens)\n",
    "            c_sum = sum(c.values())\n",
    "            for token, count in c.items():\n",
    "                token_dict = {group_key: row[group_key], 'feat': token, 'value': count, 'group_norm': count/c_sum}\n",
    "                empathy_1grams.append(token_dict)\n",
    "                \n",
    "        empathy_1grams_df = pd.DataFrame.from_dict(empathy_1grams)\n",
    "        \n",
    "        mixed_ffn_df = pd.read_csv(f'modeling/main/crossvalidation/results/distress_ratings_{i}.tsv', sep='\\t')\n",
    "        merge_df = empathy_1grams_df.merge(mixed_ffn_df, left_on='feat', right_on='tokens', suffixes=('', '_2'))\n",
    "\n",
    "        working_df = merge_df\n",
    "        working_df['weighted_prediction'] = working_df[weight_key]*working_df[predict_key]\n",
    "\n",
    "        if top_N:\n",
    "            # Find top/bottom N predictions for empathy and top N predictions for distress.\n",
    "            sorted_df = working_df.groupby('feat').max().sort_values(predict_key, ascending=False)\n",
    "            top_feats = sorted_df.index\n",
    "\n",
    "            drop_indices = list(range(N, len(sorted_df)-N)) if emo == 'empathy' else list(range(N, len(sorted_df)))\n",
    "            top_feats = top_feats.drop(top_feats[drop_indices])\n",
    "            filtered_df = working_df[working_df['feat'].isin(top_feats)]\n",
    "            working_df = filtered_df\n",
    "\n",
    "        # Correlate the weighted sum of predictions for the top/bottom features with user-level ratings.\n",
    "        grouped_df = working_df.groupby(group_key).sum()\n",
    "        grouped_df = grouped_df.reset_index()\n",
    "        \n",
    "        final_df = grouped_df.merge(empathy_messages_df)\n",
    "        result, two_tailed_p_value = correlation(final_df[emo], final_df['weighted_prediction'])\n",
    "        results[emo].append(result)\n",
    "        p_values.append(two_tailed_p_value)\n",
    "    \n",
    "    results[emo] = np.mean(results[emo])\n",
    "    print(f'{correlations_key} average 2-tailed p-value for {emo}: {np.mean(p_values)}')\n",
    "\n",
    "correlations[correlations_key] = results"
   ]
  },
  {
   "cell_type": "code",
   "execution_count": 15,
   "metadata": {},
   "outputs": [
    {
     "data": {
      "text/html": [
       "<div>\n",
       "<style>\n",
       "    .dataframe thead tr:only-child th {\n",
       "        text-align: right;\n",
       "    }\n",
       "\n",
       "    .dataframe thead th {\n",
       "        text-align: left;\n",
       "    }\n",
       "\n",
       "    .dataframe tbody tr th {\n",
       "        vertical-align: top;\n",
       "    }\n",
       "</style>\n",
       "<table border=\"1\" class=\"dataframe\">\n",
       "  <thead>\n",
       "    <tr style=\"text-align: right;\">\n",
       "      <th></th>\n",
       "      <th>Empathy</th>\n",
       "      <th>Distress</th>\n",
       "      <th>Mean</th>\n",
       "    </tr>\n",
       "  </thead>\n",
       "  <tbody>\n",
       "    <tr>\n",
       "      <th>Mean Binary Rating</th>\n",
       "      <td>0.052866</td>\n",
       "      <td>-0.007385</td>\n",
       "      <td>0.022741</td>\n",
       "    </tr>\n",
       "    <tr>\n",
       "      <th>Mixed-Level FFN</th>\n",
       "      <td>0.165525</td>\n",
       "      <td>-0.051921</td>\n",
       "      <td>0.056802</td>\n",
       "    </tr>\n",
       "    <tr>\n",
       "      <th>Mean Star Rating</th>\n",
       "      <td>0.134575</td>\n",
       "      <td>-0.008075</td>\n",
       "      <td>0.063250</td>\n",
       "    </tr>\n",
       "    <tr>\n",
       "      <th>Regression Weights</th>\n",
       "      <td>0.156625</td>\n",
       "      <td>0.102676</td>\n",
       "      <td>0.129651</td>\n",
       "    </tr>\n",
       "  </tbody>\n",
       "</table>\n",
       "</div>"
      ],
      "text/plain": [
       "                     Empathy  Distress      Mean\n",
       "Mean Binary Rating  0.052866 -0.007385  0.022741\n",
       "Mixed-Level FFN     0.165525 -0.051921  0.056802\n",
       "Mean Star Rating    0.134575 -0.008075  0.063250\n",
       "Regression Weights  0.156625  0.102676  0.129651"
      ]
     },
     "execution_count": 15,
     "metadata": {},
     "output_type": "execute_result"
    }
   ],
   "source": [
    "correlations_df = pd.DataFrame(correlations).transpose()\n",
    "correlations_df = correlations_df[['empathy', 'distress']]\n",
    "correlations_df = correlations_df.rename(index=str, columns={\"empathy\": \"Empathy\", \"distress\": \"Distress\"})\n",
    "correlations_df['Mean'] = correlations_df.mean(axis=1)\n",
    "correlations_df = correlations_df.sort_values('Mean')\n",
    "correlations_df"
   ]
  }
 ],
 "metadata": {
  "kernelspec": {
   "display_name": "Python 3",
   "language": "python",
   "name": "python3"
  },
  "language_info": {
   "codemirror_mode": {
    "name": "ipython",
    "version": 3
   },
   "file_extension": ".py",
   "mimetype": "text/x-python",
   "name": "python",
   "nbconvert_exporter": "python",
   "pygments_lexer": "ipython3",
   "version": "3.6.3"
  }
 },
 "nbformat": 4,
 "nbformat_minor": 2
}
