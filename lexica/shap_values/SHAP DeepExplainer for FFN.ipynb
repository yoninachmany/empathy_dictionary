{
 "cells": [
  {
   "cell_type": "code",
   "execution_count": 1,
   "metadata": {},
   "outputs": [
    {
     "name": "stderr",
     "output_type": "stream",
     "text": [
      "Using TensorFlow backend.\n"
     ]
    },
    {
     "name": "stdout",
     "output_type": "stream",
     "text": [
      "empathy\n",
      "(9356, 300)\n",
      "Seconds: 500.6760849952698\n",
      "distress\n",
      "(9356, 300)\n",
      "Seconds: 462.46398305892944\n",
      "V\n",
      "(15398, 300)\n",
      "Seconds: 778.9386937618256\n",
      "A\n",
      "(15398, 300)\n",
      "Seconds: 819.3938302993774\n",
      "D\n",
      "(15398, 300)\n",
      "Seconds: 815.7778720855713\n"
     ]
    }
   ],
   "source": [
    "import numpy as np\n",
    "from keras.models import load_model\n",
    "import shap\n",
    "from time import time\n",
    "import pandas as pd\n",
    "\n",
    "for dataset in ['empathy', 'vad_eb']:\n",
    "    ratings = ['empathy', 'distress'] if dataset == 'empathy' else ['V', 'A', 'D']\n",
    "    for rating in ratings:\n",
    "        print(rating)\n",
    "        FEATURES_CENTROID = np.load(f'../mixed_level_ffn/{dataset}_features_centroid.npy')\n",
    "        \n",
    "        TOKENS = np.load(f'../mixed_level_ffn/{dataset}_tokens.npy')\n",
    "        TOKENS_CENTROID = np.load(f'../mixed_level_ffn/{dataset}_tokens_centroid.npy')\n",
    "        \n",
    "        model = load_model(f'../mixed_level_ffn/model_{rating}.h5')\n",
    "        \n",
    "        # we use the first 100 examples as our background dataset to integrate over\n",
    "        explainer = shap.DeepExplainer(model, FEATURES_CENTROID[:100])\n",
    "\n",
    "        # explain all the predictions\n",
    "        # explaining each prediction requires 2 * background dataset size runs\n",
    "        print(TOKENS_CENTROID.shape)\n",
    "        start = time()\n",
    "        shap_values = explainer.shap_values(TOKENS_CENTROID)\n",
    "        print(f'Seconds: {time()-start}')\n",
    "        \n",
    "        results = {'tokens': TOKENS, 'values': shap_values[0].mean(axis=1)}\n",
    "        results_df = pd.DataFrame(results)\n",
    "        results_df.to_csv(f'{rating}_values.csv')"
   ]
  },
  {
   "cell_type": "code",
   "execution_count": null,
   "metadata": {
    "collapsed": true
   },
   "outputs": [],
   "source": []
  }
 ],
 "metadata": {
  "kernelspec": {
   "display_name": "Python 3",
   "language": "python",
   "name": "python3"
  },
  "language_info": {
   "codemirror_mode": {
    "name": "ipython",
    "version": 3
   },
   "file_extension": ".py",
   "mimetype": "text/x-python",
   "name": "python",
   "nbconvert_exporter": "python",
   "pygments_lexer": "ipython3",
   "version": "3.6.3"
  }
 },
 "nbformat": 4,
 "nbformat_minor": 2
}
